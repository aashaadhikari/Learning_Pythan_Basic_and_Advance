{
 "cells": [
  {
   "cell_type": "markdown",
   "id": "2604dd88-9c35-4049-9a8e-0b665cdd73c5",
   "metadata": {},
   "source": [
    "# Exercise - Basics\n",
    "\n",
    "## Topic Covered\n",
    "This exercise goes over:\n",
    "* Variables\n",
    "* operators\n",
    "* conditional statement\n",
    "* LIst\n",
    "* Dictionery\n",
    "* Loops\n",
    "\n",
    "# Question\n",
    "Write a Python script to find out what jobs you are qualified based on a set of skills. The script will evaluate a list of job roles, each associated with its own set of required skills, against the skills you have. Determine which roles you're potentially qualified for and print out these roles. If there are no roles that match your skills, print a message saying there are no matching job roles based on the provided skills.\n",
    "\n",
    "We have some pre-defined variables that you will be using:\n",
    "\n",
    "1.`job_roles:` list of dictionaries, where each dictionary represents a different job role within data science. Each dictionary has the key-value pairs:\n",
    "  * `role`: Name of the job role\n",
    "  * `skills:` A list of strings, each representing a skill required for the job\n",
    "2. my_skills: A list of strings, representing the skills you have"
   ]
  },
  {
   "cell_type": "code",
   "execution_count": 12,
   "id": "18d49e14-c941-41da-96e5-af54e139a287",
   "metadata": {},
   "outputs": [],
   "source": [
    "# Define data science job roles and required skills\n",
    "job_roles = [\n",
    "    {'role': 'Data Analyst', 'skills': ['Python', 'SQL', 'Excel']},\n",
    "    {'role': 'Data Scientist', 'skills': ['Python', 'R', 'Machine Learning', 'Deep Learning']},\n",
    "    {'role': 'Machine Learning Engineer', 'skills': ['Python', 'TensorFlow', 'PyTorch', 'Scikit-Learn']},\n",
    "    {'role': 'Data Engineer', 'skills': ['Python', 'Apache Spark', 'Hadoop', 'SQL']},\n",
    "    {'role': 'Business Intelligence Analyst', 'skills': ['Python', 'SQL', 'Tableau', 'Power BI', 'Excel']},\n",
    "    {'role': 'Quantitative Analyst', 'skills': ['R', 'Python', 'MATLAB', 'Statistics']},\n",
    "    {'role': 'Operations Analyst', 'skills': ['Python', 'SQL', 'Data Visualization', 'Process Improvement']},\n",
    "    {'role': 'Database Administrator', 'skills': ['SQL', 'Oracle', 'MySQL', 'Database Management']},\n",
    "    {'role': 'AI Engineer', 'skills': ['Python', 'TensorFlow', 'PyTorch', 'Computer Vision']},\n",
    "    {'role': 'Statistician', 'skills': ['R', 'SAS', 'Python', 'Statistical Modeling']}\n",
    "]\n",
    "# My skills\n",
    "my_skills = ['Python', 'SQL', 'Excel']"
   ]
  },
  {
   "cell_type": "markdown",
   "id": "8e4aa19f-487f-4afe-a453-88d500f4ad38",
   "metadata": {},
   "source": [
    "<b>Step 1</b>. Iterate through each job role in `job_roles` and determine whether or not you have the required skills. Get the roles you are qualified for in a list.\n",
    "\n",
    "Notes:\n",
    "* Create an empty list where we will put the roles we qualify for `qualified_roles`.\n",
    "* Use a `for` loop to go through the jobs.\n",
    "* Nested `for` loop to look through the skills for each role.\n",
    "* An `if` statement checks if the skill in the role is in the list of skills provided.\n",
    "* If it's true then add that role to the `qualified_roles` list we created."
   ]
  },
  {
   "cell_type": "code",
   "execution_count": 13,
   "id": "ff3b197b-1a93-4697-9b7f-f363613fa79e",
   "metadata": {},
   "outputs": [
    {
     "data": {
      "text/plain": [
       "['Data Analyst', 'Business Intelligence Analyst']"
      ]
     },
     "execution_count": 13,
     "metadata": {},
     "output_type": "execute_result"
    }
   ],
   "source": [
    "# Determine which jobs you're qualified for \n",
    "qualified_roles = []\n",
    "\n",
    "for job in job_roles:\n",
    "    # Initialize qualified flag\n",
    "    qualified = True\n",
    "    # Go through each skill in the skills key\n",
    "    for skill in my_skills:\n",
    "        if skill not in job['skills']:\n",
    "            qualified = False\n",
    "            break\n",
    "    if qualified:\n",
    "        # Add the job dictionary to the qualified_jobs list\n",
    "        qualified_roles.append(job['role'])\n",
    "\n",
    "qualified_roles"
   ]
  },
  {
   "cell_type": "code",
   "execution_count": null,
   "id": "286685b4-b70b-4967-811e-7d91724f2350",
   "metadata": {},
   "outputs": [],
   "source": []
  },
  {
   "cell_type": "markdown",
   "id": "82f95b61-66e9-43f8-a855-50a9d0598da7",
   "metadata": {},
   "source": [
    "1.Python Program to Print Hello world!"
   ]
  },
  {
   "cell_type": "code",
   "execution_count": 3,
   "id": "517e5c21-7e85-4810-9be0-1199085cba21",
   "metadata": {},
   "outputs": [
    {
     "name": "stdout",
     "output_type": "stream",
     "text": [
      "Hello World\n"
     ]
    }
   ],
   "source": [
    "print (\"Hello World\")"
   ]
  },
  {
   "cell_type": "markdown",
   "id": "e302680d-8134-47f0-a85b-ef8fd3458879",
   "metadata": {},
   "source": [
    "2.Python Program to Add Two Numbers"
   ]
  },
  {
   "cell_type": "code",
   "execution_count": 4,
   "id": "e4e7d5cd-b419-4519-a8bb-81966f0211a5",
   "metadata": {},
   "outputs": [
    {
     "name": "stdout",
     "output_type": "stream",
     "text": [
      "6\n"
     ]
    }
   ],
   "source": [
    "x =2\n",
    "y =4\n",
    "print(x+y)"
   ]
  },
  {
   "cell_type": "markdown",
   "id": "a5c04aa5-fc1a-430c-a85f-913f600c12a4",
   "metadata": {},
   "source": [
    "3.Python Program to Find the Square Root"
   ]
  },
  {
   "cell_type": "code",
   "execution_count": 7,
   "id": "6209e3e1-a381-4eac-9cf9-96cb5f9efa5d",
   "metadata": {},
   "outputs": [
    {
     "data": {
      "text/plain": [
       "2.8284271247461903"
      ]
     },
     "execution_count": 7,
     "metadata": {},
     "output_type": "execute_result"
    }
   ],
   "source": [
    "from math import sqrt\n",
    "num =8.00\n",
    "squ_root = sqrt(num)\n",
    "squ_root"
   ]
  },
  {
   "cell_type": "markdown",
   "id": "c989fcf7-e939-4a86-80be-0f1b822a37b9",
   "metadata": {},
   "source": [
    "4. Python Program to Calculate the Area of a Triangle"
   ]
  },
  {
   "cell_type": "code",
   "execution_count": 10,
   "id": "06955e13-0ada-427d-802e-f25521a736c1",
   "metadata": {},
   "outputs": [
    {
     "name": "stdout",
     "output_type": "stream",
     "text": [
      "15.0\n"
     ]
    }
   ],
   "source": [
    "b =5\n",
    "h=6\n",
    "area = 1/2 * (b * h)\n",
    "print(area)"
   ]
  },
  {
   "cell_type": "markdown",
   "id": "48a82370-8d59-4a7a-a0dd-10e12f55e23c",
   "metadata": {},
   "source": [
    "5. Python Program to Solve Quadratic Equation\n",
    "   ax2+bx+c=0"
   ]
  },
  {
   "cell_type": "code",
   "execution_count": null,
   "id": "5811e7d1-61e8-4a4a-9692-67b2848acdbd",
   "metadata": {},
   "outputs": [],
   "source": [
    "a =5\n",
    "b =6\n",
    "c=2\n",
    "\n",
    "quadr_equ = a*x**2 + b*x + c "
   ]
  },
  {
   "cell_type": "markdown",
   "id": "1ac10378-0c30-4dfd-8381-fb352510d566",
   "metadata": {},
   "source": [
    "6. python program to swap two variables."
   ]
  },
  {
   "cell_type": "code",
   "execution_count": 2,
   "id": "4175bc38-2cd1-40d6-a7e5-9a56a82e0593",
   "metadata": {},
   "outputs": [
    {
     "name": "stdout",
     "output_type": "stream",
     "text": [
      "the value of x after swapping: 10\n",
      "the value of y after swapping: 5\n"
     ]
    }
   ],
   "source": [
    "x = 5\n",
    "y = 10 \n",
    "\n",
    "temp = x\n",
    "x = y\n",
    "y =temp\n",
    "\n",
    "print(\"the value of x after swapping: {}\" .format(x))\n",
    "print(\"the value of y after swapping: {}\" .format(y))"
   ]
  },
  {
   "cell_type": "markdown",
   "id": "1ccfe542-8099-463c-a23e-98489f93f4a3",
   "metadata": {},
   "source": [
    "7. Python Program to Generate a Random Number"
   ]
  },
  {
   "cell_type": "code",
   "execution_count": 14,
   "id": "24d58923-469d-4e9d-8aeb-9852d69517b8",
   "metadata": {},
   "outputs": [
    {
     "name": "stdout",
     "output_type": "stream",
     "text": [
      "1\n"
     ]
    }
   ],
   "source": [
    "import random\n",
    "print(random.randint(0 , 9))"
   ]
  },
  {
   "cell_type": "markdown",
   "id": "5618423f-310a-441f-b5fe-e904a29c550d",
   "metadata": {},
   "source": [
    "8. Python Program to Convert Kilometers to Miles\n",
    "   1km = 0.621371m"
   ]
  },
  {
   "cell_type": "code",
   "execution_count": 15,
   "id": "e7b8f8f8-9390-4b58-950c-958d4bc4be1f",
   "metadata": {},
   "outputs": [
    {
     "data": {
      "text/plain": [
       "3.106855"
      ]
     },
     "execution_count": 15,
     "metadata": {},
     "output_type": "execute_result"
    }
   ],
   "source": [
    "kilo_meter = 5\n",
    "convert_miles = kilo_meter*0.621371\n",
    "convert_miles"
   ]
  },
  {
   "cell_type": "markdown",
   "id": "0d9de90a-fdd7-4203-a5d4-64a6d3c64aa1",
   "metadata": {},
   "source": [
    "9. Python Program to Convert Celsius To Fahrenheit\n",
    "\n",
    "    (0c * 9/5)+32 = 32f\n",
    "   "
   ]
  },
  {
   "cell_type": "code",
   "execution_count": 20,
   "id": "e32c6390-6b5f-4f0b-964c-5603328a8d18",
   "metadata": {},
   "outputs": [
    {
     "name": "stdin",
     "output_type": "stream",
     "text": [
      "enter the celsius 5\n"
     ]
    },
    {
     "data": {
      "text/plain": [
       "41.0"
      ]
     },
     "execution_count": 20,
     "metadata": {},
     "output_type": "execute_result"
    }
   ],
   "source": [
    "celsius = int(input(\"enter the celsius\"))\n",
    "\n",
    "fahrenhit = (celsius *9/5) + 32 \n",
    "fahrenhit"
   ]
  },
  {
   "cell_type": "markdown",
   "id": "4b8cd65a-6260-43ee-bf05-d21cdadd5c7a",
   "metadata": {},
   "source": [
    "10. Python Program to Check if a Number is Positive, Negative or 0"
   ]
  },
  {
   "cell_type": "code",
   "execution_count": null,
   "id": "7c182f90-11eb-4942-aebe-aa0030d95c50",
   "metadata": {},
   "outputs": [],
   "source": [
    "number = int(input(\"enter the celsius\"))\n",
    "if number > 0:\n",
    "    print(\"Positive\")\n",
    "\n",
    "elif number == 0:\n",
    "     print(\"Zero \")\n",
    "\n",
    "else:\n",
    "    print(\"Negative\")\n"
   ]
  },
  {
   "cell_type": "markdown",
   "id": "b7e6f2e2-2fb0-4841-81d1-7a3bd9820f43",
   "metadata": {},
   "source": [
    "11. Python Program to Check if a Number is Odd or Even"
   ]
  },
  {
   "cell_type": "code",
   "execution_count": 1,
   "id": "06d88396-78b8-4880-9fe6-27bc260d7539",
   "metadata": {},
   "outputs": [
    {
     "name": "stdin",
     "output_type": "stream",
     "text": [
      "Enter the number 5\n"
     ]
    },
    {
     "name": "stdout",
     "output_type": "stream",
     "text": [
      "odd\n"
     ]
    }
   ],
   "source": [
    "number = int(input(\"Enter the number\"))\n",
    "if number%2 == 0:\n",
    "    print(\"even\")\n",
    "\n",
    "else:\n",
    "    print(\"odd\")"
   ]
  },
  {
   "cell_type": "markdown",
   "id": "e6c724db-3ff6-4712-acdb-8cb0c0ae9432",
   "metadata": {},
   "source": [
    "12. Python Program to Check Leap Year"
   ]
  },
  {
   "cell_type": "code",
   "execution_count": 10,
   "id": "160da347-263d-4b88-8723-710751e43e64",
   "metadata": {},
   "outputs": [
    {
     "name": "stdout",
     "output_type": "stream",
     "text": [
      "2025 is not a leap year 2025\n"
     ]
    }
   ],
   "source": [
    "year =2025\n",
    "\n",
    "if (year% 400 == 0) and (year%100 == 0):\n",
    "    print(f\"{year} is a leap year\", year)\n",
    "\n",
    "elif (year % 4 == 0) and(year%10 !=0):\n",
    "    print(f\"{year} is a leap year\", year)\n",
    "\n",
    "else:\n",
    "    print(f\"{year} is not a leap year\", year)\n",
    "    # print(\"{0} is not a leap year\".format(year))"
   ]
  },
  {
   "cell_type": "markdown",
   "id": "53b2bbdc-787b-430a-bb26-1dc1d7467f50",
   "metadata": {},
   "source": [
    "13. Python Program to Find the Largest Among Three Numbers"
   ]
  },
  {
   "cell_type": "code",
   "execution_count": 13,
   "id": "fe03e706-9549-4554-bb47-9d584267225a",
   "metadata": {},
   "outputs": [
    {
     "name": "stdin",
     "output_type": "stream",
     "text": [
      "Enter first number 4\n",
      "Enter second number 5\n",
      "Enter third number 6\n"
     ]
    },
    {
     "name": "stdout",
     "output_type": "stream",
     "text": [
      "largest\n"
     ]
    }
   ],
   "source": [
    "num1 =int(input(\"Enter first number\"))\n",
    "num2 =int(input(\"Enter second number\"))\n",
    "num3 =int(input(\"Enter third number\"))\n",
    "\n",
    "if num1>num2 and num1>num3:\n",
    "    print(\" number first is Largest\")\n",
    "\n",
    "elif num2>num1 and num2>num3:\n",
    "    print(\"number second is largest\")\n",
    "\n",
    "else:\n",
    "    print(\"largest\")"
   ]
  },
  {
   "cell_type": "markdown",
   "id": "5c049e15-131f-43ce-b48e-05d7bc159bba",
   "metadata": {},
   "source": [
    "14. Python Program to Check Prime Number\n",
    "\n",
    "The prime numbers list up to 100 is as follows: 2, 3, 5, 7, 11, 13, 17, 19, 23, 29, 31, 37, 41, 43, 47, 53, 59, 61, 67, 71, 73, 79, 83, 89, 97."
   ]
  },
  {
   "cell_type": "code",
   "execution_count": 21,
   "id": "49f9a2b1-290c-48c1-9413-4a9b6bb9a675",
   "metadata": {},
   "outputs": [
    {
     "name": "stdin",
     "output_type": "stream",
     "text": [
      "Enter first number 29\n"
     ]
    },
    {
     "name": "stdout",
     "output_type": "stream",
     "text": [
      "29 is not a prime number\n"
     ]
    }
   ],
   "source": [
    "number =int(input(\"Enter first number\"))\n",
    "\n",
    "flag = False\n",
    "if number == 0 or number == 1:\n",
    "    print(number, \"is not a prime number\")\n",
    "\n",
    "elif number > 1:\n",
    "    for i in range(2 , number):\n",
    "        if(number % 1) == 0:\n",
    "            flag = True\n",
    "            break\n",
    "\n",
    "    if flag:\n",
    "         print(number, \"is not a prime number\")\n",
    "\n",
    "    else:\n",
    "         print(number, \"is a prime number\")\n",
    "\n"
   ]
  },
  {
   "cell_type": "markdown",
   "id": "9023e6dc-44cc-4595-a947-5515d331e3a6",
   "metadata": {},
   "source": [
    "15. Python Program to Print all Prime Numbers in an Interval"
   ]
  },
  {
   "cell_type": "code",
   "execution_count": 27,
   "id": "8dd9e275-ae03-4ec5-b140-cabfee06affc",
   "metadata": {},
   "outputs": [
    {
     "name": "stdout",
     "output_type": "stream",
     "text": [
      "prime number between 900 and 1000 are:\n",
      "907\n",
      "911\n",
      "919\n",
      "929\n",
      "937\n",
      "941\n",
      "947\n",
      "953\n",
      "967\n",
      "971\n",
      "977\n",
      "983\n",
      "991\n",
      "997\n"
     ]
    }
   ],
   "source": [
    "lower = 900\n",
    "upper = 1000\n",
    "\n",
    "print(\"prime number between\", lower, \"and\", upper, \"are:\")\n",
    "for num in range(lower, upper+1):\n",
    "    if num > 1:\n",
    "        for i in range(2, num):\n",
    "            if (num % i)==0:\n",
    "                break\n",
    "\n",
    "        else:\n",
    "         print(num)"
   ]
  },
  {
   "cell_type": "markdown",
   "id": "ed8fde35-abdd-4a26-ad3c-6a024d7b8482",
   "metadata": {},
   "source": [
    "16. Python Program to Find the Factorial of a Number"
   ]
  },
  {
   "cell_type": "code",
   "execution_count": 28,
   "id": "aab07dbc-f09f-4fbc-be4d-de0b0a1ffae6",
   "metadata": {},
   "outputs": [
    {
     "name": "stdout",
     "output_type": "stream",
     "text": [
      "120\n"
     ]
    }
   ],
   "source": [
    "import math\n",
    "print(math. factorial(5))"
   ]
  },
  {
   "cell_type": "code",
   "execution_count": 33,
   "id": "6518cbee-bb07-4ae5-aa71-2e47394146f0",
   "metadata": {},
   "outputs": [
    {
     "name": "stdout",
     "output_type": "stream",
     "text": [
      "120\n"
     ]
    }
   ],
   "source": [
    "def factorial(n):\n",
    "    if n < 0:\n",
    "        return \"failed\"\n",
    "\n",
    "    if n == 0 or n ==1:\n",
    "         return 1\n",
    "    return n* factorial(n -1)\n",
    "print(factorial(5))"
   ]
  },
  {
   "cell_type": "markdown",
   "id": "bdbf1ab0-22d9-47ee-be73-c5dd85cbe5b6",
   "metadata": {},
   "source": [
    "17. Python Program to Display the multiplication Table"
   ]
  },
  {
   "cell_type": "code",
   "execution_count": 35,
   "id": "d2f0671b-74d9-404f-a7a3-05c8611d0e89",
   "metadata": {},
   "outputs": [
    {
     "name": "stdin",
     "output_type": "stream",
     "text": [
      "Enter first number 5\n"
     ]
    },
    {
     "name": "stdout",
     "output_type": "stream",
     "text": [
      "5x1 =  5\n",
      "5x2 =  10\n",
      "5x3 =  15\n",
      "5x4 =  20\n",
      "5x5 =  25\n",
      "5x6 =  30\n",
      "5x7 =  35\n",
      "5x8 =  40\n",
      "5x9 =  45\n",
      "5x10 =  50\n"
     ]
    }
   ],
   "source": [
    "number =int(input(\"Enter first number\"))\n",
    "for i in range(1, 11):\n",
    "    \n",
    "    print(f\"{number}x{i} = \", number*i)"
   ]
  },
  {
   "cell_type": "markdown",
   "id": "d1c4b9ce-e50e-435c-aaeb-9f8e8b1d873d",
   "metadata": {},
   "source": [
    "18. Python Program to Print the Fibonacci sequence\n",
    "\n",
    "by using loop we can make it fast."
   ]
  },
  {
   "cell_type": "code",
   "execution_count": 53,
   "id": "4293614d-4fd5-41e3-b90c-92685b211a16",
   "metadata": {},
   "outputs": [
    {
     "name": "stdin",
     "output_type": "stream",
     "text": [
      "Enter first number 6\n"
     ]
    },
    {
     "name": "stdout",
     "output_type": "stream",
     "text": [
      "fibonacci sequence\n",
      "0 1 1 2 3 5 "
     ]
    }
   ],
   "source": [
    "nterms =int(input(\"Enter first number\"))\n",
    "\n",
    "a,b = 0,1\n",
    "\n",
    "if nterms <= 0:\n",
    "    print(\" -Ve is Wrong number\")\n",
    "   \n",
    "\n",
    "elif nterms ==1:\n",
    "    print(\"fibonacci sequence upto\", nterms, \":\")\n",
    "    print(a)\n",
    "\n",
    "else:\n",
    "    print(\"fibonacci sequence\")\n",
    "    for i in range(nterms):\n",
    "        print(a, end=\" \")\n",
    "        a,b =b, a+b\n",
    "    "
   ]
  },
  {
   "cell_type": "markdown",
   "id": "6edb0238-10eb-4a00-9806-1410c693b590",
   "metadata": {},
   "source": [
    "# Another Way"
   ]
  },
  {
   "cell_type": "code",
   "execution_count": 7,
   "id": "d1996d36-0587-4479-a3e8-9e02436c4313",
   "metadata": {},
   "outputs": [
    {
     "data": {
      "text/plain": [
       "5"
      ]
     },
     "execution_count": 7,
     "metadata": {},
     "output_type": "execute_result"
    }
   ],
   "source": [
    "def fib(n):\n",
    "    if n == 0:\n",
    "        return 0\n",
    "    elif n == 1:\n",
    "        return 1\n",
    "    else:\n",
    "        return fib(n-1) + fib(n-2)\n",
    "\n",
    "fib(5)\n",
    "        "
   ]
  },
  {
   "cell_type": "markdown",
   "id": "dd35483e-4149-44e5-acb0-12382c4cedba",
   "metadata": {},
   "source": [
    "# Example\n",
    "Create Class : Dog (name, age<default to 3>)\n",
    "\n",
    "Create method : bark() -> <name> is barking !\n",
    " \n",
    "Usage : \n",
    "\n",
    "dog1 = Dog(\"Rocky\")\n",
    "\n",
    "dog1.bark()\n",
    "\n",
    "| Rocky is barking\n",
    " \n",
    "dog1.age\n",
    "| 3"
   ]
  },
  {
   "cell_type": "code",
   "execution_count": 25,
   "id": "fa614c7f-fd11-485d-b24f-15aeaf26d2bc",
   "metadata": {},
   "outputs": [
    {
     "name": "stdout",
     "output_type": "stream",
     "text": [
      "Rocky is barking. It is 3 years\n"
     ]
    }
   ],
   "source": [
    "class Dog:\n",
    "    def __init__(self, name, age = 3):\n",
    "        self.name = name\n",
    "        self.age = age\n",
    "\n",
    "    def bark(self):\n",
    "        print(f\"{self.name} is barking. It is {self.age} years\")\n",
    "\n",
    "obj = Dog(\"Rocky\")\n",
    "obj.bark()\n",
    "\n",
    "        "
   ]
  },
  {
   "cell_type": "markdown",
   "id": "15c063b2-4cd3-47e9-8416-780581c6c7a0",
   "metadata": {},
   "source": [
    " # Class for Complex Number:"
   ]
  },
  {
   "cell_type": "code",
   "execution_count": 31,
   "id": "4d013976-16d9-47b2-a64c-10ca2c174d32",
   "metadata": {},
   "outputs": [],
   "source": [
    "class Complex:\n",
    "    def __init__(self,real,imag):\n",
    "        self.real = real\n",
    "        self.imag = imag\n",
    "\n",
    "    def __str__(self):\n",
    "        if (self.imag < 0):\n",
    "            s =print(f\"({self.real} - {self.imag}i)\")\n",
    "        else:   \n",
    "            print(f\"({self.real} + {self.imag}i)\")\n",
    "        return s\n",
    "        \n",
    "    def Conjugate(self):\n",
    "        imag =self.imag* -1\n",
    "        print(f\"({self.real} + {imag}i)\")"
   ]
  },
  {
   "cell_type": "code",
   "execution_count": 35,
   "id": "5c4077e0-3d5f-43b4-8ab4-2c904b14b502",
   "metadata": {},
   "outputs": [
    {
     "data": {
      "text/plain": [
       "(3, -5)"
      ]
     },
     "execution_count": 35,
     "metadata": {},
     "output_type": "execute_result"
    }
   ],
   "source": [
    "com = Complex(3,-5)\n",
    "com.real,com.imag\n"
   ]
  },
  {
   "cell_type": "code",
   "execution_count": 36,
   "id": "77b3fbbc-872e-4841-9424-1f655a1a39c7",
   "metadata": {},
   "outputs": [
    {
     "name": "stdout",
     "output_type": "stream",
     "text": [
      "(3 - -5i)\n"
     ]
    },
    {
     "ename": "TypeError",
     "evalue": "__str__ returned non-string (type NoneType)",
     "output_type": "error",
     "traceback": [
      "\u001b[1;31m---------------------------------------------------------------------------\u001b[0m",
      "\u001b[1;31mTypeError\u001b[0m                                 Traceback (most recent call last)",
      "Cell \u001b[1;32mIn[36], line 1\u001b[0m\n\u001b[1;32m----> 1\u001b[0m \u001b[38;5;28mprint\u001b[39m(com)\n",
      "\u001b[1;31mTypeError\u001b[0m: __str__ returned non-string (type NoneType)"
     ]
    }
   ],
   "source": [
    "print(com)"
   ]
  },
  {
   "cell_type": "code",
   "execution_count": 37,
   "id": "aa55a196-cd25-4f71-9973-58b8c3dab425",
   "metadata": {},
   "outputs": [
    {
     "name": "stdout",
     "output_type": "stream",
     "text": [
      "(3 + 5i)\n"
     ]
    }
   ],
   "source": [
    "com.Conjugate()"
   ]
  },
  {
   "cell_type": "markdown",
   "id": "7a293ca4-4f19-472d-bd93-f131ef2910f3",
   "metadata": {},
   "source": []
  },
  {
   "cell_type": "code",
   "execution_count": null,
   "id": "95fdfab3-3370-4078-915a-c31f3d772fde",
   "metadata": {},
   "outputs": [],
   "source": []
  },
  {
   "cell_type": "code",
   "execution_count": null,
   "id": "071d241b-313a-4b94-a705-acc3585d647a",
   "metadata": {},
   "outputs": [],
   "source": []
  },
  {
   "cell_type": "markdown",
   "id": "b431932d-7411-43c7-8e82-d95bb552d547",
   "metadata": {},
   "source": [
    "Problem 1: Control Flow with Nested Loops and Complex Logic\n",
    "\n",
    "Write a Python program that simulates a **number guessing game**:\n",
    "1. The program should generate a random number between 1 and 100 and give the user 7 attempts to guess it.\n",
    "2. After each wrong guess, the program should provide a hint whether the guess was too high or too low.\n",
    "3. If the user fails to guess the number within the attempts, the program should reveal the number and ask if they would like to play again.\n",
    " \n",
    " "
   ]
  },
  {
   "cell_type": "code",
   "execution_count": 32,
   "id": "667e5058-58db-4abc-9706-55075f7228f3",
   "metadata": {},
   "outputs": [],
   "source": [
    "from random import randint\n"
   ]
  },
  {
   "cell_type": "code",
   "execution_count": 42,
   "id": "1669a9d9-9505-4481-9c33-602c2d5fc363",
   "metadata": {},
   "outputs": [],
   "source": [
    "def user_guess_number():\n",
    "    secret_number= randint(1,100)\n",
    "  \n",
    "    for guess in range(1, 8):\n",
    "        user_number = int(input(\"Enter the gusses:\"))\n",
    "        if (user_number==secret_number):\n",
    "            print(f\"congrates! you gussed it. The number is {secret_number}. You attempted in {guess} time \")\n",
    "            break\n",
    "            \n",
    "        elif (user_number<secret_number):\n",
    "            print(\"it is low\")\n",
    "            \n",
    "        else:\n",
    "            print(\"it is too high\")\n",
    "\n",
    "    else:\n",
    "        print(\"it's alrady 7 attemps\")\n",
    "    "
   ]
  },
  {
   "cell_type": "code",
   "execution_count": 41,
   "id": "8c9219e9-1c41-4a1c-bf78-2a4c3fc12a49",
   "metadata": {},
   "outputs": [
    {
     "name": "stdin",
     "output_type": "stream",
     "text": [
      "Enter the gusses: 50\n"
     ]
    },
    {
     "name": "stdout",
     "output_type": "stream",
     "text": [
      "it is too high\n"
     ]
    },
    {
     "name": "stdin",
     "output_type": "stream",
     "text": [
      "Enter the gusses: 25\n"
     ]
    },
    {
     "name": "stdout",
     "output_type": "stream",
     "text": [
      "it is too high\n"
     ]
    },
    {
     "name": "stdin",
     "output_type": "stream",
     "text": [
      "Enter the gusses: 10\n"
     ]
    },
    {
     "name": "stdout",
     "output_type": "stream",
     "text": [
      "it is low\n"
     ]
    },
    {
     "name": "stdin",
     "output_type": "stream",
     "text": [
      "Enter the gusses: 20\n"
     ]
    },
    {
     "name": "stdout",
     "output_type": "stream",
     "text": [
      "it is low\n"
     ]
    },
    {
     "name": "stdin",
     "output_type": "stream",
     "text": [
      "Enter the gusses: 23\n"
     ]
    },
    {
     "name": "stdout",
     "output_type": "stream",
     "text": [
      "congrates! you gussed it. The number is 23. You attempted in 6 time \n"
     ]
    }
   ],
   "source": [
    "user_guess_number()"
   ]
  },
  {
   "cell_type": "code",
   "execution_count": null,
   "id": "44368b98-7630-4d83-86bb-8e9d14827fa6",
   "metadata": {},
   "outputs": [],
   "source": []
  },
  {
   "cell_type": "markdown",
   "id": "f1e73b36-a507-42fb-8eee-402d12574b10",
   "metadata": {},
   "source": [
    "OOP Concepts\n",
    "\n",
    "\n",
    "**Create a class `BankAccount` that:**\n",
    "1. Allows a user to create an account by providing a **name** and an initial **balance**.\n",
    "2. Includes methods to **deposit**, **withdraw**, and **check balance**. The withdrawal should not allow an account to go negative.\n",
    "3. Overloads the `+` operator to allow merging of two accounts (sum of their balances) and returns a new account.\n",
    "4. Uses **Inheritance** to create a subclass `SavingsAccount` that adds an interest rate. Implement a method to calculate interest on the balance and update it accordingly.\n",
    " "
   ]
  },
  {
   "cell_type": "code",
   "execution_count": null,
   "id": "9d614767-ae9d-493e-95c5-02980dad6e9c",
   "metadata": {},
   "outputs": [],
   "source": []
  },
  {
   "cell_type": "code",
   "execution_count": 5,
   "id": "05055246-9e91-400d-952c-918338fdef0f",
   "metadata": {},
   "outputs": [
    {
     "name": "stdout",
     "output_type": "stream",
     "text": [
      "You deposited $500.\n",
      "You withdrew $200.\n",
      "Your balance is: $1300.\n",
      "Joint account of Alice and Bob has a total balance of $3300.\n",
      "Your interest for one year is $150.0, and your total balance with interest is $3150.0.\n"
     ]
    }
   ],
   "source": [
    "class BankAccount:\n",
    "    def __init__(self, name, initial_balance):\n",
    "        self.name = name\n",
    "        self.balance = initial_balance  # Corrected variable name\n",
    "\n",
    "    def deposit(self, deposit_amount):\n",
    "        if deposit_amount > 0:\n",
    "            self.balance += deposit_amount\n",
    "            return f\"You deposited ${deposit_amount}.\"\n",
    "        return \"Deposit amount must be greater than zero.\"\n",
    "\n",
    "    def withdraw(self, withdraw_amount):\n",
    "        if self.balance < withdraw_amount:\n",
    "            return \"You don't have sufficient funds.\"\n",
    "        else:\n",
    "            self.balance -= withdraw_amount\n",
    "            return f'You withdrew ${withdraw_amount}.'\n",
    "\n",
    "    def check_balance(self):\n",
    "        return f'Your balance is: ${self.balance}.'\n",
    "\n",
    "    def __add__(self, other):\n",
    "        total_balance = self.balance + other.balance\n",
    "        return f'Joint account of {self.name} and {other.name} has a total balance of ${total_balance}.'\n",
    "\n",
    "\n",
    "class SavingAccount(BankAccount):\n",
    "    def __init__(self, name, balance, rate):\n",
    "        super().__init__(name, balance)\n",
    "        self.rate = rate\n",
    "\n",
    "    def interest(self):\n",
    "        interest = self.balance * self.rate\n",
    "        self.balance += interest\n",
    "        return f\"Your interest for one year is ${interest}, and your total balance with interest is ${self.balance}.\"\n",
    "\n",
    "\n",
    "# Example Usage:\n",
    "account1 = BankAccount(\"Alice\", 1000)\n",
    "account2 = BankAccount(\"Bob\", 2000)\n",
    "\n",
    "print(account1.deposit(500))      # Output: You deposited $500.\n",
    "print(account1.withdraw(200))     # Output: You withdrew $200.\n",
    "print(account1.check_balance())   # Output: Your balance is: $1300.\n",
    "print(account1 + account2)        # Output: Joint account of Alice and Bob has a total balance of $3300.\n",
    "\n",
    "saving_account = SavingAccount(\"Charlie\", 3000, 0.05)\n",
    "print(saving_account.interest())  # Output: Your interest for one year is $150.0, and your total balance with interest is $3150.0.\n"
   ]
  },
  {
   "cell_type": "code",
   "execution_count": null,
   "id": "61c3c002-4821-4509-ab34-c3c79bdd208f",
   "metadata": {},
   "outputs": [],
   "source": []
  },
  {
   "cell_type": "code",
   "execution_count": null,
   "id": "9211caff-8cfe-42d8-b1cc-2be0dab870cd",
   "metadata": {},
   "outputs": [],
   "source": []
  },
  {
   "cell_type": "markdown",
   "id": "829fa07a-78d5-4c94-b675-ecf546942ddd",
   "metadata": {},
   "source": [
    "**File Handling with Data Processing** \n",
    " \n",
    "Write a Python program that:\n",
    "1. Reads data from a text file containing multiple lines, where each line contains a name and a score (e.g., `John, 89`).\n",
    "John, 98\n",
    "Hari, 33\n",
    "Andrew, 43\n",
    "Saimon, 66\n",
    "July, 32\n",
    "hari, 62\n",
    "2. Stores the data in a dictionary and sorts the dictionary by score.\n",
    "3. Writes the sorted data back into a new file, where the highest scores appear first.\n",
    " \n",
    " \n",
    " \n",
    " "
   ]
  },
  {
   "cell_type": "code",
   "execution_count": null,
   "id": "b2a08f8e-2e05-474f-ae32-2de69575649d",
   "metadata": {},
   "outputs": [],
   "source": []
  },
  {
   "cell_type": "code",
   "execution_count": 16,
   "id": "8ac29abf-c966-4042-b5a4-f86f2664486a",
   "metadata": {},
   "outputs": [
    {
     "name": "stdout",
     "output_type": "stream",
     "text": [
      "File 'data.txt' created successfully.\n"
     ]
    }
   ],
   "source": [
    "with open(\"data.txt\", \"w\") as file:\n",
    "    file.write(\"John, 98\\n\")\n",
    "    file.write(\"Hari, 33\\n\")\n",
    "    file.write(\"Andrew, 43\\n\")\n",
    "    file.write(\"Saimon, 66\\n\")\n",
    "    file.write(\"July, 32\\n\")\n",
    "    file.write(\"hari, 62\\n\")\n",
    "\n",
    "print(\"File 'data.txt' created successfully.\")"
   ]
  },
  {
   "cell_type": "code",
   "execution_count": 18,
   "id": "f5b9f794-fcf4-4f0b-8729-cb90f8645ad1",
   "metadata": {},
   "outputs": [],
   "source": [
    "data_dict = {}\n",
    "\n",
    "with open(\"data.txt\", \"r\") as file:\n",
    "    for line in file:\n",
    "        name,score = line.strip().split(\", \")\n",
    "        data_dict[name] = int(score)\n",
    "\n",
    "sorted_data = sorted(data_dict.items(), key = lambda x : x[1], reverse = True)\n",
    "\n",
    "with open(\"sorted_data.txt\", \"w\") as file:\n",
    "    for name, score in sorted_data:\n",
    "        file.write(f\"{name},{score}\\n\")\n",
    "    \n"
   ]
  },
  {
   "cell_type": "code",
   "execution_count": null,
   "id": "369fc95a-dcfa-4c80-8f5c-7e82476c7301",
   "metadata": {},
   "outputs": [],
   "source": []
  },
  {
   "cell_type": "markdown",
   "id": "fd042f9a-10e3-409c-8ea4-54f399f6dcca",
   "metadata": {},
   "source": [
    "# Use the `reduce` funcation to find the greatest common divisor of the list of intiger"
   ]
  },
  {
   "cell_type": "code",
   "execution_count": 22,
   "id": "a36e334d-ae3e-4448-a05b-ed3fb7f1d4d0",
   "metadata": {},
   "outputs": [],
   "source": [
    "from functools import reduce\n",
    "from math import gcd"
   ]
  },
  {
   "cell_type": "code",
   "execution_count": 32,
   "id": "be519aae-beac-4731-8690-29ab41e13709",
   "metadata": {},
   "outputs": [
    {
     "data": {
      "text/plain": [
       "1"
      ]
     },
     "execution_count": 32,
     "metadata": {},
     "output_type": "execute_result"
    }
   ],
   "source": [
    "reduce( gcd, [48,67,82,22])"
   ]
  },
  {
   "cell_type": "code",
   "execution_count": 31,
   "id": "c94f2da4-4650-4c77-845f-50fc632cfa2a",
   "metadata": {},
   "outputs": [
    {
     "data": {
      "text/plain": [
       "16"
      ]
     },
     "execution_count": 31,
     "metadata": {},
     "output_type": "execute_result"
    }
   ],
   "source": [
    "gcd(16,16)"
   ]
  },
  {
   "cell_type": "markdown",
   "id": "c379bb48-5204-4a56-a291-0fb73034a81c",
   "metadata": {},
   "source": [
    "# List Comprehension\n",
    "Given three lists list1, list2, and list3, each containing integers, write a Python program using list comprehension to generate a new list of unique triplets (x, y, z) where x is from list1, y is from list2, and z is from list3, such that x + y + z =10."
   ]
  },
  {
   "cell_type": "code",
   "execution_count": 1,
   "id": "f013beda-64b5-486e-bc61-4a23e3c6fc45",
   "metadata": {},
   "outputs": [],
   "source": []
  },
  {
   "cell_type": "code",
   "execution_count": 6,
   "id": "4c63f7e1-77c5-4bc8-b8e0-d16972f3df70",
   "metadata": {},
   "outputs": [
    {
     "data": {
      "text/plain": [
       "[(2, 6, 2), (5, 3, 2)]"
      ]
     },
     "execution_count": 6,
     "metadata": {},
     "output_type": "execute_result"
    }
   ],
   "source": [
    "list1 =[1,2,4,5]\n",
    "list2 = [3,6,8,9]\n",
    "list3 = [4,7,8,2]\n",
    "list4 = [(x,y,z) for x in list1 for y in list2 for z in list3 if x+y+z == 10]\n",
    "list4"
   ]
  },
  {
   "cell_type": "code",
   "execution_count": null,
   "id": "db1244d6-8d3b-4a98-b611-e12bc5fac0dc",
   "metadata": {},
   "outputs": [],
   "source": []
  },
  {
   "cell_type": "markdown",
   "id": "09e5098d-c9e1-4b0c-b8e1-62d5465f5c05",
   "metadata": {},
   "source": [
    "# Exception Handling\n",
    "Write a Python program that takes user input for age. Create a custom exception InvalidAgeError to handle cases where the age is below 0 or above 120.\n",
    " \n",
    "  Hint: Create new class InvalidAgeError that inherits Exception class"
   ]
  },
  {
   "cell_type": "code",
   "execution_count": 16,
   "id": "d1940d51-3888-45a6-9ec6-0678a29729fb",
   "metadata": {},
   "outputs": [
    {
     "name": "stdin",
     "output_type": "stream",
     "text": [
      "Enter your age -3\n"
     ]
    },
    {
     "ename": "IndentationError",
     "evalue": "age should be between 0 too 120 (<string>)",
     "output_type": "error",
     "traceback": [
      "Traceback \u001b[1;36m(most recent call last)\u001b[0m:\n",
      "\u001b[0m  File \u001b[0;32mC:\\ProgramData\\anaconda3\\Lib\\site-packages\\IPython\\core\\interactiveshell.py:3577\u001b[0m in \u001b[0;35mrun_code\u001b[0m\n    exec(code_obj, self.user_global_ns, self.user_ns)\u001b[0m\n",
      "\u001b[0m  Cell \u001b[0;32mIn[16], line 11\u001b[0m\n    valid_age(10)\u001b[0m\n",
      "\u001b[1;36m  Cell \u001b[1;32mIn[16], line 8\u001b[1;36m in \u001b[1;35mvalid_age\u001b[1;36m\n\u001b[1;33m    raise IndentationError(\"age should be between 0 too 120\")\u001b[1;36m\n",
      "\u001b[1;36m  File \u001b[1;32m<string>\u001b[1;36m\u001b[0m\n\u001b[1;31mIndentationError\u001b[0m\u001b[1;31m:\u001b[0m age should be between 0 too 120\n"
     ]
    }
   ],
   "source": [
    "class invalideAgeError(Exception):\n",
    "    def __init__(self, age, message):\n",
    "        self.age = age\n",
    "        self.message = message\n",
    "\n",
    "def valid_age(age):\n",
    "    age = int(input(\"Enter your age\"))\n",
    "    if age<0 or age>120:\n",
    "        raise IndentationError(\"age should be between 0 too 120\")\n",
    "    print(f\"your age is:{age}\")\n",
    "\n",
    "valid_age(10)\n",
    "\n",
    "        \n",
    "\n",
    "\n",
    "    "
   ]
  },
  {
   "cell_type": "code",
   "execution_count": null,
   "id": "674f04e1-1d68-4963-8452-a2555c6e567f",
   "metadata": {},
   "outputs": [],
   "source": []
  },
  {
   "cell_type": "markdown",
   "id": "d7d33a88-90b1-4733-b342-ab72f5b000b0",
   "metadata": {},
   "source": [
    "# 19 \n",
    "## Python Program to Check Armstrong Number\n",
    "153 is an Armstrong number because \\(1^{3}+5^{3}+3^{3}=153\\) "
   ]
  },
  {
   "cell_type": "code",
   "execution_count": 7,
   "id": "9358a389-f869-48d9-90b8-1ace452a3681",
   "metadata": {},
   "outputs": [
    {
     "name": "stdin",
     "output_type": "stream",
     "text": [
      "Enter a number:  153\n"
     ]
    },
    {
     "name": "stdout",
     "output_type": "stream",
     "text": [
      "153 is an Armstrong number.\n"
     ]
    }
   ],
   "source": [
    "class Armstring:\n",
    "    def __init__(self, number):\n",
    "        self.number = number\n",
    "        \n",
    "    def count_digit(self):\n",
    "        return len(str(self.number))\n",
    "\n",
    "    def calculate_arm(self):\n",
    "        num_digit = self.count_digit()\n",
    "        return sum(int(digit) ** num_digit for digit in str(self.number))\n",
    "\n",
    "    def is_armstrong(self):\n",
    "        return self.number == self.calculate_arm()\n",
    "\n",
    "num = int(input(\"Enter a number: \"))\n",
    "checker = Armstring(num)\n",
    "\n",
    "if checker.is_armstrong():\n",
    "    print(f\"{num} is an Armstrong number.\")\n",
    "else:\n",
    "    print(f\"{num} is not an Armstrong number.\")\n",
    "\n",
    "\n",
    "        "
   ]
  },
  {
   "cell_type": "markdown",
   "id": "9b315ba2-da2d-4035-bd2b-f9c790e921eb",
   "metadata": {},
   "source": [
    "# 20\n",
    "## Python Program to Find Armstrong Number in an Interval"
   ]
  },
  {
   "cell_type": "code",
   "execution_count": 9,
   "id": "2b270813-c39c-4a67-96bd-a25fbcd0d382",
   "metadata": {},
   "outputs": [
    {
     "name": "stdin",
     "output_type": "stream",
     "text": [
      "Enter the lower bound of the interval:  5\n",
      "Enter the upper bound of the interval:  55\n"
     ]
    },
    {
     "name": "stdout",
     "output_type": "stream",
     "text": [
      "Armstrong numbers between 5 and 55 are:\n",
      "5 6 7 8 9 "
     ]
    }
   ],
   "source": [
    "# Function to check if a number is an Armstrong number\n",
    "def is_armstrong(num):\n",
    "    num_digits = len(str(num))\n",
    "    armstrong_sum = sum(int(digit) ** num_digits for digit in str(num))\n",
    "    return num == armstrong_sum\n",
    "\n",
    "# Taking input for the interval\n",
    "lower = int(input(\"Enter the lower bound of the interval: \"))\n",
    "upper = int(input(\"Enter the upper bound of the interval: \"))\n",
    "\n",
    "print(f\"Armstrong numbers between {lower} and {upper} are:\")\n",
    "\n",
    "# Looping through the interval to find Armstrong numbers\n",
    "for num in range(lower, upper + 1):\n",
    "    if is_armstrong(num):\n",
    "        print(num, end=\" \")\n"
   ]
  },
  {
   "cell_type": "markdown",
   "id": "fbf58b30-92c8-4d03-adbf-e4aa2a7731c9",
   "metadata": {},
   "source": [
    "# 21\n",
    "## Python Program to Find the Sum of Natural Numbers"
   ]
  },
  {
   "cell_type": "code",
   "execution_count": 12,
   "id": "6b0a2f69-3dc1-4e9e-8b00-820bdf335af2",
   "metadata": {},
   "outputs": [
    {
     "name": "stdin",
     "output_type": "stream",
     "text": [
      "Enter the first number 3\n",
      "Enter the another number 3\n"
     ]
    },
    {
     "name": "stdout",
     "output_type": "stream",
     "text": [
      "6\n"
     ]
    }
   ],
   "source": [
    "number = int(input(\"Enter the first number\"))\n",
    "number2 =  int(input(\"Enter the another number\"))\n",
    "sum = number + number2\n",
    "print(sum)\n"
   ]
  },
  {
   "cell_type": "code",
   "execution_count": 15,
   "id": "80d26dbe-ec78-405f-b860-679bfe2ac04f",
   "metadata": {},
   "outputs": [
    {
     "name": "stdin",
     "output_type": "stream",
     "text": [
      "Enter the first number 3\n"
     ]
    },
    {
     "name": "stdout",
     "output_type": "stream",
     "text": [
      "the sum is 6\n"
     ]
    }
   ],
   "source": [
    "num = int(input(\"Enter the first number\"))\n",
    "if num < 0:\n",
    "    print(\"enter positive number\")\n",
    "\n",
    "else:\n",
    "    sum = 0\n",
    "    while(num > 0):\n",
    "        sum += num\n",
    "        num -=1\n",
    "    print(\"the sum is\", sum)   "
   ]
  },
  {
   "cell_type": "code",
   "execution_count": 16,
   "id": "4f610e33-773f-4e01-b6c5-497b17639c1d",
   "metadata": {},
   "outputs": [
    {
     "name": "stdin",
     "output_type": "stream",
     "text": [
      "Enter the first number 3\n"
     ]
    },
    {
     "name": "stdout",
     "output_type": "stream",
     "text": [
      "the sum is 6\n"
     ]
    }
   ],
   "source": [
    "num = int(input(\"Enter the first number\"))\n",
    "if num < 0:\n",
    "    print(\"enter positive number\")\n",
    "\n",
    "else:\n",
    "    sum = 0\n",
    "    for i in range(1, num+1):\n",
    "        sum += i\n",
    "\n",
    "    print(\"the sum is\", sum)\n",
    "        "
   ]
  },
  {
   "cell_type": "markdown",
   "id": "6e8795b0-8667-45d3-b196-62c63eb41e77",
   "metadata": {},
   "source": [
    "# 22\n",
    "## Python Program to Display Powers of 2 Using Anonymous(lambda expression) Function"
   ]
  },
  {
   "cell_type": "code",
   "execution_count": 21,
   "id": "41c8b06f-192d-4e92-b237-edfc4e83bfb7",
   "metadata": {},
   "outputs": [
    {
     "name": "stdin",
     "output_type": "stream",
     "text": [
      "Enter the first number 3\n"
     ]
    },
    {
     "name": "stdout",
     "output_type": "stream",
     "text": [
      "1\n",
      "2\n",
      "4\n",
      "<function <lambda> at 0x0000025392939A80>\n"
     ]
    }
   ],
   "source": [
    "num = int(input(\"Enter the first number\"))\n",
    "for i in range(num):\n",
    "    print((lambda num : 2 ** num) (i))\n",
    "print(get_power)"
   ]
  },
  {
   "cell_type": "code",
   "execution_count": 23,
   "id": "e448af3f-0641-4fc1-9837-1e5465051093",
   "metadata": {},
   "outputs": [
    {
     "name": "stdin",
     "output_type": "stream",
     "text": [
      "Enter the first number 3\n"
     ]
    },
    {
     "data": {
      "text/plain": [
       "<function __main__.<lambda>(num)>"
      ]
     },
     "execution_count": 23,
     "metadata": {},
     "output_type": "execute_result"
    }
   ],
   "source": [
    "num = int(input(\"Enter the first number\"))\n",
    "\n",
    "get_power = lambda num : 2 ** num\n",
    "get_power"
   ]
  },
  {
   "cell_type": "markdown",
   "id": "e11b0b31-224e-494c-b212-d2c605d96594",
   "metadata": {},
   "source": [
    "# 23\n",
    "## Python Program to Find Numbers Divisible by Another Number"
   ]
  },
  {
   "cell_type": "code",
   "execution_count": 31,
   "id": "1ab71ffb-1653-4c86-9fef-cde77d568dbd",
   "metadata": {},
   "outputs": [
    {
     "name": "stdin",
     "output_type": "stream",
     "text": [
      "Enter the first number:  44\n",
      "Enter the divisor number:  4\n"
     ]
    },
    {
     "name": "stdout",
     "output_type": "stream",
     "text": [
      "1 is not divisible by 4\n",
      "2 is not divisible by 4\n",
      "3 is not divisible by 4\n",
      "4 is divisible by 4\n",
      "5 is not divisible by 4\n",
      "6 is not divisible by 4\n",
      "7 is not divisible by 4\n",
      "8 is divisible by 4\n",
      "9 is not divisible by 4\n",
      "10 is not divisible by 4\n",
      "11 is not divisible by 4\n",
      "12 is divisible by 4\n",
      "13 is not divisible by 4\n",
      "14 is not divisible by 4\n",
      "15 is not divisible by 4\n",
      "16 is divisible by 4\n",
      "17 is not divisible by 4\n",
      "18 is not divisible by 4\n",
      "19 is not divisible by 4\n",
      "20 is divisible by 4\n",
      "21 is not divisible by 4\n",
      "22 is not divisible by 4\n",
      "23 is not divisible by 4\n",
      "24 is divisible by 4\n",
      "25 is not divisible by 4\n",
      "26 is not divisible by 4\n",
      "27 is not divisible by 4\n",
      "28 is divisible by 4\n",
      "29 is not divisible by 4\n",
      "30 is not divisible by 4\n",
      "31 is not divisible by 4\n",
      "32 is divisible by 4\n",
      "33 is not divisible by 4\n",
      "34 is not divisible by 4\n",
      "35 is not divisible by 4\n",
      "36 is divisible by 4\n",
      "37 is not divisible by 4\n",
      "38 is not divisible by 4\n",
      "39 is not divisible by 4\n",
      "40 is divisible by 4\n",
      "41 is not divisible by 4\n",
      "42 is not divisible by 4\n",
      "43 is not divisible by 4\n",
      "44 is divisible by 4\n"
     ]
    }
   ],
   "source": [
    "num = int(input(\"Enter the first number: \"))\n",
    "divisor = int(input(\"Enter the divisor number: \"))\n",
    "\n",
    "# Iterate through the range from 1 to num\n",
    "for i in range(1, num + 1):\n",
    "    if i % divisor == 0:  # Check if 'i' is divisible by divisor\n",
    "        print(i, \"is divisible by\", divisor)\n",
    "    else:\n",
    "        print(i, \"is not divisible by\", divisor)"
   ]
  },
  {
   "cell_type": "markdown",
   "id": "5d0318a5-9c4c-4559-ac4f-42a209ac4498",
   "metadata": {},
   "source": [
    "# 24\n",
    "## Python Program to Convert Decimal to Binary, Octal and Hexadecimal"
   ]
  },
  {
   "cell_type": "code",
   "execution_count": 32,
   "id": "b6712f94-3d5f-4c47-ba57-7754ac51e343",
   "metadata": {},
   "outputs": [
    {
     "name": "stdin",
     "output_type": "stream",
     "text": [
      "Enter a decimal number:  34\n"
     ]
    },
    {
     "name": "stdout",
     "output_type": "stream",
     "text": [
      "The binary equivalent of 34 is 0b100010\n",
      "The octal equivalent of 34 is 0o42\n",
      "The hexadecimal equivalent of 34 is 0x22\n"
     ]
    }
   ],
   "source": [
    "# Taking input from the user\n",
    "decimal_num = int(input(\"Enter a decimal number: \"))\n",
    "\n",
    "# Convert to binary\n",
    "binary_num = bin(decimal_num)\n",
    "\n",
    "# Convert to octal\n",
    "octal_num = oct(decimal_num)\n",
    "\n",
    "# Convert to hexadecimal\n",
    "hexadecimal_num = hex(decimal_num)\n",
    "\n",
    "# Display the results\n",
    "print(f\"The binary equivalent of {decimal_num} is {binary_num}\")\n",
    "print(f\"The octal equivalent of {decimal_num} is {octal_num}\")\n",
    "print(f\"The hexadecimal equivalent of {decimal_num} is {hexadecimal_num}\")"
   ]
  },
  {
   "cell_type": "code",
   "execution_count": null,
   "id": "f03be86c-6756-4875-9633-f4b9d2a66683",
   "metadata": {},
   "outputs": [],
   "source": []
  }
 ],
 "metadata": {
  "kernelspec": {
   "display_name": "Python 3 (ipykernel)",
   "language": "python",
   "name": "python3"
  },
  "language_info": {
   "codemirror_mode": {
    "name": "ipython",
    "version": 3
   },
   "file_extension": ".py",
   "mimetype": "text/x-python",
   "name": "python",
   "nbconvert_exporter": "python",
   "pygments_lexer": "ipython3",
   "version": "3.12.7"
  }
 },
 "nbformat": 4,
 "nbformat_minor": 5
}
