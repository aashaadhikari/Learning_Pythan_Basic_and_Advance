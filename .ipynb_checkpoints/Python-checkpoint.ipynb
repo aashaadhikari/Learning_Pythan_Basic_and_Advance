{
 "cells": [
  {
   "cell_type": "markdown",
   "id": "7770da07-932b-4b3a-b420-84ba7d5f096e",
   "metadata": {},
   "source": [
    "## pre define function in python"
   ]
  },
  {
   "cell_type": "markdown",
   "id": "2cd9a604-a315-4fe2-8b8d-d7704e8eaa67",
   "metadata": {},
   "source": [
    "# print function also called as built in function\n"
   ]
  },
  {
   "cell_type": "code",
   "execution_count": 1,
   "id": "6dae2aa1-d1c2-48e0-b13d-27bbfe70abf8",
   "metadata": {},
   "outputs": [
    {
     "name": "stdout",
     "output_type": "stream",
     "text": [
      "hello world\n"
     ]
    }
   ],
   "source": [
    "print(\"hello world\")"
   ]
  },
  {
   "cell_type": "code",
   "execution_count": 5,
   "id": "e021379f-0abd-43d5-a073-6d532b37542e",
   "metadata": {},
   "outputs": [
    {
     "name": "stdout",
     "output_type": "stream",
     "text": [
      "hello \n",
      "world \n",
      "python\n"
     ]
    }
   ],
   "source": [
    "print(\"hello\",\"\\nworld\",\"\\npython\")"
   ]
  },
  {
   "cell_type": "markdown",
   "id": "8b265f0c-4152-48e8-aeb1-7ec26ab3e20b",
   "metadata": {},
   "source": [
    "## End argument"
   ]
  },
  {
   "cell_type": "code",
   "execution_count": 9,
   "id": "267f9c7a-fe5d-4a0d-8a2c-1f503fb60368",
   "metadata": {},
   "outputs": [
    {
     "name": "stdout",
     "output_type": "stream",
     "text": [
      "hello python\n"
     ]
    }
   ],
   "source": [
    "print(\"hello\", end =\" \")\n",
    "print(\"python\")"
   ]
  },
  {
   "cell_type": "markdown",
   "id": "ba322dcb-802f-4849-abb6-f77511d25a34",
   "metadata": {},
   "source": [
    "## input function"
   ]
  },
  {
   "cell_type": "code",
   "execution_count": 11,
   "id": "cdf5b84d-5b87-420d-89de-7c28b6d25639",
   "metadata": {},
   "outputs": [
    {
     "name": "stdin",
     "output_type": "stream",
     "text": [
      " seema\n"
     ]
    }
   ],
   "source": [
    "name = input()"
   ]
  },
  {
   "cell_type": "code",
   "execution_count": 12,
   "id": "573fc6e7-0d71-4907-b16c-337a1d9b2f81",
   "metadata": {},
   "outputs": [
    {
     "data": {
      "text/plain": [
       "'seema'"
      ]
     },
     "execution_count": 12,
     "metadata": {},
     "output_type": "execute_result"
    }
   ],
   "source": [
    "name"
   ]
  },
  {
   "cell_type": "code",
   "execution_count": 13,
   "id": "a19f7bcd-b79a-44a7-8e10-4ed131fa2732",
   "metadata": {},
   "outputs": [
    {
     "name": "stdin",
     "output_type": "stream",
     "text": [
      "Enter a number: 55\n"
     ]
    }
   ],
   "source": [
    "num = input(\"Enter a number:\")"
   ]
  },
  {
   "cell_type": "code",
   "execution_count": 14,
   "id": "7caf0cd4-ea0c-48c6-a2c2-6a4871c38916",
   "metadata": {},
   "outputs": [
    {
     "data": {
      "text/plain": [
       "'55'"
      ]
     },
     "execution_count": 14,
     "metadata": {},
     "output_type": "execute_result"
    }
   ],
   "source": [
    "num"
   ]
  },
  {
   "cell_type": "markdown",
   "id": "1efefe4f-d287-43a0-aa14-a1fe67adeb0a",
   "metadata": {},
   "source": [
    "## Math function which is buit in function"
   ]
  },
  {
   "cell_type": "code",
   "execution_count": 15,
   "id": "91686240-793c-481e-9302-a9b77c41a599",
   "metadata": {},
   "outputs": [],
   "source": [
    "import math"
   ]
  },
  {
   "cell_type": "code",
   "execution_count": 16,
   "id": "8771df16-ffa2-4f68-9125-45ba04222cb7",
   "metadata": {},
   "outputs": [
    {
     "data": {
      "text/plain": [
       "2.23606797749979"
      ]
     },
     "execution_count": 16,
     "metadata": {},
     "output_type": "execute_result"
    }
   ],
   "source": [
    "math.sqrt(5)"
   ]
  },
  {
   "cell_type": "code",
   "execution_count": 17,
   "id": "381b536b-5836-4e27-a282-5c9124761703",
   "metadata": {},
   "outputs": [
    {
     "ename": "NameError",
     "evalue": "name 'sqrt' is not defined",
     "output_type": "error",
     "traceback": [
      "\u001b[1;31m---------------------------------------------------------------------------\u001b[0m",
      "\u001b[1;31mNameError\u001b[0m                                 Traceback (most recent call last)",
      "Cell \u001b[1;32mIn[17], line 1\u001b[0m\n\u001b[1;32m----> 1\u001b[0m sqrt(\u001b[38;5;241m5\u001b[39m)\n",
      "\u001b[1;31mNameError\u001b[0m: name 'sqrt' is not defined"
     ]
    }
   ],
   "source": [
    "sqrt(5) # it will give error"
   ]
  },
  {
   "cell_type": "code",
   "execution_count": 19,
   "id": "65f438ad-93bf-4d27-b0be-a51597377c71",
   "metadata": {},
   "outputs": [],
   "source": [
    " c = 5+6j"
   ]
  },
  {
   "cell_type": "code",
   "execution_count": 20,
   "id": "fded706a-c705-417f-8588-62a50b32e6df",
   "metadata": {},
   "outputs": [
    {
     "data": {
      "text/plain": [
       "complex"
      ]
     },
     "execution_count": 20,
     "metadata": {},
     "output_type": "execute_result"
    }
   ],
   "source": [
    "type(c)"
   ]
  },
  {
   "cell_type": "code",
   "execution_count": null,
   "id": "3828d064-9c0d-4aab-9fca-ad3c6f4a9b8b",
   "metadata": {},
   "outputs": [],
   "source": [
    "# \\n is for new line\n",
    "# \\b is for backspace\n",
    "# \\t is for tab"
   ]
  },
  {
   "cell_type": "markdown",
   "id": "f5f1b04b-103d-4794-ad1b-972d608d5656",
   "metadata": {},
   "source": [
    "# slicing in python"
   ]
  },
  {
   "cell_type": "code",
   "execution_count": 21,
   "id": "e14b782a-3975-4fb9-8593-b60f49f1dd84",
   "metadata": {},
   "outputs": [
    {
     "data": {
      "text/plain": [
       "'pyth'"
      ]
     },
     "execution_count": 21,
     "metadata": {},
     "output_type": "execute_result"
    }
   ],
   "source": [
    "s = \"python\"\n",
    "s[0:4]"
   ]
  },
  {
   "cell_type": "code",
   "execution_count": 23,
   "id": "010a5960-bfa3-482a-8135-9419c8d92b86",
   "metadata": {},
   "outputs": [
    {
     "data": {
      "text/plain": [
       "'hon'"
      ]
     },
     "execution_count": 23,
     "metadata": {},
     "output_type": "execute_result"
    }
   ],
   "source": [
    "s[3:10]"
   ]
  },
  {
   "cell_type": "code",
   "execution_count": 24,
   "id": "c4780098-cd29-4a3a-a0ba-76efa75c50d8",
   "metadata": {},
   "outputs": [
    {
     "data": {
      "text/plain": [
       "'tho'"
      ]
     },
     "execution_count": 24,
     "metadata": {},
     "output_type": "execute_result"
    }
   ],
   "source": [
    "s[-4:-1]"
   ]
  },
  {
   "cell_type": "code",
   "execution_count": 25,
   "id": "5a7fc4b6-c86a-4fb6-bd37-a119b6668a6e",
   "metadata": {},
   "outputs": [
    {
     "data": {
      "text/plain": [
       "'ho'"
      ]
     },
     "execution_count": 25,
     "metadata": {},
     "output_type": "execute_result"
    }
   ],
   "source": [
    "s[-3:-1]"
   ]
  },
  {
   "cell_type": "code",
   "execution_count": 27,
   "id": "47466e1b-6203-4c83-bf7f-902f4a3e59b9",
   "metadata": {},
   "outputs": [
    {
     "data": {
      "text/plain": [
       "''"
      ]
     },
     "execution_count": 27,
     "metadata": {},
     "output_type": "execute_result"
    }
   ],
   "source": [
    "s[-2:-6]"
   ]
  },
  {
   "cell_type": "code",
   "execution_count": 29,
   "id": "196496f6-efbc-4ffb-9aec-f7b3920c9499",
   "metadata": {},
   "outputs": [],
   "source": [
    "m=\"seemaadhikari\""
   ]
  },
  {
   "cell_type": "code",
   "execution_count": 31,
   "id": "efb44747-f7d0-466a-843b-555bd2726880",
   "metadata": {},
   "outputs": [
    {
     "data": {
      "text/plain": [
       "'smdk'"
      ]
     },
     "execution_count": 31,
     "metadata": {},
     "output_type": "execute_result"
    }
   ],
   "source": [
    "m[0:11:3]"
   ]
  },
  {
   "cell_type": "markdown",
   "id": "8f2a7975-3356-4faa-bcfe-95212156bcef",
   "metadata": {},
   "source": [
    "# Typecasting"
   ]
  },
  {
   "cell_type": "code",
   "execution_count": 9,
   "id": "f5ce7dd4-e089-4258-9936-a273b61a1cb9",
   "metadata": {
    "jp-MarkdownHeadingCollapsed": true
   },
   "outputs": [],
   "source": [
    "f1 = 4.5"
   ]
  },
  {
   "cell_type": "code",
   "execution_count": 10,
   "id": "9210cb1f-218f-4f9e-bf6f-bd4ca3e01d60",
   "metadata": {},
   "outputs": [],
   "source": [
    "s4 = \"6\""
   ]
  },
  {
   "cell_type": "code",
   "execution_count": 11,
   "id": "45b7e287-9945-411b-a701-c13b33f17388",
   "metadata": {},
   "outputs": [
    {
     "data": {
      "text/plain": [
       "'6'"
      ]
     },
     "execution_count": 11,
     "metadata": {},
     "output_type": "execute_result"
    }
   ],
   "source": [
    "s4"
   ]
  },
  {
   "cell_type": "code",
   "execution_count": 16,
   "id": "b7262f3c-cd52-44ec-bc13-cc2693d839c6",
   "metadata": {},
   "outputs": [
    {
     "ename": "TypeError",
     "evalue": "can only concatenate str (not \"float\") to str",
     "output_type": "error",
     "traceback": [
      "\u001b[1;31m---------------------------------------------------------------------------\u001b[0m",
      "\u001b[1;31mTypeError\u001b[0m                                 Traceback (most recent call last)",
      "Cell \u001b[1;32mIn[16], line 1\u001b[0m\n\u001b[1;32m----> 1\u001b[0m s4\u001b[38;5;241m+\u001b[39mf1\n",
      "\u001b[1;31mTypeError\u001b[0m: can only concatenate str (not \"float\") to str"
     ]
    }
   ],
   "source": [
    "s4+f1"
   ]
  },
  {
   "cell_type": "code",
   "execution_count": 15,
   "id": "f67d387b-a63f-48fe-9d64-fc4d344f8422",
   "metadata": {},
   "outputs": [
    {
     "data": {
      "text/plain": [
       "4"
      ]
     },
     "execution_count": 15,
     "metadata": {},
     "output_type": "execute_result"
    }
   ],
   "source": [
    "integralValueOfs4 = int(f1)\n",
    "integralValueOfs4"
   ]
  },
  {
   "cell_type": "code",
   "execution_count": 14,
   "id": "6c56a054-bce5-4131-9494-0ca95f4571fd",
   "metadata": {},
   "outputs": [
    {
     "ename": "TypeError",
     "evalue": "can only concatenate str (not \"float\") to str",
     "output_type": "error",
     "traceback": [
      "\u001b[1;31m---------------------------------------------------------------------------\u001b[0m",
      "\u001b[1;31mTypeError\u001b[0m                                 Traceback (most recent call last)",
      "Cell \u001b[1;32mIn[14], line 1\u001b[0m\n\u001b[1;32m----> 1\u001b[0m s4\u001b[38;5;241m+\u001b[39mf1\n",
      "\u001b[1;31mTypeError\u001b[0m: can only concatenate str (not \"float\") to str"
     ]
    }
   ],
   "source": []
  },
  {
   "cell_type": "code",
   "execution_count": null,
   "id": "d9bd356d-880b-401a-8851-071ec20e0871",
   "metadata": {},
   "outputs": [],
   "source": []
  }
 ],
 "metadata": {
  "kernelspec": {
   "display_name": "Python 3 (ipykernel)",
   "language": "python",
   "name": "python3"
  },
  "language_info": {
   "codemirror_mode": {
    "name": "ipython",
    "version": 3
   },
   "file_extension": ".py",
   "mimetype": "text/x-python",
   "name": "python",
   "nbconvert_exporter": "python",
   "pygments_lexer": "ipython3",
   "version": "3.12.7"
  }
 },
 "nbformat": 4,
 "nbformat_minor": 5
}
