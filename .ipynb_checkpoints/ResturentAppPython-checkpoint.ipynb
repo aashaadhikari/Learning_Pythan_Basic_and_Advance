{
 "cells": [
  {
   "cell_type": "code",
   "execution_count": 3,
   "id": "26baa678-f8e7-4951-b571-ac97d23a319b",
   "metadata": {},
   "outputs": [
    {
     "name": "stdout",
     "output_type": "stream",
     "text": [
      "\n",
      "--- Welcome to the Online Restaurant ---\n",
      "1. Show Menu\n",
      "2. Add to Order\n",
      "3. View Order\n",
      "4. Remove from Order\n",
      "5. Exit\n"
     ]
    },
    {
     "name": "stdin",
     "output_type": "stream",
     "text": [
      "Choose an option:  1\n"
     ]
    },
    {
     "name": "stdout",
     "output_type": "stream",
     "text": [
      "--- Menu ---\n",
      "Burger: Rs 50.00\n",
      "Pizza: Rs 90.00\n",
      "Pasta: Rs 80.00\n",
      "Salad: Rs 40.00\n",
      "Soda: Rs 55.00\n",
      "\n",
      "\n",
      "--- Welcome to the Online Restaurant ---\n",
      "1. Show Menu\n",
      "2. Add to Order\n",
      "3. View Order\n",
      "4. Remove from Order\n",
      "5. Exit\n"
     ]
    },
    {
     "name": "stdin",
     "output_type": "stream",
     "text": [
      "Choose an option:  2\n"
     ]
    },
    {
     "name": "stdout",
     "output_type": "stream",
     "text": [
      "--- Menu ---\n",
      "Burger: Rs 50.00\n",
      "Pizza: Rs 90.00\n",
      "Pasta: Rs 80.00\n",
      "Salad: Rs 40.00\n",
      "Soda: Rs 55.00\n",
      "\n"
     ]
    },
    {
     "name": "stdin",
     "output_type": "stream",
     "text": [
      "Enter the item you want to add to your order:  Pizza\n",
      "Enter quantity for Pizza:  2\n"
     ]
    },
    {
     "name": "stdout",
     "output_type": "stream",
     "text": [
      "Pizza added to your order.\n",
      "\n",
      "--- Welcome to the Online Restaurant ---\n",
      "1. Show Menu\n",
      "2. Add to Order\n",
      "3. View Order\n",
      "4. Remove from Order\n",
      "5. Exit\n"
     ]
    },
    {
     "name": "stdin",
     "output_type": "stream",
     "text": [
      "Choose an option:  3\n"
     ]
    },
    {
     "name": "stdout",
     "output_type": "stream",
     "text": [
      "\n",
      "--- Your Order ---\n",
      "Pizza x2: Rs 180.00\n",
      "Total: Rs 180.00\n",
      "\n",
      "\n",
      "--- Welcome to the Online Restaurant ---\n",
      "1. Show Menu\n",
      "2. Add to Order\n",
      "3. View Order\n",
      "4. Remove from Order\n",
      "5. Exit\n"
     ]
    },
    {
     "name": "stdin",
     "output_type": "stream",
     "text": [
      "Choose an option:  4\n"
     ]
    },
    {
     "name": "stdout",
     "output_type": "stream",
     "text": [
      "\n",
      "--- Your Order ---\n",
      "Pizza x2: Rs 180.00\n",
      "Total: Rs 180.00\n",
      "\n"
     ]
    },
    {
     "name": "stdin",
     "output_type": "stream",
     "text": [
      "Enter the item you want to remove:  Pizza\n"
     ]
    },
    {
     "name": "stdout",
     "output_type": "stream",
     "text": [
      "Pizza removed from your order.\n",
      "\n",
      "--- Welcome to the Online Restaurant ---\n",
      "1. Show Menu\n",
      "2. Add to Order\n",
      "3. View Order\n",
      "4. Remove from Order\n",
      "5. Exit\n"
     ]
    },
    {
     "name": "stdin",
     "output_type": "stream",
     "text": [
      "Choose an option:  5\n"
     ]
    },
    {
     "name": "stdout",
     "output_type": "stream",
     "text": [
      "Thank you for visiting! Have a good day.\n"
     ]
    }
   ],
   "source": [
    "class RestaurantApp:\n",
    "    def __init__(self):\n",
    "        self.menu = {\n",
    "            'Burger': 50,\n",
    "            'Pizza': 90,\n",
    "            'Pasta': 80,\n",
    "            'Salad': 40,\n",
    "            'Soda': 55\n",
    "        }\n",
    "\n",
    "        self.order = {}\n",
    "\n",
    "    def show_menu(self):\n",
    "        print(\"--- Menu ---\")\n",
    "        for item, price in self.menu.items():\n",
    "            print(f'{item}: Rs {price:.2f}')\n",
    "        print()\n",
    "\n",
    "    def add_to_order(self):\n",
    "        self.show_menu()\n",
    "        item = input('Enter the item you want to add to your order: ').title()\n",
    "        if item in self.menu:\n",
    "            quantity = int(input(f\"Enter quantity for {item}: \"))\n",
    "            if item in self.order:\n",
    "                self.order[item] += quantity\n",
    "            else:\n",
    "                self.order[item] = quantity\n",
    "            print(f\"{item} added to your order.\")\n",
    "        else:\n",
    "            print('Sorry, that item is not on the menu.')\n",
    "\n",
    "    def view_order(self):\n",
    "        if not self.order:\n",
    "            print(\"\\nYour order is empty.\")\n",
    "            return\n",
    "        print(\"\\n--- Your Order ---\")\n",
    "        total = 0\n",
    "        for item, quantity in self.order.items():\n",
    "            price = self.menu[item] * quantity\n",
    "            total += price\n",
    "            print(f\"{item} x{quantity}: Rs {price:.2f}\")\n",
    "        print(f\"Total: Rs {total:.2f}\\n\")\n",
    "\n",
    "    def remove_from_order(self):\n",
    "        self.view_order()\n",
    "        item = input(\"Enter the item you want to remove: \").title()\n",
    "        if item in self.order:\n",
    "            del self.order[item]\n",
    "            print(f\"{item} removed from your order.\")\n",
    "        else:\n",
    "            print(\"That item is not in your order.\")\n",
    "\n",
    "    def run(self):\n",
    "        while True:\n",
    "            print(\"\\n--- Welcome to the Online Restaurant ---\")\n",
    "            print(\"1. Show Menu\")\n",
    "            print(\"2. Add to Order\")\n",
    "            print(\"3. View Order\")\n",
    "            print(\"4. Remove from Order\")\n",
    "            print(\"5. Exit\")\n",
    "            choice = input(\"Choose an option: \")\n",
    "\n",
    "            if choice == '1':\n",
    "                self.show_menu()\n",
    "            elif choice == '2':\n",
    "                self.add_to_order()\n",
    "            elif choice == '3':\n",
    "                self.view_order()\n",
    "            elif choice == '4':\n",
    "                self.remove_from_order()\n",
    "            elif choice == '5':\n",
    "                print(\"Thank you for visiting! Have a good day.\")\n",
    "                break\n",
    "            else:\n",
    "                print(\"Invalid choice. Please try again.\")\n",
    "\n",
    "# Run the app\n",
    "if __name__ == '__main__':\n",
    "    app = RestaurantApp()\n",
    "    app.run()\n"
   ]
  },
  {
   "cell_type": "code",
   "execution_count": null,
   "id": "d5335be5-b18f-4dc5-bb9a-ba4d40e0ca58",
   "metadata": {},
   "outputs": [],
   "source": []
  }
 ],
 "metadata": {
  "kernelspec": {
   "display_name": "Python 3 (ipykernel)",
   "language": "python",
   "name": "python3"
  },
  "language_info": {
   "codemirror_mode": {
    "name": "ipython",
    "version": 3
   },
   "file_extension": ".py",
   "mimetype": "text/x-python",
   "name": "python",
   "nbconvert_exporter": "python",
   "pygments_lexer": "ipython3",
   "version": "3.12.7"
  }
 },
 "nbformat": 4,
 "nbformat_minor": 5
}
