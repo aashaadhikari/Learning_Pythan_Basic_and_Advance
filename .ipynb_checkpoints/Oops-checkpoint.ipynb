{
 "cells": [
  {
   "cell_type": "markdown",
   "id": "a556b005-a194-40f6-96e7-0ca2b19ddb1d",
   "metadata": {},
   "source": [
    "# Object-Oriented Programming (OOP)\n",
    "A key concept in Python for building modular, maintainable, and scalable applications.\n",
    "\n",
    "## core principal:\n",
    " * <b>Classes:</b> Blueprints for creating objects.\n",
    " * <b>Objects:</b> Instances of classes with attributes (data) and methods (actions).\n",
    " * <b>Inheritance:</b> Allows a class to inherit properties and methods from another.\n",
    " * <b>Encapsulation:</b> Bundles data and methods, restricting access to some components.\n",
    " * <b>Polymorphism:</b> Enables objects to take on multiple forms through method overriding.\n",
    " * <b>Abstraction:</b> Hides complex implementation details, exposing only essential features.\n",
    "\n",
    "* <b>Purpose:</b> Represents real-world entities using attributes and behaviors, simplifying complex problems with elegant design.\n"
   ]
  },
  {
   "cell_type": "markdown",
   "id": "f181c2df-4175-472a-9b52-267168a91ee7",
   "metadata": {},
   "source": [
    "# Class And Object\n",
    "## Class\n",
    "A class is a collection of objects. Classes are blueprints for creating objects. A class defines a set of attributes and methods that the created objects (instances) can have.\n",
    "* <b>Some points on Python class:</b>\n",
    "   * Classes are created by keyword class.\n",
    "   * Attributes are the variables that belong to a class.\n",
    "   * Attributes are always public and can be accessed using the dot (.) operator. Example: Myclass.Myattribute\n",
    "\n",
    "# Example"
   ]
  },
  {
   "cell_type": "code",
   "execution_count": 4,
   "id": "aa1e8df2-49df-4ccf-9ca8-cba7946356d6",
   "metadata": {},
   "outputs": [],
   "source": [
    "class Dog:\n",
    "    # class Vriable\n",
    "    species = \"Canine\"  # Class attribute\n",
    "\n",
    "    def __init__(self, name, age):\n",
    "        # instance variable\n",
    "        self.name = name  # Instance attribute\n",
    "        self.age = age  # Instance attribute"
   ]
  },
  {
   "cell_type": "markdown",
   "id": "6ed170e4-a723-4296-9dc3-6f208bd4c921",
   "metadata": {},
   "source": [
    "* <b>Class Variables:</b>Shared across all instances of a class, defined at the class level. All objects share the same value unless explicitly changed for a specific object.\n",
    "* <b>Instance Variables:</b>Unique to each instance, defined in the __init__ or instance methods. Each object has its own copy, independent of others."
   ]
  },
  {
   "cell_type": "markdown",
   "id": "f0b447f4-8885-4e73-8870-c923b1ed10c3",
   "metadata": {},
   "source": [
    "## Object\n",
    "An Object is an instance of a Class. It represents a specific implementation of the class and holds its own data.\n",
    "\n",
    "<b>An object consists of:</b>\n",
    "* State: It is represented by the attributes and reflects the properties of an object.\n",
    "* Behavior: It is represented by the methods of an object and reflects the response of an object to other objects.\n",
    "* Identity: It gives a unique name to an object and enables one object to interact with other objects.\n",
    "\n",
    "# Example  "
   ]
  },
  {
   "cell_type": "code",
   "execution_count": 7,
   "id": "d56bc557-30d2-4db1-9618-965ca9a8c9a4",
   "metadata": {},
   "outputs": [
    {
     "name": "stdout",
     "output_type": "stream",
     "text": [
      "kale\n",
      "3\n"
     ]
    }
   ],
   "source": [
    "class Dog:\n",
    "    species = \"Canine\"  # Class attribute\n",
    "\n",
    "    def __init__(self, name, age):\n",
    "        self.name = name  # Instance attribute\n",
    "        self.age = age  # Instance attribute\n",
    "\n",
    "# creating an object of the Dog class\n",
    "dog1 =Dog(\"kale\", 3)\n",
    "\n",
    "print(dog1.name) # call object\n",
    "print(dog1.age)\n",
    "\n"
   ]
  },
  {
   "cell_type": "markdown",
   "id": "ad2b5f0d-d6ef-44a8-a2af-d92c1a217eb0",
   "metadata": {},
   "source": [
    "# Example # 2"
   ]
  },
  {
   "cell_type": "code",
   "execution_count": 27,
   "id": "08dd6736-98e2-4e00-8e5c-03d52233d8c0",
   "metadata": {},
   "outputs": [
    {
     "data": {
      "text/plain": [
       "14"
      ]
     },
     "execution_count": 27,
     "metadata": {},
     "output_type": "execute_result"
    }
   ],
   "source": [
    "class Calculate:\n",
    "    def __init__(self, num1, num2):\n",
    "        self.x = num1\n",
    "        self.y = num2\n",
    "    \n",
    "\n",
    "    def sum(self):\n",
    "        return self.x + self.y \n",
    "\n",
    "    def Product(self):\n",
    "        return self.x * self.y\n",
    "\n",
    "cal_obj = Calculate(10, 4)\n",
    "cal_obj.sum()\n"
   ]
  },
  {
   "cell_type": "code",
   "execution_count": 28,
   "id": "ca82c894-9029-41d2-a753-3f9d500caef1",
   "metadata": {},
   "outputs": [
    {
     "data": {
      "text/plain": [
       "50"
      ]
     },
     "execution_count": 28,
     "metadata": {},
     "output_type": "execute_result"
    }
   ],
   "source": [
    "cal_obj1 = Calculate(10, 5)\n",
    "cal_obj1.Product()"
   ]
  },
  {
   "cell_type": "markdown",
   "id": "89ba9d04-f0a0-44ab-976a-cf8aadf2e6b7",
   "metadata": {},
   "source": [
    "# Types of Method\n",
    "1. Instance Methode\n",
    "2. Class Methode\n",
    "3. Static Methode\n",
    "\n",
    "# Example"
   ]
  },
  {
   "cell_type": "code",
   "execution_count": 41,
   "id": "f13b0e55-8e5c-49c2-aa46-b63e909cb76d",
   "metadata": {},
   "outputs": [],
   "source": [
    "class Person:\n",
    "    count = 0 # class Attribute\n",
    "    def __init__(self, name, address= \"kathmandu\"): # constructor OR Initalizer\n",
    "        self.name = name\n",
    "        self.address = address\n",
    "        Person.count += 1\n",
    "\n",
    "    def update_name(self, new_name): # instance Method\n",
    "         self.name = new_name\n",
    "         print(f\" Name update name {self.name}\")\n",
    "\n",
    "    @classmethod\n",
    "    def get_count(cls): # class Method\n",
    "        return cls.count\n",
    "    @staticmethod\n",
    "    def creat_fullname(firstname, lastname): # static Method\n",
    "         return f\"{lastname}, {firstname}\"\n",
    "        "
   ]
  },
  {
   "cell_type": "code",
   "execution_count": 42,
   "id": "7562027d-8f59-4fb9-9b80-128f070f0905",
   "metadata": {},
   "outputs": [
    {
     "name": "stdout",
     "output_type": "stream",
     "text": [
      " Name update name suman\n"
     ]
    }
   ],
   "source": [
    "manxe = Person(\"shisir\")\n",
    "manxe.update_name(\"suman\")\n"
   ]
  },
  {
   "cell_type": "code",
   "execution_count": 43,
   "id": "cb89a889-aee9-4059-b302-917682c1bd6c",
   "metadata": {},
   "outputs": [
    {
     "name": "stdout",
     "output_type": "stream",
     "text": [
      "suman\n"
     ]
    },
    {
     "data": {
      "text/plain": [
       "'kathmandu'"
      ]
     },
     "execution_count": 43,
     "metadata": {},
     "output_type": "execute_result"
    }
   ],
   "source": [
    "print(manxe.name)\n",
    "manxe.address"
   ]
  },
  {
   "cell_type": "code",
   "execution_count": 44,
   "id": "0a6b20e6-677d-44fe-8fb2-74f45e015b8c",
   "metadata": {},
   "outputs": [
    {
     "data": {
      "text/plain": [
       "1"
      ]
     },
     "execution_count": 44,
     "metadata": {},
     "output_type": "execute_result"
    }
   ],
   "source": [
    "Person.get_count()"
   ]
  },
  {
   "cell_type": "markdown",
   "id": "c726bb57-c8db-4a38-91fc-ef9369f993d7",
   "metadata": {},
   "source": [
    "# Example"
   ]
  },
  {
   "cell_type": "code",
   "execution_count": 55,
   "id": "36445712-d598-43aa-b47b-9952118a506b",
   "metadata": {},
   "outputs": [],
   "source": [
    "  class Library:\n",
    "    def __init__(self, name, depart=\"computer\"):\n",
    "        self.name = name\n",
    "        self.depart = depart\n",
    "        \n",
    "        self.books = [ \n",
    "            (\"The Alchemist\", 25),\n",
    "            (\"The Da Vinci Code\", 30),\n",
    "            (\"A Brief History of Time\", 15),\n",
    "            (\"Angels & Demons\", 0),\n",
    "            (\"The Grand Design\", 0),\n",
    "            (\"1984\", 19)\n",
    "        ]\n",
    "\n",
    "    def can_borrow(self, book_name):\n",
    "        status = [name for name, qty in self.books if name == book_name and qty > 0]\n",
    "        return \"can borrow\" if status else \"cannot borrow\""
   ]
  },
  {
   "cell_type": "code",
   "execution_count": 56,
   "id": "e741f9c7-e792-4037-b852-c56ace96e277",
   "metadata": {},
   "outputs": [
    {
     "name": "stdout",
     "output_type": "stream",
     "text": [
      "can borrow\n",
      "cannot borrow\n"
     ]
    }
   ],
   "source": [
    "library = Library(\"Central Library\")\n",
    "print(library.can_borrow(\"The Alchemist\"))  # Output: can borrow\n",
    "print(library.can_borrow(\"Angels & Demons\"))  # Output: cannot borrow"
   ]
  },
  {
   "cell_type": "code",
   "execution_count": null,
   "id": "979b2136-da1c-4755-8546-f3a1aa81f7a4",
   "metadata": {},
   "outputs": [],
   "source": []
  },
  {
   "cell_type": "markdown",
   "id": "61ff40fa-27c1-40d4-8fca-2db7f9504b50",
   "metadata": {},
   "source": [
    "# Method Overloding in Python"
   ]
  },
  {
   "cell_type": "code",
   "execution_count": 2,
   "id": "b96993b2-099a-4211-84ca-94009f2bb740",
   "metadata": {},
   "outputs": [],
   "source": [
    "class Example:\n",
    "    def add(self, a, b=0,c=0):\n",
    "        return a+b+c"
   ]
  },
  {
   "cell_type": "code",
   "execution_count": 10,
   "id": "78aecfc3-3b75-4a12-a0e3-fe8d3a3d438f",
   "metadata": {},
   "outputs": [
    {
     "data": {
      "text/plain": [
       "3"
      ]
     },
     "execution_count": 10,
     "metadata": {},
     "output_type": "execute_result"
    }
   ],
   "source": [
    "obj = Example()\n",
    "obj.add(3)"
   ]
  },
  {
   "cell_type": "code",
   "execution_count": null,
   "id": "8d3929a4-e214-48d4-af98-c3a84724d84a",
   "metadata": {},
   "outputs": [],
   "source": []
  },
  {
   "cell_type": "code",
   "execution_count": null,
   "id": "373500ee-99ea-44f8-9e08-7d57c58da8bf",
   "metadata": {},
   "outputs": [],
   "source": [
    "class Example1:\n",
    "    def add(self)"
   ]
  },
  {
   "cell_type": "code",
   "execution_count": null,
   "id": "22adc784-6762-4698-b964-90a1be2c5331",
   "metadata": {},
   "outputs": [],
   "source": []
  },
  {
   "cell_type": "markdown",
   "id": "bd73fbdf-3247-494a-b46b-dd9924a37cce",
   "metadata": {},
   "source": [
    "# Inheritance: \n",
    "\n",
    "Allows a class to inherit properties and methods from another.\n",
    "\n",
    "## Types of inheritance:\n",
    "* Single Inheritance\n",
    "\n",
    "  \n",
    "### Single Inheritance\n",
    "# program"
   ]
  },
  {
   "cell_type": "code",
   "execution_count": 13,
   "id": "be79680f-f055-4037-9cf8-55ffb7e6c500",
   "metadata": {},
   "outputs": [],
   "source": [
    "class Animal:\n",
    "    def __init__(self, name, age):\n",
    "        self.name = name\n",
    "        self.age = age\n",
    "\n",
    "    def intro(self):\n",
    "         print(f\"My namee is {self.name}.\")"
   ]
  },
  {
   "cell_type": "code",
   "execution_count": 16,
   "id": "2f5807a3-75cd-4a43-889f-1fac0c68a2ef",
   "metadata": {},
   "outputs": [],
   "source": [
    "class cat(Animal):\n",
    "    def speak(self):\n",
    "         print(\"meow\")"
   ]
  },
  {
   "cell_type": "code",
   "execution_count": 17,
   "id": "0318237e-bb8a-4c26-aa76-f821ec88f468",
   "metadata": {},
   "outputs": [
    {
     "name": "stdout",
     "output_type": "stream",
     "text": [
      "My namee is floopy.\n"
     ]
    }
   ],
   "source": [
    "cat = cat(\"floopy\", 4)\n",
    "cat.intro()"
   ]
  },
  {
   "cell_type": "code",
   "execution_count": 18,
   "id": "07da0b8e-9bc9-4406-994b-c9ffaf426e8b",
   "metadata": {},
   "outputs": [
    {
     "name": "stdout",
     "output_type": "stream",
     "text": [
      "meow\n"
     ]
    }
   ],
   "source": [
    "cat.speak()"
   ]
  },
  {
   "cell_type": "code",
   "execution_count": null,
   "id": "8d701f8d-1ed1-4ab6-905d-cbe8e80a67dc",
   "metadata": {},
   "outputs": [],
   "source": []
  },
  {
   "cell_type": "code",
   "execution_count": null,
   "id": "71201e66-38a5-43f0-b463-539224e0a883",
   "metadata": {},
   "outputs": [],
   "source": [
    "class Animal:\n",
    "    def __init__(self, name, age):\n",
    "        self.name = name\n",
    "        self.age = age\n",
    "\n",
    "    def intro(self):\n",
    "         print(f\"My namee is {self.name}.\")\n",
    "\n",
    "class cat(Animal):\n",
    "    def __init__(self, name, age, color):\n",
    "        super().__init__(name, age)\n",
    "        self.color = color\n",
    "    def speak(self):\n",
    "         print(\"meow\")"
   ]
  },
  {
   "cell_type": "code",
   "execution_count": 20,
   "id": "11156c0f-129a-464e-883d-db0bdcf50f10",
   "metadata": {},
   "outputs": [
    {
     "ename": "TypeError",
     "evalue": "'cat' object is not callable",
     "output_type": "error",
     "traceback": [
      "\u001b[1;31m---------------------------------------------------------------------------\u001b[0m",
      "\u001b[1;31mTypeError\u001b[0m                                 Traceback (most recent call last)",
      "Cell \u001b[1;32mIn[20], line 1\u001b[0m\n\u001b[1;32m----> 1\u001b[0m cat \u001b[38;5;241m=\u001b[39m cat(\u001b[38;5;124m\"\u001b[39m\u001b[38;5;124mfloopy\u001b[39m\u001b[38;5;124m\"\u001b[39m, \u001b[38;5;241m4\u001b[39m)\n\u001b[0;32m      2\u001b[0m cat\u001b[38;5;241m.\u001b[39mintro()\n",
      "\u001b[1;31mTypeError\u001b[0m: 'cat' object is not callable"
     ]
    }
   ],
   "source": [
    "cat = cat(\"floopy\", 4)\n",
    "cat.intro()"
   ]
  },
  {
   "cell_type": "code",
   "execution_count": 19,
   "id": "2edbaf2e-1d27-40e6-a6ce-f886869de5f7",
   "metadata": {},
   "outputs": [
    {
     "name": "stdout",
     "output_type": "stream",
     "text": [
      "meow\n"
     ]
    }
   ],
   "source": [
    "cat.speak()"
   ]
  },
  {
   "cell_type": "code",
   "execution_count": null,
   "id": "9ab87159-b8f3-47df-b8e7-59280bf7606d",
   "metadata": {},
   "outputs": [],
   "source": []
  },
  {
   "cell_type": "markdown",
   "id": "b33ebce5-9db6-4228-ae7c-3c8bcaf88d5a",
   "metadata": {},
   "source": [
    "# Multiple  Inheritance"
   ]
  },
  {
   "cell_type": "code",
   "execution_count": 30,
   "id": "9c1ad3cc-2450-4f10-ab6d-f72a2f690fc0",
   "metadata": {},
   "outputs": [],
   "source": [
    "class Parent1:\n",
    "    def fun1(self):\n",
    "        print(\"this is parent 1\")\n",
    "\n",
    "class Parent2:\n",
    "    def fun2(self):\n",
    "        print(\"this is parent 2\")\n",
    "\n",
    "class Parent3:\n",
    "    def fun3(self):\n",
    "        print(\"this is parent 3\")\n",
    "\n",
    "class Clild(Parent1, Parent2,Parent3):\n",
    "    def fun4(self):\n",
    "        print(\"this is child funcation\")"
   ]
  },
  {
   "cell_type": "code",
   "execution_count": 31,
   "id": "185d7c42-d078-4c14-9288-67783da556d3",
   "metadata": {},
   "outputs": [
    {
     "name": "stdout",
     "output_type": "stream",
     "text": [
      "this is parent 1\n",
      "this is parent 2\n",
      "this is parent 3\n"
     ]
    }
   ],
   "source": [
    "obj = Clild()\n",
    "\n",
    "obj.fun1()\n",
    "obj.fun2()\n",
    "obj.fun3()"
   ]
  },
  {
   "cell_type": "code",
   "execution_count": null,
   "id": "5061a2a5-8b06-4182-aceb-ce572ebfeabf",
   "metadata": {},
   "outputs": [],
   "source": []
  },
  {
   "cell_type": "code",
   "execution_count": null,
   "id": "c2972497-8f79-4b6e-a36a-41552e547bdb",
   "metadata": {},
   "outputs": [],
   "source": []
  },
  {
   "cell_type": "markdown",
   "id": "73177a08-9027-42f0-8bcb-836694052927",
   "metadata": {},
   "source": [
    "# Multilevel Iheritance"
   ]
  },
  {
   "cell_type": "code",
   "execution_count": 36,
   "id": "3d0bfc1f-d379-4bf1-88bb-7829511eaaef",
   "metadata": {},
   "outputs": [],
   "source": [
    "class A:\n",
    "    def method_a(self):\n",
    "        print(\"This is methode from class A\")\n",
    "\n",
    "class B(A):\n",
    "    def method_b(self):\n",
    "        print(\"This is methode from class B\")\n",
    "\n",
    "class C(B):\n",
    "    def method_c(self):\n",
    "        print(\"This is methode from class C\")"
   ]
  },
  {
   "cell_type": "code",
   "execution_count": 37,
   "id": "f8309f5e-f412-4bf0-82ee-ccbbd3b5b8cd",
   "metadata": {},
   "outputs": [
    {
     "name": "stdout",
     "output_type": "stream",
     "text": [
      "This is methode from class A\n",
      "This is methode from class B\n",
      "This is methode from class C\n"
     ]
    }
   ],
   "source": [
    "obj1= C()\n",
    "obj1.method_a()\n",
    "obj1.method_b()\n",
    "obj1.method_c()"
   ]
  },
  {
   "cell_type": "code",
   "execution_count": null,
   "id": "0557434a-670f-4b2d-a05b-223075165fe2",
   "metadata": {},
   "outputs": [],
   "source": []
  },
  {
   "cell_type": "markdown",
   "id": "14bfdddb-d799-40f6-9f69-4fec6f000298",
   "metadata": {},
   "source": [
    "# Hierarical Inheritance"
   ]
  },
  {
   "cell_type": "code",
   "execution_count": 49,
   "id": "8109d28a-895a-4c5a-a81d-c2cdc261d102",
   "metadata": {},
   "outputs": [],
   "source": [
    "class Animal:\n",
    "    def __init__(self,name):\n",
    "        self.name = name\n",
    "\n",
    "    def intro(self):\n",
    "          print(f\" Hello, i am{self.name}\")"
   ]
  },
  {
   "cell_type": "code",
   "execution_count": 50,
   "id": "09148587-842e-461b-b076-77547c9c7789",
   "metadata": {},
   "outputs": [],
   "source": [
    "class Cat(Animal):\n",
    "    def speak(self):\n",
    "        print(\"meow\")"
   ]
  },
  {
   "cell_type": "code",
   "execution_count": 51,
   "id": "84f4fafd-59d7-463b-8507-623e56e5078b",
   "metadata": {},
   "outputs": [
    {
     "name": "stdout",
     "output_type": "stream",
     "text": [
      " Hello, i amfluffy\n",
      "meow\n"
     ]
    }
   ],
   "source": [
    "cat = Cat(\"fluffy\")\n",
    "cat.intro()\n",
    "cat.speak()\n"
   ]
  },
  {
   "cell_type": "markdown",
   "id": "9e4c6b9c-6786-4608-adf0-f96ffae8cd4a",
   "metadata": {},
   "source": [
    "# Hybrid "
   ]
  },
  {
   "cell_type": "code",
   "execution_count": null,
   "id": "319c2b0e-3d9a-4f67-bdb6-9d41f4bc3760",
   "metadata": {},
   "outputs": [],
   "source": [
    "class Animal:\n",
    "    def __init__(self,name):\n",
    "        self.name = name\n",
    "\n",
    "    def intro(self):\n",
    "          print(f\" Hello, i am{self.name}\")"
   ]
  },
  {
   "cell_type": "code",
   "execution_count": null,
   "id": "0e0eeba0-845a-4dcc-b8d0-2b8ba856c7e8",
   "metadata": {},
   "outputs": [],
   "source": []
  },
  {
   "cell_type": "markdown",
   "id": "67f4efe4-58c3-4d45-8a49-9f499a764665",
   "metadata": {},
   "source": [
    "# Example"
   ]
  },
  {
   "cell_type": "code",
   "execution_count": 1,
   "id": "aa53fb18-4d03-4d2e-b1bb-55f1374a8d95",
   "metadata": {},
   "outputs": [],
   "source": [
    "class Book:\n",
    "    def __init__(self,title,author,price):\n",
    "        self.Title = title\n",
    "        self.Author = author\n",
    "        self.Price = price\n",
    "\n",
    "    def display_info(self):\n",
    "         print(f\"{self.Title} is written by{self.Author}. Book prise is{self.Price}\")\n",
    "\n",
    "class Ebook(Book):\n",
    "    def __init__(self,title,author,price,file_size):\n",
    "        super().__init__(title,author,price)\n",
    "        self.file_size = file_size\n",
    "\n",
    "    def display_info(self):\n",
    "       print(f\"{self.Title} is written by{self.Author}. Book prise is{self.Price}, file size is{self.file_size}\")\n",
    "        "
   ]
  },
  {
   "cell_type": "code",
   "execution_count": 2,
   "id": "61309ebd-6806-4b83-8d1c-6dcee91a9727",
   "metadata": {},
   "outputs": [
    {
     "ename": "TypeError",
     "evalue": "Book.__init__() takes 1 positional argument but 4 were given",
     "output_type": "error",
     "traceback": [
      "\u001b[1;31m---------------------------------------------------------------------------\u001b[0m",
      "\u001b[1;31mTypeError\u001b[0m                                 Traceback (most recent call last)",
      "Cell \u001b[1;32mIn[2], line 1\u001b[0m\n\u001b[1;32m----> 1\u001b[0m obj \u001b[38;5;241m=\u001b[39m Ebook(\u001b[38;5;124m\"\u001b[39m\u001b[38;5;124mharry\u001b[39m\u001b[38;5;124m\"\u001b[39m, \u001b[38;5;124m\"\u001b[39m\u001b[38;5;124mram\u001b[39m\u001b[38;5;124m\"\u001b[39m, \u001b[38;5;241m4000\u001b[39m,\u001b[38;5;241m22\u001b[39m)\n\u001b[0;32m      2\u001b[0m obj\u001b[38;5;241m.\u001b[39mdisplay_info()\n",
      "Cell \u001b[1;32mIn[1], line 12\u001b[0m, in \u001b[0;36mEbook.__init__\u001b[1;34m(self, title, author, price, file_size)\u001b[0m\n\u001b[0;32m     11\u001b[0m \u001b[38;5;28;01mdef\u001b[39;00m \u001b[38;5;21m__init__\u001b[39m(\u001b[38;5;28mself\u001b[39m,title,author,price,file_size):\n\u001b[1;32m---> 12\u001b[0m     \u001b[38;5;28msuper\u001b[39m()\u001b[38;5;241m.\u001b[39m\u001b[38;5;21m__init__\u001b[39m(title,author,price)\n\u001b[0;32m     13\u001b[0m     \u001b[38;5;28mself\u001b[39m\u001b[38;5;241m.\u001b[39mfile_size \u001b[38;5;241m=\u001b[39m file_size\n",
      "\u001b[1;31mTypeError\u001b[0m: Book.__init__() takes 1 positional argument but 4 were given"
     ]
    }
   ],
   "source": [
    "obj = Ebook(\"harry\", \"ram\", 4000,22)\n",
    "obj.display_info()"
   ]
  },
  {
   "cell_type": "code",
   "execution_count": null,
   "id": "fcd8c55c-501f-445f-bc48-e00a84634cb5",
   "metadata": {},
   "outputs": [],
   "source": []
  },
  {
   "cell_type": "code",
   "execution_count": null,
   "id": "901e0e7a-5cdc-4d23-8ff5-f07101cb593f",
   "metadata": {},
   "outputs": [],
   "source": []
  },
  {
   "cell_type": "code",
   "execution_count": null,
   "id": "7b126c1d-3e42-4778-8c57-6ee6f878bfbb",
   "metadata": {},
   "outputs": [],
   "source": []
  },
  {
   "cell_type": "code",
   "execution_count": 20,
   "id": "4456b70d-168a-4941-bc9a-3d638d59e6b8",
   "metadata": {},
   "outputs": [],
   "source": [
    "a=\"seema\""
   ]
  },
  {
   "cell_type": "code",
   "execution_count": 2,
   "id": "1c4753df-3061-4f78-88ad-a8b3a3e2796a",
   "metadata": {},
   "outputs": [
    {
     "data": {
      "text/plain": [
       "'SEEMA'"
      ]
     },
     "execution_count": 2,
     "metadata": {},
     "output_type": "execute_result"
    }
   ],
   "source": [
    "a.upper()"
   ]
  },
  {
   "cell_type": "code",
   "execution_count": null,
   "id": "ea3d8771-a54c-41b8-8c50-c2ddefbf34cb",
   "metadata": {},
   "outputs": [],
   "source": [
    "#OOPs Concepts in Python\n",
    "#Class in Python\n",
    "#Objects in Python\n",
    "#Polymorphism in Python\n",
    "#Encapsulation in Python\n",
    "#Inheritance in Python\n",
    "#Data Abstraction in Python"
   ]
  },
  {
   "cell_type": "code",
   "execution_count": 3,
   "id": "ecb5bb44-b82c-47dc-952e-27b44867a7df",
   "metadata": {},
   "outputs": [
    {
     "name": "stdout",
     "output_type": "stream",
     "text": [
      "buddy\n",
      "3\n"
     ]
    }
   ],
   "source": [
    "#class\n",
    "class Dog:\n",
    "    species = \"canine\" # class attribute\n",
    "\n",
    "    def __init__(self, name ,age):\n",
    "        self.name = name  # instance attribute\n",
    "        self.age = age\n",
    "\n",
    "#creating a object of the Dog class\n",
    "\n",
    "dog1 = Dog (\"buddy\", 3)\n",
    "print(dog1.name)\n",
    "print(dog1.age)"
   ]
  },
  {
   "cell_type": "code",
   "execution_count": 12,
   "id": "7f0b0bd4-89b4-4c0a-b3db-3dee227aaeee",
   "metadata": {},
   "outputs": [
    {
     "ename": "TypeError",
     "evalue": "dog() takes no arguments",
     "output_type": "error",
     "traceback": [
      "\u001b[1;31m---------------------------------------------------------------------------\u001b[0m",
      "\u001b[1;31mTypeError\u001b[0m                                 Traceback (most recent call last)",
      "Cell \u001b[1;32mIn[12], line 5\u001b[0m\n\u001b[0;32m      2\u001b[0m     \u001b[38;5;28;01mdef\u001b[39;00m \u001b[38;5;21mbark\u001b[39m (\u001b[38;5;28mself\u001b[39m):\n\u001b[0;32m      3\u001b[0m         \u001b[38;5;28mprint\u001b[39m(\u001b[38;5;28mself\u001b[39m\u001b[38;5;241m.\u001b[39mname)\n\u001b[1;32m----> 5\u001b[0m dog1 \u001b[38;5;241m=\u001b[39m dog(\u001b[38;5;124m\"\u001b[39m\u001b[38;5;124mjack\u001b[39m\u001b[38;5;124m\"\u001b[39m)\n\u001b[0;32m      6\u001b[0m dog1\u001b[38;5;241m.\u001b[39mbark()\n",
      "\u001b[1;31mTypeError\u001b[0m: dog() takes no arguments"
     ]
    }
   ],
   "source": [
    "#this is made for creating error\n",
    "class dog:\n",
    "    def bark (self):\n",
    "        print(self.name)\n",
    "\n",
    "dog1 = dog(\"jack\")\n",
    "dog1.bark()"
   ]
  },
  {
   "cell_type": "code",
   "execution_count": 11,
   "id": "8a2abb12-c269-4c1e-8d37-dc55e8051ed3",
   "metadata": {},
   "outputs": [
    {
     "name": "stdout",
     "output_type": "stream",
     "text": [
      "seema\n",
      "14\n",
      "98\n"
     ]
    }
   ],
   "source": [
    "class Student:\n",
    "  def __init__(self, name, roll_no, precentage): # constuctor\n",
    "    self.name = name\n",
    "    self.roll = roll_no\n",
    "    self.precentage = precentage\n",
    "\n",
    "s1 = Student(\"seema\", 14, 98)\n",
    "print(s1.name)\n",
    "print(s1.roll)\n",
    "print(s1.precentage)"
   ]
  },
  {
   "cell_type": "code",
   "execution_count": null,
   "id": "104e93be-a062-48c8-a1c8-b15d9bba1221",
   "metadata": {},
   "outputs": [],
   "source": []
  }
 ],
 "metadata": {
  "kernelspec": {
   "display_name": "Python 3 (ipykernel)",
   "language": "python",
   "name": "python3"
  },
  "language_info": {
   "codemirror_mode": {
    "name": "ipython",
    "version": 3
   },
   "file_extension": ".py",
   "mimetype": "text/x-python",
   "name": "python",
   "nbconvert_exporter": "python",
   "pygments_lexer": "ipython3",
   "version": "3.12.7"
  }
 },
 "nbformat": 4,
 "nbformat_minor": 5
}
