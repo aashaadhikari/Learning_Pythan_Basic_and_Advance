{
 "cells": [
  {
   "cell_type": "markdown",
   "id": "9bb5813b-4529-487e-8ed6-5c01246a674f",
   "metadata": {},
   "source": [
    "# Variables\n",
    "\n",
    "## Create a Variable\n",
    "\n",
    "<b>Notes</b>\n",
    "* A variable is created the moment you assign a value to it\n",
    "* Variables don't need to be declared with any type\n",
    "* Variables can change types even after they've been set\n",
    "\n",
    "The variable name goes on the left side of the assignment operator `(=),` and the value or expression you want to assign to that variable goes on the right side. It will be like this:\n",
    "\n",
    "variable_name = value"
   ]
  },
  {
   "cell_type": "markdown",
   "id": "046e4d8a-75f1-486c-879f-17d1de04d36b",
   "metadata": {},
   "source": [
    "# Examples"
   ]
  },
  {
   "cell_type": "code",
   "execution_count": 1,
   "id": "9cdadd63-bf5b-4b22-9b19-be9a7741d3d3",
   "metadata": {},
   "outputs": [],
   "source": [
    "base_salary = 100000"
   ]
  },
  {
   "cell_type": "markdown",
   "id": "8ca5a189-2130-4793-9843-3d1f366fae53",
   "metadata": {},
   "source": [
    "You can also perform operations using variables."
   ]
  },
  {
   "cell_type": "code",
   "execution_count": 3,
   "id": "4ee20c2e-5380-49f3-9c37-5a505d6ecbb5",
   "metadata": {},
   "outputs": [
    {
     "data": {
      "text/plain": [
       "110000.00000000001"
      ]
     },
     "execution_count": 3,
     "metadata": {},
     "output_type": "execute_result"
    }
   ],
   "source": [
    "bonus_rate = 0.1\n",
    "total_salary = base_salary * (1 + bonus_rate )\n",
    "total_salary"
   ]
  },
  {
   "cell_type": "markdown",
   "id": "4dd2a598-9d87-4aa8-ae7d-9f61dbbe58d2",
   "metadata": {},
   "source": [
    "# Variable aren't only numbers\n",
    "#### Notes\n",
    "* We can store all different kinds of data in variables\n",
    "* <b>Note:</b> We'll cover more on types in a bit\n",
    "\n",
    "## Example\n",
    "* Create variables to store the following       information about a job posting:\n",
    "  * Job ID (integer)\n",
    "  * Company Name (string)\n",
    "  * Salary Rate (string, but consider how you might store this as a numerical type for calculations)\n",
    "  * Job Work From Home (boolean)"
   ]
  },
  {
   "cell_type": "code",
   "execution_count": 8,
   "id": "b09d0895-6df4-410d-91e2-17613aa88033",
   "metadata": {},
   "outputs": [],
   "source": [
    "job_id = 101\n",
    "Company_name = \"skill\"\n",
    "job_title = \"Data Scientice\"\n",
    "job_salary = 1000000\n",
    "work_from_home = True\n"
   ]
  },
  {
   "cell_type": "markdown",
   "id": "24ba321f-e785-4b9b-ace1-4106a2a2e9af",
   "metadata": {},
   "source": [
    "We can use print() function to return all the variable:"
   ]
  },
  {
   "cell_type": "code",
   "execution_count": 11,
   "id": "1452e212-3b3d-47f1-8b69-833e88d1a817",
   "metadata": {},
   "outputs": [
    {
     "name": "stdout",
     "output_type": "stream",
     "text": [
      "101\n",
      "skill\n"
     ]
    }
   ],
   "source": [
    "print(job_id)\n",
    "print(Company_name)"
   ]
  },
  {
   "cell_type": "markdown",
   "id": "fe791109-cf54-4bf8-9dde-174098826ffb",
   "metadata": {},
   "source": [
    "# Objects in Python\n",
    "Something to understand: everything stored in Python is considered an object. This includes all the data types we've talked about and will talk about.\n",
    "Objects are a foundational concept in Python"
   ]
  }
 ],
 "metadata": {
  "kernelspec": {
   "display_name": "Python 3 (ipykernel)",
   "language": "python",
   "name": "python3"
  },
  "language_info": {
   "codemirror_mode": {
    "name": "ipython",
    "version": 3
   },
   "file_extension": ".py",
   "mimetype": "text/x-python",
   "name": "python",
   "nbconvert_exporter": "python",
   "pygments_lexer": "ipython3",
   "version": "3.12.7"
  }
 },
 "nbformat": 4,
 "nbformat_minor": 5
}
