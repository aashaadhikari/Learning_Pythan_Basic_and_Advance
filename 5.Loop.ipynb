{
 "cells": [
  {
   "cell_type": "markdown",
   "id": "aae18b8a-7544-4bc8-9fae-9404758d4b23",
   "metadata": {},
   "source": [
    "# Loop\n",
    "\n",
    "## Overview\n",
    " * `while` loop\n",
    " * `for` loop\n",
    "\n",
    "# Importance\n",
    "Crucial for automating repetitive tasks, like data processing in pandas or creating multiple plots in Matplotlib.\n",
    "\n",
    "\n",
    "A `for` loops iterates over an iterable object."
   ]
  },
  {
   "cell_type": "code",
   "execution_count": 1,
   "id": "babdd534-ad00-423b-970a-b65b5b84da0b",
   "metadata": {},
   "outputs": [
    {
     "name": "stdout",
     "output_type": "stream",
     "text": [
      "1\n",
      "2\n",
      "3\n",
      "4\n",
      "5\n",
      "6\n",
      "7\n"
     ]
    }
   ],
   "source": [
    "numbers = [1,2,3,4,5,6,7]\n",
    "for number in numbers:\n",
    "    print(number)"
   ]
  },
  {
   "cell_type": "code",
   "execution_count": null,
   "id": "28505f64-f2d6-42d9-b8bc-42db7cfb4f13",
   "metadata": {},
   "outputs": [],
   "source": []
  },
  {
   "cell_type": "markdown",
   "id": "a3d5485e-7ddb-42e8-a392-c8ae2a78b641",
   "metadata": {},
   "source": [
    "\n",
    "A `while` loop repeats an action until a condition is no longer true."
   ]
  },
  {
   "cell_type": "code",
   "execution_count": 2,
   "id": "13ce29f4-5477-45af-875d-beebfe0981fe",
   "metadata": {},
   "outputs": [
    {
     "name": "stdout",
     "output_type": "stream",
     "text": [
      "1\n",
      "2\n",
      "3\n",
      "4\n",
      "5\n"
     ]
    }
   ],
   "source": [
    "count = 1\n",
    "while count <= 5:\n",
    "    print(count)\n",
    "    count += 1"
   ]
  },
  {
   "cell_type": "markdown",
   "id": "1a9de1fb-bf60-49c4-84b4-e476bb5ba3c8",
   "metadata": {},
   "source": [
    "# While\n",
    "## Notes\n",
    "* A `while` loop executes a set of statements as long as the condition is true.\n",
    "* Remember to increment i, or else the loop will continue forever."
   ]
  },
  {
   "cell_type": "code",
   "execution_count": null,
   "id": "2eae158c-dbe1-4ab2-8e39-9cb18268369c",
   "metadata": {},
   "outputs": [],
   "source": []
  },
  {
   "cell_type": "code",
   "execution_count": 5,
   "id": "4539948a-ec5f-4fed-a8dc-ef8e24bb466d",
   "metadata": {},
   "outputs": [],
   "source": [
    "adjective ={'red', 'bag', 'test'}\n",
    "fruits ={'apple', 'banaba', 'cherry'}\n"
   ]
  },
  {
   "cell_type": "code",
   "execution_count": 6,
   "id": "4714d246-352e-4891-847f-ec7cba159899",
   "metadata": {},
   "outputs": [
    {
     "name": "stdout",
     "output_type": "stream",
     "text": [
      "red banaba\n",
      "red cherry\n",
      "red apple\n",
      "test banaba\n",
      "test cherry\n",
      "test apple\n",
      "bag banaba\n",
      "bag cherry\n",
      "bag apple\n"
     ]
    }
   ],
   "source": [
    "for adj in adjective:\n",
    "    for fruit in fruits:\n",
    "        print(adj, fruit) "
   ]
  },
  {
   "cell_type": "code",
   "execution_count": null,
   "id": "03ee5547-bd0f-4203-8abe-d89edf3f83c5",
   "metadata": {},
   "outputs": [],
   "source": []
  },
  {
   "cell_type": "markdown",
   "id": "42f4e15b-2323-4e9a-a0fa-b5c9ec7a5f4c",
   "metadata": {},
   "source": [
    "## write a program to display the multiplication table"
   ]
  },
  {
   "cell_type": "code",
   "execution_count": 9,
   "id": "8d3b99cf-95ee-40d9-b527-efd65e41261f",
   "metadata": {},
   "outputs": [
    {
     "name": "stdout",
     "output_type": "stream",
     "text": [
      "5 x 1 = 5\n",
      "5 x 2 = 10\n",
      "5 x 3 = 15\n",
      "5 x 4 = 20\n",
      "5 x 5 = 25\n",
      "5 x 6 = 30\n",
      "5 x 7 = 35\n",
      "5 x 8 = 40\n",
      "5 x 9 = 45\n",
      "5 x 10 = 50\n"
     ]
    }
   ],
   "source": [
    "x = 5\n",
    "for mul in range(1, 11):\n",
    "    print(f\"{x} x {mul} = {x*mul}\")"
   ]
  },
  {
   "cell_type": "code",
   "execution_count": null,
   "id": "f0e92235-c453-4c2e-b26b-8ddb19711d90",
   "metadata": {},
   "outputs": [],
   "source": []
  },
  {
   "cell_type": "code",
   "execution_count": null,
   "id": "8133e05d-faaf-4408-9edc-4acfe12907d9",
   "metadata": {},
   "outputs": [],
   "source": [
    "i = 0\n",
    "while i<5:\n",
    "    print(i)\n",
    "    i +=1"
   ]
  },
  {
   "cell_type": "code",
   "execution_count": null,
   "id": "f9b3fc8e-3bf8-41e9-ba3d-fdbf5c9af628",
   "metadata": {},
   "outputs": [],
   "source": []
  },
  {
   "cell_type": "code",
   "execution_count": null,
   "id": "2ffb05f7-17a9-4171-af97-b9585c143da8",
   "metadata": {},
   "outputs": [],
   "source": []
  },
  {
   "cell_type": "code",
   "execution_count": null,
   "id": "e1ca9406-78ef-4613-941f-f24535e138b8",
   "metadata": {},
   "outputs": [],
   "source": []
  },
  {
   "cell_type": "markdown",
   "id": "3d957a02-ebad-4fae-8a17-7c0965d1b0d1",
   "metadata": {},
   "source": [
    "# class Ma gareko"
   ]
  },
  {
   "cell_type": "markdown",
   "id": "7aa01b62-61a3-4f82-aef7-6ee0aa9e4294",
   "metadata": {},
   "source": [
    "break statement"
   ]
  },
  {
   "cell_type": "code",
   "execution_count": null,
   "id": "e2a7e202-bcb7-4714-91fe-188d5f53f67e",
   "metadata": {},
   "outputs": [],
   "source": [
    "count = 0\n",
    "while count<10:\n",
    "    print(count)\n",
    "    count += 1\n",
    "    if count == 5:\n",
    "        break"
   ]
  },
  {
   "cell_type": "markdown",
   "id": "3f73c769-d986-4054-8ee6-0fe62035db2b",
   "metadata": {},
   "source": [
    "# continue Statement "
   ]
  },
  {
   "cell_type": "code",
   "execution_count": 1,
   "id": "12f63f95-e3da-4470-941b-dc17d80b5825",
   "metadata": {},
   "outputs": [
    {
     "name": "stdout",
     "output_type": "stream",
     "text": [
      "1\n",
      "2\n",
      "3\n",
      "4\n",
      "6\n",
      "7\n"
     ]
    }
   ],
   "source": [
    "\n",
    "numbers = [1,2,3,4,5,6,7]\n",
    "for number in numbers:\n",
    "    if number == 5:\n",
    "        continue\n",
    "    print(number) "
   ]
  },
  {
   "cell_type": "code",
   "execution_count": 4,
   "id": "dcf27b75-61ec-45c7-b570-8a73ddfcc95a",
   "metadata": {},
   "outputs": [
    {
     "name": "stdout",
     "output_type": "stream",
     "text": [
      "apple\n",
      "cherry\n"
     ]
    }
   ],
   "source": [
    "fruit =[\"apple\", \"banaba\", \"cherry\"]\n",
    "for each in fruit:\n",
    "    if each == \"banaba\":\n",
    "        continue\n",
    "    print(each)"
   ]
  },
  {
   "cell_type": "markdown",
   "id": "a67a34db-0940-43ac-b8c6-3f58d970723d",
   "metadata": {},
   "source": [
    "# Exercise"
   ]
  },
  {
   "cell_type": "code",
   "execution_count": 2,
   "id": "170288ec-3a9a-4fa0-be10-355f9e74eca7",
   "metadata": {},
   "outputs": [
    {
     "name": "stdout",
     "output_type": "stream",
     "text": [
      "[3, 2, 1, 0]\n",
      "[3, 2, 1, 0, 1]\n",
      "[3, 2, 1, 0, 1, 4]\n"
     ]
    }
   ],
   "source": [
    "def gfg(x, li=[]):\n",
    "    for i in range(x):\n",
    "        li.append(i*i)\n",
    "        print(li)\n",
    "\n",
    "gfg(3,[3,2,1])"
   ]
  },
  {
   "cell_type": "code",
   "execution_count": null,
   "id": "1ba89883-782f-484a-91ce-143d6942c04c",
   "metadata": {},
   "outputs": [],
   "source": []
  }
 ],
 "metadata": {
  "kernelspec": {
   "display_name": "Python 3 (ipykernel)",
   "language": "python",
   "name": "python3"
  },
  "language_info": {
   "codemirror_mode": {
    "name": "ipython",
    "version": 3
   },
   "file_extension": ".py",
   "mimetype": "text/x-python",
   "name": "python",
   "nbconvert_exporter": "python",
   "pygments_lexer": "ipython3",
   "version": "3.12.7"
  }
 },
 "nbformat": 4,
 "nbformat_minor": 5
}
