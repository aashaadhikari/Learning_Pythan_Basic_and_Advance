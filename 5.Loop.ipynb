{
 "cells": [
  {
   "cell_type": "markdown",
   "id": "0cf6489c-9e80-481b-86f2-ff4df72d8907",
   "metadata": {},
   "source": [
    "# Loops in Python\n",
    "Loops help repeat actions in Python.\n",
    "\n",
    "* **For loops** go through items one by one.\n",
    "* **While loops** run as long as a condition is true.\n",
    "* **Nested loops** are loops inside other loops for complex tasks.\n",
    "\n",
    "Each loop works a bit differently, but all help run code multiple times.\n"
   ]
  },
  {
   "cell_type": "markdown",
   "id": "11716b31-969a-4385-b2e7-4001f733eacd",
   "metadata": {},
   "source": [
    "# While Loop in Python\n",
    "* In Python, a while loop is used to execute a block of statements repeatedly until a given condition is satisfied.\n",
    "* When the condition becomes false, the line immediately after the loop in the program is executed."
   ]
  }
 ],
 "metadata": {
  "kernelspec": {
   "display_name": "Python 3 (ipykernel)",
   "language": "python",
   "name": "python3"
  },
  "language_info": {
   "codemirror_mode": {
    "name": "ipython",
    "version": 3
   },
   "file_extension": ".py",
   "mimetype": "text/x-python",
   "name": "python",
   "nbconvert_exporter": "python",
   "pygments_lexer": "ipython3",
   "version": "3.12.7"
  }
 },
 "nbformat": 4,
 "nbformat_minor": 5
}
