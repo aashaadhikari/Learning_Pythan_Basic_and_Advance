{
 "cells": [
  {
   "cell_type": "markdown",
   "id": "084b0ee6-01d2-4cce-aea1-f7b5a25c50a9",
   "metadata": {},
   "source": [
    "# Conditional Statements\n",
    "\n",
    "## Overview\n",
    "### Notes\n",
    "`if`, `elif`, and `else` are conditional statements that control the flow of execution based on whether a condition is `True` or `False`.\n",
    "\n",
    "if - First condition check\n",
    "\n",
    "elif - subsequent condition check\n",
    "\n",
    "else - Fallback if no conditions are met"
   ]
  },
  {
   "cell_type": "markdown",
   "id": "155657ec-1000-4d73-bcd7-13a10e72e56a",
   "metadata": {},
   "source": [
    "Heere is an example of how to use `if` statement in python:"
   ]
  },
  {
   "cell_type": "code",
   "execution_count": 6,
   "id": "39b154f5-d5d6-45e9-9fd3-ebfe310a2812",
   "metadata": {},
   "outputs": [
    {
     "name": "stdout",
     "output_type": "stream",
     "text": [
      "Inside if Block\n",
      "Given Number is 55\n"
     ]
    }
   ],
   "source": [
    "x = 55\n",
    "if x> 0:\n",
    "    print(\"Inside if Block\")\n",
    "print(f\"Given Number is {x}\")\n",
    "    "
   ]
  },
  {
   "cell_type": "code",
   "execution_count": 2,
   "id": "4b493014-57a6-4461-8ca3-4a66baa989da",
   "metadata": {},
   "outputs": [
    {
     "name": "stdout",
     "output_type": "stream",
     "text": [
      "out of block\n"
     ]
    }
   ],
   "source": [
    "if x != 0:\n",
    "    print(\"out of block\")"
   ]
  },
  {
   "cell_type": "markdown",
   "id": "3dfbe778-cc0e-4ebb-8fa5-b9c9ec558366",
   "metadata": {},
   "source": [
    "Multiple conditions can be checked in an `if` statement by using logical operators like `and` and `or`. \n",
    "\n",
    "Here is an example:"
   ]
  },
  {
   "cell_type": "code",
   "execution_count": 7,
   "id": "8fd5d4b5-cfba-438a-9f70-0d651e5998df",
   "metadata": {},
   "outputs": [],
   "source": [
    "x = 5\n",
    "y =-5\n",
    "if x>0 and y>0:\n",
    "    print(\"Both x and y are positive\")"
   ]
  },
  {
   "cell_type": "markdown",
   "id": "75fc9100-af11-457e-b5ec-44315f834404",
   "metadata": {},
   "source": [
    "Here's another example that if the first condition is `False`. Then let's do something `else`."
   ]
  },
  {
   "cell_type": "code",
   "execution_count": 8,
   "id": "11f75fb9-ba13-45dc-9183-f4b34fb30641",
   "metadata": {},
   "outputs": [
    {
     "name": "stdout",
     "output_type": "stream",
     "text": [
      "what's up data Nerd\n"
     ]
    }
   ],
   "source": [
    "if False:\n",
    "    print(\"hey Data Nerd\")\n",
    "else:\n",
    "    print(\"what's up data Nerd\")"
   ]
  },
  {
   "cell_type": "markdown",
   "id": "57216656-9bdb-45de-b25b-9bf8d685e28b",
   "metadata": {},
   "source": [
    "# If\n",
    "\n",
    "`if`: Evaluates a condition. If the condition is true, the block of code under the if statement executes. If the condition is false, it skips this block.\n",
    "\n",
    "# Example\n",
    "Let's see if our skill matches with a jobs required skills. We'll use one variable to represent the applicant's skill and another to represent the skill required for the job. Then we compare these variables using an if statement, to determine if the desired job matches the available job posting."
   ]
  },
  {
   "cell_type": "code",
   "execution_count": 10,
   "id": "58d01fb8-c8b1-4043-812e-695414be4df7",
   "metadata": {},
   "outputs": [],
   "source": [
    "application_skill = \"SQL\"\n",
    "job_skill = \"SQL\"\n",
    "result = \"No skill Match\""
   ]
  },
  {
   "cell_type": "markdown",
   "id": "dc001887-e1e6-41af-8a34-de6a78c5cfdc",
   "metadata": {},
   "source": [
    "🪲 Debugging\n",
    "\n",
    "This is an intentional mistake\n",
    "\n",
    "This is used to demonstrate debugging.\n",
    "\n",
    "Error: Using the wrong opertor = for a checking a condition\n",
    "\n",
    "`if applicant_skill = job_skill:`\n",
    "\n",
    "Steps to Debug:\n",
    "\n",
    "1. Look at the actual error, can you tell what the problem is?\n",
    "2. If not, then look it up paste in a Chatbot like ChatGPT or Claude"
   ]
  },
  {
   "cell_type": "code",
   "execution_count": 11,
   "id": "4722d15f-9a26-4fd9-a036-73d6506717b5",
   "metadata": {},
   "outputs": [
    {
     "ename": "SyntaxError",
     "evalue": "invalid syntax. Maybe you meant '==' or ':=' instead of '='? (242591736.py, line 1)",
     "output_type": "error",
     "traceback": [
      "\u001b[1;36m  Cell \u001b[1;32mIn[11], line 1\u001b[1;36m\u001b[0m\n\u001b[1;33m    if application_skill = job_skill:\u001b[0m\n\u001b[1;37m       ^\u001b[0m\n\u001b[1;31mSyntaxError\u001b[0m\u001b[1;31m:\u001b[0m invalid syntax. Maybe you meant '==' or ':=' instead of '='?\n"
     ]
    }
   ],
   "source": [
    "if application_skill = job_skill:\n",
    " result =\"skill Match\"\n",
    "    result"
   ]
  },
  {
   "cell_type": "markdown",
   "id": "c1673e4d-1fdc-46a8-86aa-c6a01a702853",
   "metadata": {},
   "source": [
    "The corret is bellow:"
   ]
  },
  {
   "cell_type": "code",
   "execution_count": 14,
   "id": "31c11eb7-1117-460c-a203-ce8dc247f801",
   "metadata": {},
   "outputs": [
    {
     "data": {
      "text/plain": [
       "'skill Match'"
      ]
     },
     "execution_count": 14,
     "metadata": {},
     "output_type": "execute_result"
    }
   ],
   "source": [
    "if application_skill == job_skill:\n",
    "   result =\"skill Match\"\n",
    "    \n",
    "result"
   ]
  },
  {
   "cell_type": "markdown",
   "id": "50f70580-5f11-44a6-b056-451a35f4be0d",
   "metadata": {},
   "source": [
    "# Elif\n",
    "## Notes\n",
    " * `Elif`: Follows an if or another elif statement. It's saying \"if the previous conditions were not true, then try this condition\". Or if the elif condition is true, its block executes.\n",
    "\n",
    "# Example\n"
   ]
  },
  {
   "cell_type": "code",
   "execution_count": 17,
   "id": "ce9719f3-5d5f-4647-a721-8afde5e7f646",
   "metadata": {},
   "outputs": [],
   "source": [
    "years_experience = 4\n"
   ]
  },
  {
   "cell_type": "code",
   "execution_count": 19,
   "id": "989353da-fc5f-48cb-a080-6bb9649dc11a",
   "metadata": {},
   "outputs": [
    {
     "data": {
      "text/plain": [
       "'mid DAP'"
      ]
     },
     "execution_count": 19,
     "metadata": {},
     "output_type": "execute_result"
    }
   ],
   "source": [
    "if application_skill == job_skill and years_experience < 2:\n",
    "    result = \"Junior DAP\"\n",
    "\n",
    "elif application_skill == job_skill and years_experience <= 5:\n",
    "     result =\"mid DAP\"\n",
    "\n",
    "else:\n",
    "    result= \"senior DAP\" \n",
    "\n",
    "result"
   ]
  },
  {
   "cell_type": "markdown",
   "id": "21a9bf3a-cd46-4368-9e06-f6c8bef74e24",
   "metadata": {},
   "source": [
    "# Else\n",
    "## Notes\n",
    "`Else` runs if anything before it doesn't run."
   ]
  },
  {
   "cell_type": "markdown",
   "id": "b66aee4c-6e4c-4ebe-8a8c-5c01a5a18953",
   "metadata": {},
   "source": [
    "# Pass\n",
    "## Notes\n",
    " * If statements can't be empty, but if you have an `if` statement with nothing in it, you can use `pass` to avoid getting an error.\n",
    "\n",
    "# Example\n",
    "* We create an if statement\n",
    "* Use pass within the statement, so it doesn't run an error"
   ]
  },
  {
   "cell_type": "code",
   "execution_count": 20,
   "id": "6ecac9a8-9228-45b4-a6fb-b5ddd88ecda3",
   "metadata": {},
   "outputs": [
    {
     "ename": "SyntaxError",
     "evalue": "expected ':' (1029198398.py, line 1)",
     "output_type": "error",
     "traceback": [
      "\u001b[1;36m  Cell \u001b[1;32mIn[20], line 1\u001b[1;36m\u001b[0m\n\u001b[1;33m    if application_skill == job_skill\u001b[0m\n\u001b[1;37m                                     ^\u001b[0m\n\u001b[1;31mSyntaxError\u001b[0m\u001b[1;31m:\u001b[0m expected ':'\n"
     ]
    }
   ],
   "source": [
    "if application_skill == job_skill"
   ]
  },
  {
   "cell_type": "code",
   "execution_count": 21,
   "id": "3c9785ba-746f-49b9-acf5-46c56256243d",
   "metadata": {},
   "outputs": [],
   "source": [
    "if application_skill == job_skill:\n",
    "    pass"
   ]
  },
  {
   "cell_type": "code",
   "execution_count": null,
   "id": "fa376c19-1ba1-4138-a79f-b3f07da07009",
   "metadata": {},
   "outputs": [],
   "source": []
  },
  {
   "cell_type": "code",
   "execution_count": null,
   "id": "b94bf99a-c23d-4fe9-a117-cf6839cb6412",
   "metadata": {},
   "outputs": [],
   "source": []
  },
  {
   "cell_type": "markdown",
   "id": "c4dccc84-8aa8-46a7-8a61-aa571c45df7b",
   "metadata": {},
   "source": [
    "# Nested if___ condition\n"
   ]
  },
  {
   "cell_type": "code",
   "execution_count": null,
   "id": "263c513f-fec7-48d9-9f60-e0329f09bf88",
   "metadata": {},
   "outputs": [],
   "source": [
    "x = 20\n",
    "if x > 0:\n",
    "    print(f\"Given number {x} is positive\")\n",
    "\n",
    "elif x == 0:\n",
    "      print(f\"Given number {x} is zero\")"
   ]
  }
 ],
 "metadata": {
  "kernelspec": {
   "display_name": "Python 3 (ipykernel)",
   "language": "python",
   "name": "python3"
  },
  "language_info": {
   "codemirror_mode": {
    "name": "ipython",
    "version": 3
   },
   "file_extension": ".py",
   "mimetype": "text/x-python",
   "name": "python",
   "nbconvert_exporter": "python",
   "pygments_lexer": "ipython3",
   "version": "3.12.7"
  }
 },
 "nbformat": 4,
 "nbformat_minor": 5
}
