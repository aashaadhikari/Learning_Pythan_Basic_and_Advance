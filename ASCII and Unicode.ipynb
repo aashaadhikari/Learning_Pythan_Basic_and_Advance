{
 "cells": [
  {
   "cell_type": "markdown",
   "id": "de4b6c51-681a-4110-bf8b-2b3b39b0d48c",
   "metadata": {},
   "source": [
    "Here's a simple and clear difference between **ASCII** and **Unicode**:\n",
    "\n",
    "| Feature        | ASCII                                                 | Unicode                                                                    |\n",
    "| -------------- | ----------------------------------------------------- | -------------------------------------------------------------------------- |\n",
    "| **Full Form**  | American Standard Code for Information Interchange    | Universal Character Encoding Standard                                      |\n",
    "| **Characters** | Supports 128 characters only (A-Z, a-z, 0-9, symbols) | Supports over 140,000 characters (includes emojis, symbols, all languages) |\n",
    "| **Size**       | 7 bits per character                                  | Uses 8, 16, or 32 bits                                                     |\n",
    "| **Languages**  | English only                                          | All world languages                                                        |\n",
    "| **Example**    | `ord('A') = 65`                                       | `ord('अ') = 2309`, `ord('€') = 8364`                                       |\n",
    "\n",
    "### Summary:\n",
    "\n",
    "* **ASCII** is small and old — for basic English characters only.\n",
    "* **Unicode** is bigger and modern — for all global text and symbols.\n"
   ]
  },
  {
   "cell_type": "code",
   "execution_count": 2,
   "id": "56189656-b90f-48eb-aa69-85a2b24106e0",
   "metadata": {},
   "outputs": [
    {
     "name": "stdout",
     "output_type": "stream",
     "text": [
      "97\n"
     ]
    }
   ],
   "source": [
    "print(ord('a')) "
   ]
  },
  {
   "cell_type": "code",
   "execution_count": null,
   "id": "9c6c7fd0-3e94-490e-85bf-dc643d04c5d1",
   "metadata": {},
   "outputs": [],
   "source": []
  }
 ],
 "metadata": {
  "kernelspec": {
   "display_name": "Python 3 (ipykernel)",
   "language": "python",
   "name": "python3"
  },
  "language_info": {
   "codemirror_mode": {
    "name": "ipython",
    "version": 3
   },
   "file_extension": ".py",
   "mimetype": "text/x-python",
   "name": "python",
   "nbconvert_exporter": "python",
   "pygments_lexer": "ipython3",
   "version": "3.12.7"
  }
 },
 "nbformat": 4,
 "nbformat_minor": 5
}
