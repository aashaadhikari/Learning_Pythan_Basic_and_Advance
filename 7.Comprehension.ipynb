{
 "cells": [
  {
   "cell_type": "markdown",
   "id": "c7d3be06-c13b-4626-83cf-ca25cd71a306",
   "metadata": {},
   "source": [
    "#  Python Comprehidion\n",
    "syntax:\n",
    "output = [<expression> for num in num  if<condition>]\n",
    "\n",
    "# List comprehesion"
   ]
  },
  {
   "cell_type": "code",
   "execution_count": 1,
   "id": "961020fb-1c70-47d1-a95d-294c2b840b93",
   "metadata": {},
   "outputs": [
    {
     "name": "stdout",
     "output_type": "stream",
     "text": [
      "[9]\n",
      "[9, 25]\n",
      "[9, 25, 49]\n"
     ]
    }
   ],
   "source": [
    "# list comp...\n",
    "\n",
    "numbers = [3,5,7]\n",
    "square = []\n",
    "for each in numbers:\n",
    "    square.append(each ** 2)\n",
    "    print(square)"
   ]
  },
  {
   "cell_type": "code",
   "execution_count": 2,
   "id": "96cad207-d011-4ba1-bc6d-03b88a5925bf",
   "metadata": {},
   "outputs": [
    {
     "ename": "TypeError",
     "evalue": "unsupported operand type(s) for ** or pow(): 'list' and 'int'",
     "output_type": "error",
     "traceback": [
      "\u001b[1;31m---------------------------------------------------------------------------\u001b[0m",
      "\u001b[1;31mTypeError\u001b[0m                                 Traceback (most recent call last)",
      "Cell \u001b[1;32mIn[2], line 2\u001b[0m\n\u001b[0;32m      1\u001b[0m numbers \u001b[38;5;241m=\u001b[39m [\u001b[38;5;241m1\u001b[39m,\u001b[38;5;241m10\u001b[39m,\u001b[38;5;241m1\u001b[39m]\n\u001b[1;32m----> 2\u001b[0m square_2 \u001b[38;5;241m=\u001b[39m [numbers \u001b[38;5;241m*\u001b[39m\u001b[38;5;241m*\u001b[39m \u001b[38;5;241m2\u001b[39m \u001b[38;5;28;01mfor\u001b[39;00m num \u001b[38;5;129;01min\u001b[39;00m numbers]\n\u001b[0;32m      3\u001b[0m \u001b[38;5;28mprint\u001b[39m(square_2)\n",
      "\u001b[1;31mTypeError\u001b[0m: unsupported operand type(s) for ** or pow(): 'list' and 'int'"
     ]
    }
   ],
   "source": [
    "numbers = [1,10,1]\n",
    "square_2 = [numbers ** 2 for num in numbers]\n",
    "print(square_2)"
   ]
  },
  {
   "cell_type": "code",
   "execution_count": null,
   "id": "474af156-6326-4d34-8e39-7395cbb8127f",
   "metadata": {},
   "outputs": [],
   "source": [
    "number=[2,3,4,6,7]\n",
    "c_even = [num for num  in number if num%2==0]\n",
    "print(c_even)"
   ]
  },
  {
   "cell_type": "code",
   "execution_count": null,
   "id": "986fb58b-4209-4266-9bae-c6419f56a70a",
   "metadata": {},
   "outputs": [],
   "source": [
    "num_odd = [num for num in range(1,60) if num%2 != 0]\n",
    "print(num_odd)"
   ]
  },
  {
   "cell_type": "code",
   "execution_count": null,
   "id": "2372a3cf-e2e8-44a1-93db-6b713c8a71c3",
   "metadata": {},
   "outputs": [],
   "source": [
    "squ_even = [num ** 2 for num in range(1,10) if num%2 == 0]\n",
    "print(squ_even)"
   ]
  },
  {
   "cell_type": "code",
   "execution_count": null,
   "id": "f30d6c3c-cd1f-4b2e-97d0-75e87d4747ad",
   "metadata": {},
   "outputs": [],
   "source": []
  },
  {
   "cell_type": "code",
   "execution_count": null,
   "id": "424b0a46-5833-444f-bfaa-bb3943d229fd",
   "metadata": {},
   "outputs": [],
   "source": []
  },
  {
   "cell_type": "code",
   "execution_count": null,
   "id": "cf87cf8f-2274-4977-aaf2-b89dc408267a",
   "metadata": {},
   "outputs": [],
   "source": [
    "abjective = [\"red\", \"big\", \"tasty\"]\n",
    "fruits = [\"apple\", \"banana\", \"charry\",\"mango\"]\n",
    "\n",
    "pair =[(abj, fruit) for abj in abjective for fruit in fruits]\n",
    "print(pair)\n"
   ]
  },
  {
   "cell_type": "code",
   "execution_count": null,
   "id": "0788274b-1cfd-4041-8512-e16e6f7d5be4",
   "metadata": {},
   "outputs": [],
   "source": []
  },
  {
   "cell_type": "code",
   "execution_count": null,
   "id": "9054b032-168b-4d68-bb21-ea3cada19c35",
   "metadata": {},
   "outputs": [],
   "source": [
    "sen = \"A single training set that has already been processed is usually split into several types of datasets in machine learning which is needed to check how well the training of the model went\"\n",
    "words_length=[len(set(each)) for each in sen.split(\" \") ]\n",
    "print(words_length)"
   ]
  },
  {
   "cell_type": "code",
   "execution_count": null,
   "id": "b7cd5d5c-680e-4586-a187-20d5badfcb5b",
   "metadata": {},
   "outputs": [],
   "source": []
  },
  {
   "cell_type": "markdown",
   "id": "3122367f-362f-40e1-a1fc-860d0a3b4abf",
   "metadata": {},
   "source": [
    "# Dictionery comprehesion\n",
    "new_dict ={key_expression: value_expression for item in itreable if condition}"
   ]
  },
  {
   "cell_type": "code",
   "execution_count": null,
   "id": "344d5739-00da-4db3-b462-b857c0ecd492",
   "metadata": {},
   "outputs": [],
   "source": [
    "odd_dict ={}\n",
    "for num in range(1,20,2):\n",
    "    odd_dict[num] = num**2\n",
    "    \n",
    "print(odd_dict)"
   ]
  },
  {
   "cell_type": "code",
   "execution_count": null,
   "id": "1fd7715f-634e-4eb5-9392-2489d74e447c",
   "metadata": {},
   "outputs": [],
   "source": []
  },
  {
   "cell_type": "code",
   "execution_count": null,
   "id": "f5781a8c-6f4a-424c-b425-624e0bfe652f",
   "metadata": {},
   "outputs": [],
   "source": [
    "odd_dict ={ num:num**2 for num in range(1,20,3)}\n",
    "odd_dict"
   ]
  },
  {
   "cell_type": "code",
   "execution_count": null,
   "id": "fd0fed5c-4692-49dc-9e4d-30cfff38c025",
   "metadata": {},
   "outputs": [],
   "source": []
  },
  {
   "cell_type": "code",
   "execution_count": null,
   "id": "0a4a05da-e3cc-43b8-a5e4-aaf789927245",
   "metadata": {},
   "outputs": [],
   "source": [
    "odd_dict ={ num:num**2 for num in range(1,50,3) if num%2 == 0 }\n",
    "odd_dict"
   ]
  },
  {
   "cell_type": "code",
   "execution_count": null,
   "id": "b6ced7c3-c908-4577-8352-684192a9e9cf",
   "metadata": {},
   "outputs": [],
   "source": []
  },
  {
   "cell_type": "code",
   "execution_count": null,
   "id": "ad14c16c-8d0b-4128-8341-5dd534a4a272",
   "metadata": {},
   "outputs": [],
   "source": [
    "senta = \"A single training set that has already been processed is usually split into several types of datasets in machine learning which is needed to check how well the training of the model went\"\n",
    "count_senta = {each:len(set(each)) for each in senta.split(\" \") if len(each) >= 5}\n",
    "print(count_senta)"
   ]
  },
  {
   "cell_type": "code",
   "execution_count": null,
   "id": "1cdd485c-1c9b-4546-b545-809f5ef720a9",
   "metadata": {},
   "outputs": [],
   "source": []
  },
  {
   "cell_type": "markdown",
   "id": "aae687b5-bb78-459f-bb5d-126264c2bb4e",
   "metadata": {},
   "source": [
    "# Set comprehension\n",
    "\n",
    "syntex:\n",
    "output = {expression for item in itersble if condition}\n",
    "\n",
    "element are unique"
   ]
  },
  {
   "cell_type": "code",
   "execution_count": 3,
   "id": "6fbaa75e-e455-482c-812a-893e67888978",
   "metadata": {},
   "outputs": [
    {
     "name": "stdout",
     "output_type": "stream",
     "text": [
      "{16, 64, 4, 36}\n"
     ]
    }
   ],
   "source": [
    "squ_even ={num**2 for num in range(1,10) if num%2 ==0}\n",
    "print(squ_even)"
   ]
  },
  {
   "cell_type": "code",
   "execution_count": null,
   "id": "56b39ddb-c1ff-4fa4-ae39-11ed31cda1e8",
   "metadata": {},
   "outputs": [],
   "source": []
  },
  {
   "cell_type": "code",
   "execution_count": null,
   "id": "0a19e6d5-ea8f-4c54-8f33-e037244b2f80",
   "metadata": {},
   "outputs": [],
   "source": [
    "letters = ['a', 'b', 'c']\n",
    "paris = {let1 + let2 for let1 in letters for let2 in letters}\n",
    "print(paris)"
   ]
  },
  {
   "cell_type": "code",
   "execution_count": null,
   "id": "4f79b80d-954d-456e-82fb-c638d8d7baa1",
   "metadata": {},
   "outputs": [],
   "source": []
  },
  {
   "cell_type": "code",
   "execution_count": 4,
   "id": "93d32b7d-86e3-4bc0-8caa-7e4382fc7a25",
   "metadata": {},
   "outputs": [
    {
     "name": "stdout",
     "output_type": "stream",
     "text": [
      "{'e', 'o', 'i', 'a'}\n"
     ]
    }
   ],
   "source": [
    "sent = \"Set comprehensions can also be nested\"\n",
    "vowels =\"aeiou\"\n",
    "\n",
    "vowels_count ={ char for char in sent.lower() if char in list(vowels)}\n",
    "\n",
    "print(vowels_count)"
   ]
  },
  {
   "cell_type": "code",
   "execution_count": null,
   "id": "c2e59b80-3a2e-44d0-9461-1b6c7a40430b",
   "metadata": {},
   "outputs": [],
   "source": []
  },
  {
   "cell_type": "code",
   "execution_count": null,
   "id": "043054a2-dc12-49b8-a1ac-396a6258dcae",
   "metadata": {},
   "outputs": [],
   "source": []
  },
  {
   "cell_type": "code",
   "execution_count": null,
   "id": "31393fed-50c8-4479-94f0-e0e33eff6f5c",
   "metadata": {},
   "outputs": [],
   "source": [
    "asasd={w: w*h for w,h in [(100,200), (400, 500)]}\n",
    "asasd"
   ]
  },
  {
   "cell_type": "code",
   "execution_count": null,
   "id": "266f075f-fc78-4553-85b2-81912cd02638",
   "metadata": {},
   "outputs": [],
   "source": []
  },
  {
   "cell_type": "code",
   "execution_count": null,
   "id": "28124863-c864-4037-ba42-4b56d05f84d1",
   "metadata": {},
   "outputs": [],
   "source": []
  },
  {
   "cell_type": "code",
   "execution_count": null,
   "id": "8250406a-5b72-420f-81bd-4812421e34fb",
   "metadata": {},
   "outputs": [],
   "source": []
  }
 ],
 "metadata": {
  "kernelspec": {
   "display_name": "Python 3 (ipykernel)",
   "language": "python",
   "name": "python3"
  },
  "language_info": {
   "codemirror_mode": {
    "name": "ipython",
    "version": 3
   },
   "file_extension": ".py",
   "mimetype": "text/x-python",
   "name": "python",
   "nbconvert_exporter": "python",
   "pygments_lexer": "ipython3",
   "version": "3.12.7"
  }
 },
 "nbformat": 4,
 "nbformat_minor": 5
}
