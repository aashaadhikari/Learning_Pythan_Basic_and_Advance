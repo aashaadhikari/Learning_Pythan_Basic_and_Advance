{
 "cells": [
  {
   "cell_type": "markdown",
   "id": "c66dde3c-2031-4255-856a-67a2ba123937",
   "metadata": {},
   "source": [
    "# String\n"
   ]
  },
  {
   "cell_type": "code",
   "execution_count": 1,
   "id": "349231e0-f4b8-4d51-850d-1beee5625ef8",
   "metadata": {},
   "outputs": [
    {
     "data": {
      "text/plain": [
       "'This is a string in double quotes'"
      ]
     },
     "execution_count": 1,
     "metadata": {},
     "output_type": "execute_result"
    }
   ],
   "source": [
    "\"This is a string in double quotes\""
   ]
  },
  {
   "cell_type": "code",
   "execution_count": 2,
   "id": "204fe91a-562e-41a5-b572-d1c1677574e4",
   "metadata": {},
   "outputs": [
    {
     "data": {
      "text/plain": [
       "'This is a string in single quotes'"
      ]
     },
     "execution_count": 2,
     "metadata": {},
     "output_type": "execute_result"
    }
   ],
   "source": [
    "'This is a string in single quotes'"
   ]
  },
  {
   "cell_type": "markdown",
   "id": "ef919421-6eff-4fe3-a2b5-0d65aad51895",
   "metadata": {},
   "source": [
    "NOTE: For this course we'll maintain consistency by using ' single quotes for strings\n",
    "\n",
    "If we didn't put quotes around the string it will pass error."
   ]
  },
  {
   "cell_type": "markdown",
   "id": "ecd05b0f-bdee-41db-9c30-e60ed1fa08b6",
   "metadata": {},
   "source": [
    "# String Methods\n",
    "Python provides a variety of built-in string methods that you can use to perform operations on strings. Some common string methods include `lower()`, `upper()`, `strip()`, `replace()`, and `split()`. Here are some examples:"
   ]
  },
  {
   "cell_type": "code",
   "execution_count": 3,
   "id": "2beeeed0-e060-481e-81c6-9c28380b26ef",
   "metadata": {},
   "outputs": [
    {
     "data": {
      "text/plain": [
       "str"
      ]
     },
     "execution_count": 3,
     "metadata": {},
     "output_type": "execute_result"
    }
   ],
   "source": [
    "skill = \"Python\"\n",
    "type(skill)"
   ]
  },
  {
   "cell_type": "code",
   "execution_count": 4,
   "id": "9771909c-10aa-4c81-ba0f-f5a4ac370fc0",
   "metadata": {},
   "outputs": [
    {
     "data": {
      "text/plain": [
       "'PYTHON'"
      ]
     },
     "execution_count": 4,
     "metadata": {},
     "output_type": "execute_result"
    }
   ],
   "source": [
    "skill.upper()"
   ]
  },
  {
   "cell_type": "code",
   "execution_count": 5,
   "id": "a471c739-c66b-4e48-add4-141d6591772f",
   "metadata": {},
   "outputs": [
    {
     "data": {
      "text/plain": [
       "'python'"
      ]
     },
     "execution_count": 5,
     "metadata": {},
     "output_type": "execute_result"
    }
   ],
   "source": [
    "skill.lower()"
   ]
  },
  {
   "cell_type": "code",
   "execution_count": 14,
   "id": "00623195-0230-4f3f-9f07-4d325fe82b7e",
   "metadata": {},
   "outputs": [
    {
     "data": {
      "text/plain": [
       "'        hello world   '"
      ]
     },
     "execution_count": 14,
     "metadata": {},
     "output_type": "execute_result"
    }
   ],
   "source": [
    "x = \"        hello world   \"\n",
    "x"
   ]
  },
  {
   "cell_type": "code",
   "execution_count": 15,
   "id": "aace6aa1-2b9e-4309-97ac-a1ddfb48eba5",
   "metadata": {},
   "outputs": [
    {
     "data": {
      "text/plain": [
       "['hello', 'world']"
      ]
     },
     "execution_count": 15,
     "metadata": {},
     "output_type": "execute_result"
    }
   ],
   "source": [
    "x.split()"
   ]
  },
  {
   "cell_type": "markdown",
   "id": "0b517809-bcbe-492c-8b68-4cf0b0bf7833",
   "metadata": {},
   "source": [
    "# Postional Arguments\n",
    "\n",
    "something methods take arguments:\n"
   ]
  },
  {
   "cell_type": "code",
   "execution_count": 7,
   "id": "075f785e-87ae-4c24-af5e-582643f72188",
   "metadata": {},
   "outputs": [
    {
     "data": {
      "text/plain": [
       "'jython'"
      ]
     },
     "execution_count": 7,
     "metadata": {},
     "output_type": "execute_result"
    }
   ],
   "source": [
    "skill.replace(\"P\", \"j\")"
   ]
  },
  {
   "cell_type": "markdown",
   "id": "86552f23-ae3c-41cf-b706-614866fb3f74",
   "metadata": {},
   "source": [
    "# Keyword Arguments\n"
   ]
  },
  {
   "cell_type": "code",
   "execution_count": 8,
   "id": "8fcf9c5f-a38b-4884-b908-68c7e71c5c03",
   "metadata": {},
   "outputs": [
    {
     "data": {
      "text/plain": [
       "['Data', 'Analyst']"
      ]
     },
     "execution_count": 8,
     "metadata": {},
     "output_type": "execute_result"
    }
   ],
   "source": [
    "job_title = \"Data Analyst\"\n",
    "job_title.split(sep=\" \", maxsplit = 1)"
   ]
  },
  {
   "cell_type": "code",
   "execution_count": 10,
   "id": "ae146629-e73c-42e2-99a1-3b6b0a88adac",
   "metadata": {},
   "outputs": [
    {
     "data": {
      "text/plain": [
       "'DataAnalyst'"
      ]
     },
     "execution_count": 10,
     "metadata": {},
     "output_type": "execute_result"
    }
   ],
   "source": [
    "str.__add__(\"Data\", \"Analyst\")"
   ]
  },
  {
   "cell_type": "code",
   "execution_count": 12,
   "id": "d425a70a-01dd-44c2-a63a-4512f4b4689a",
   "metadata": {},
   "outputs": [
    {
     "data": {
      "text/plain": [
       "'DataAnalyst'"
      ]
     },
     "execution_count": 12,
     "metadata": {},
     "output_type": "execute_result"
    }
   ],
   "source": [
    "\"Data\".__add__(\"Analyst\")"
   ]
  },
  {
   "cell_type": "markdown",
   "id": "af63cd88-5729-4de4-89dc-88194bbf1b66",
   "metadata": {},
   "source": [
    "\n",
    "Dunder methods are sometimes overridden by operators; such as in this case `+`"
   ]
  },
  {
   "cell_type": "code",
   "execution_count": 13,
   "id": "07edbd7a-8c6d-43f7-a7a2-88f63aaf21ce",
   "metadata": {},
   "outputs": [
    {
     "data": {
      "text/plain": [
       "'DataAnalyst'"
      ]
     },
     "execution_count": 13,
     "metadata": {},
     "output_type": "execute_result"
    }
   ],
   "source": [
    "\"Data\" + \"Analyst\""
   ]
  },
  {
   "cell_type": "markdown",
   "id": "19e88a9c-7d2d-4f17-8bcd-8cc0ebc17861",
   "metadata": {},
   "source": [
    "# String indexing\n",
    "You can access individual characters in a string using indexing. In Python, indexing starts at 0. Here are some examples:"
   ]
  },
  {
   "cell_type": "code",
   "execution_count": 16,
   "id": "eecb135f-7b53-4491-bd63-3f01c79e7c80",
   "metadata": {},
   "outputs": [
    {
     "data": {
      "text/plain": [
       "'S'"
      ]
     },
     "execution_count": 16,
     "metadata": {},
     "output_type": "execute_result"
    }
   ],
   "source": [
    "x = \"Seema Adhikari\"\n",
    "x[0]"
   ]
  },
  {
   "cell_type": "code",
   "execution_count": 18,
   "id": "c9382227-acb1-4ace-90a4-c6c98f040255",
   "metadata": {},
   "outputs": [
    {
     "data": {
      "text/plain": [
       "'ma A'"
      ]
     },
     "execution_count": 18,
     "metadata": {},
     "output_type": "execute_result"
    }
   ],
   "source": [
    "x[3:7]"
   ]
  },
  {
   "cell_type": "markdown",
   "id": "9d3fa31a-0819-4b4d-bc55-2b7464db5dc4",
   "metadata": {},
   "source": [
    "# String slicing\n",
    "You can also access a range of characters in a string using slicing. Slicing uses the syntax `start:stop:step`, where `start` is the index of the first character you want to include, `stop` is the index of the first character you want to exclude, and `step` is the number of characters to skip. Here are some examples:"
   ]
  },
  {
   "cell_type": "code",
   "execution_count": 19,
   "id": "1b2243b4-c0ca-4473-bb59-e090e3b1abcb",
   "metadata": {},
   "outputs": [
    {
     "data": {
      "text/plain": [
       "'Mne'"
      ]
     },
     "execution_count": 19,
     "metadata": {},
     "output_type": "execute_result"
    }
   ],
   "source": [
    "y = \"My name is seema adhikari\"\n",
    "y[0:9:3]"
   ]
  },
  {
   "cell_type": "code",
   "execution_count": null,
   "id": "9fb110aa-c438-463f-9686-f8a02d170752",
   "metadata": {},
   "outputs": [],
   "source": []
  },
  {
   "cell_type": "markdown",
   "id": "a3f7cc2b-c9c0-4a16-8e4c-bf09ae02209b",
   "metadata": {},
   "source": [
    "# String Formatting\n",
    "\n",
    "You can use string formatting to insert variables or expressions into a string. There are several ways to format strings in Python, including using % operator, .format() and f-strings. Here are some examples:\n",
    "\n",
    "\n",
    "# Types\n",
    "## Concatenation `+`\n",
    "Concatenation involves combining strings with the `+` operator.\n",
    "It's straightforward but not as flexible as other methods for complex formatting."
   ]
  },
  {
   "cell_type": "code",
   "execution_count": 21,
   "id": "fa807674-16de-4f5a-8773-4d62b3c250cb",
   "metadata": {},
   "outputs": [],
   "source": [
    "role = 'Data analyst'\n",
    "skill = \"python\""
   ]
  },
  {
   "cell_type": "code",
   "execution_count": 22,
   "id": "c65bf4ac-594d-4c84-8759-96e268856553",
   "metadata": {},
   "outputs": [
    {
     "data": {
      "text/plain": [
       "'Role:Data analyst'"
      ]
     },
     "execution_count": 22,
     "metadata": {},
     "output_type": "execute_result"
    }
   ],
   "source": [
    "'Role:' + role"
   ]
  },
  {
   "cell_type": "markdown",
   "id": "2d147d9c-493f-4a27-b751-240b3ae05aeb",
   "metadata": {},
   "source": [
    "<b>Notes:</b> For all examples we are going to omit the `print()` function for ease of readability\n",
    "e.g. `print('Role: ' + role)`\n",
    "\n",
    "## %-formating(Not preferred)\n",
    "%-formatting is an older method where `%` symbols serve as placeholders for variables."
   ]
  },
  {
   "cell_type": "code",
   "execution_count": 23,
   "id": "5a2d8d9d-8fe9-474b-835c-aca6bd20e064",
   "metadata": {},
   "outputs": [
    {
     "data": {
      "text/plain": [
       "'role: Data analyst, skill required: python'"
      ]
     },
     "execution_count": 23,
     "metadata": {},
     "output_type": "execute_result"
    }
   ],
   "source": [
    "'role: %s, skill required: %s' %(role, skill)"
   ]
  },
  {
   "cell_type": "markdown",
   "id": "e7861fee-a984-44ca-9f12-67a89de53b15",
   "metadata": {},
   "source": [
    "<b>NOTE:</b> This is the last time you'll see us use this option as it's hard to read IMO (in my opinion)\n",
    "\n",
    "## f-string(Formatted string Literals - Preferred)\n",
    "Use f-strings by prefixing a string with `f` and placing variables or expressions in `{}` braces directly within the string.\n",
    "They are both concise and efficient."
   ]
  },
  {
   "cell_type": "code",
   "execution_count": 24,
   "id": "cc626e39-7335-460e-99d4-7c5996c333ac",
   "metadata": {},
   "outputs": [
    {
     "data": {
      "text/plain": [
       "'Role: Data analyst, skill required: python'"
      ]
     },
     "execution_count": 24,
     "metadata": {},
     "output_type": "execute_result"
    }
   ],
   "source": [
    "f'Role: {role}, skill required: {skill}'"
   ]
  },
  {
   "cell_type": "markdown",
   "id": "33b3b60b-e561-4f93-895f-9f902ccd20c7",
   "metadata": {},
   "source": [
    "# str.format()\n",
    "The `str.format()` method uses curly braces `{}` as placeholders. It's more flexible than %-formatting and allows for reordering and reuse of arguments."
   ]
  },
  {
   "cell_type": "code",
   "execution_count": 25,
   "id": "c87ece81-37df-4b3a-9293-90e65ea4e46a",
   "metadata": {},
   "outputs": [
    {
     "data": {
      "text/plain": [
       "'role: Data analyst, skill required:python'"
      ]
     },
     "execution_count": 25,
     "metadata": {},
     "output_type": "execute_result"
    }
   ],
   "source": [
    "'role: {}, skill required:{}'.format(role, skill)"
   ]
  },
  {
   "cell_type": "markdown",
   "id": "64f2582a-705e-4a64-b6ba-eb1370e3fd89",
   "metadata": {},
   "source": [
    "Or you can refer to your variable substitutions similar to f-strings... I still prefer f-strings tho."
   ]
  },
  {
   "cell_type": "code",
   "execution_count": 27,
   "id": "e45deb6f-4993-4a82-8794-edf0f64c578b",
   "metadata": {},
   "outputs": [
    {
     "data": {
      "text/plain": [
       "'Role: Data Nerd, skill requiredment is sql'"
      ]
     },
     "execution_count": 27,
     "metadata": {},
     "output_type": "execute_result"
    }
   ],
   "source": [
    "\"Role: {role}, skill requiredment is {skill}\".format( role=\"Data Nerd\" , skill=\"sql\")"
   ]
  },
  {
   "cell_type": "markdown",
   "id": "0f823c07-7aaf-47f4-8250-8283034fb2c2",
   "metadata": {},
   "source": [
    "# Using join()\n",
    "The join() method is useful for concatenating iterable items (e.g., strings, lists) into a single string, often separated by a specified character."
   ]
  },
  {
   "cell_type": "code",
   "execution_count": 28,
   "id": "e9bd6cce-a0da-4988-b9e8-e82e4d573313",
   "metadata": {},
   "outputs": [
    {
     "data": {
      "text/plain": [
       "'1,0,4,5,6,5,4,3'"
      ]
     },
     "execution_count": 28,
     "metadata": {},
     "output_type": "execute_result"
    }
   ],
   "source": [
    "work_exp = \"10456543\"\n",
    "','.join(work_exp)\n"
   ]
  },
  {
   "cell_type": "markdown",
   "id": "385e66f5-f883-49b6-9a35-ad9b1174d577",
   "metadata": {},
   "source": [
    "This is more commonly used when you have a list of items to concatenate."
   ]
  },
  {
   "cell_type": "code",
   "execution_count": 29,
   "id": "49b870d2-5a2d-4f01-aac6-9a00cf7c523f",
   "metadata": {},
   "outputs": [
    {
     "data": {
      "text/plain": [
       "'Role: Data analyst,skill required:python,SQL'"
      ]
     },
     "execution_count": 29,
     "metadata": {},
     "output_type": "execute_result"
    }
   ],
   "source": [
    "skill = ['python', \"SQL\"]\n",
    "'Role: '+ role +',skill required:'+',' .join(skill)"
   ]
  },
  {
   "cell_type": "code",
   "execution_count": null,
   "id": "58b9da24-a4f2-4c25-a7cf-acf435013e21",
   "metadata": {},
   "outputs": [],
   "source": []
  }
 ],
 "metadata": {
  "kernelspec": {
   "display_name": "Python 3 (ipykernel)",
   "language": "python",
   "name": "python3"
  },
  "language_info": {
   "codemirror_mode": {
    "name": "ipython",
    "version": 3
   },
   "file_extension": ".py",
   "mimetype": "text/x-python",
   "name": "python",
   "nbconvert_exporter": "python",
   "pygments_lexer": "ipython3",
   "version": "3.12.7"
  }
 },
 "nbformat": 4,
 "nbformat_minor": 5
}
