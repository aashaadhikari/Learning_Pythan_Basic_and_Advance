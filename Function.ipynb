{
 "cells": [
  {
   "cell_type": "markdown",
   "id": "d06bcd45-dcbb-40e4-af1f-9669ae5068c3",
   "metadata": {},
   "source": [
    "# Function\n",
    "## What is a Function\n",
    "### Notes\n",
    "* A function is a block of code that only runs when it's called.\n",
    "* You can pass data (called parameters) into a function.\n",
    "* The function can return data as a result.\n",
    "\n",
    "# Importance\n",
    "\n",
    "Enable us to resuse the code and make it more modular, important for complex data analysis and plotting routines."
   ]
  },
  {
   "cell_type": "code",
   "execution_count": 1,
   "id": "e05262ac-93d9-46d7-9adb-63d963354bee",
   "metadata": {},
   "outputs": [
    {
     "name": "stdout",
     "output_type": "stream",
     "text": [
      "print is a special type of python function\n"
     ]
    }
   ],
   "source": [
    "print(\"print is a special type of python function\")"
   ]
  },
  {
   "cell_type": "code",
   "execution_count": 16,
   "id": "379e23e6-a62b-4779-bcd6-8704fe0fbacf",
   "metadata": {},
   "outputs": [
    {
     "name": "stdout",
     "output_type": "stream",
     "text": [
      "print_world\n"
     ]
    }
   ],
   "source": [
    "print(\"print\", \"world\", sep=\"_\")"
   ]
  },
  {
   "cell_type": "code",
   "execution_count": 18,
   "id": "93e12464-8d17-4b42-b527-d132c5a75f62",
   "metadata": {},
   "outputs": [
    {
     "name": "stdout",
     "output_type": "stream",
     "text": [
      "print_world,welcome,"
     ]
    }
   ],
   "source": [
    "print(\"print\", \"world\", sep=\"_\", end=\",\")\n",
    "print(\"welcome\", end=\",\")"
   ]
  },
  {
   "cell_type": "code",
   "execution_count": null,
   "id": "0330c49f-df90-4e75-b052-fb8889994900",
   "metadata": {},
   "outputs": [],
   "source": [
    "print(\"\")"
   ]
  },
  {
   "cell_type": "code",
   "execution_count": 13,
   "id": "d8d04a13-6183-46c1-afa5-070403a6c0bf",
   "metadata": {},
   "outputs": [
    {
     "name": "stdout",
     "output_type": "stream",
     "text": [
      "the value of y is: 10\n"
     ]
    }
   ],
   "source": [
    "x =5\n",
    "y = x+5\n",
    "print(\"the value of y is:\", y)"
   ]
  },
  {
   "cell_type": "markdown",
   "id": "02a97df4-cc03-4879-9c9e-a8d270cd1c02",
   "metadata": {},
   "source": [
    "# type()\n"
   ]
  },
  {
   "cell_type": "code",
   "execution_count": 19,
   "id": "e12a29c5-c2fc-4223-ac42-8cbd47e1d6cf",
   "metadata": {},
   "outputs": [
    {
     "data": {
      "text/plain": [
       "bool"
      ]
     },
     "execution_count": 19,
     "metadata": {},
     "output_type": "execute_result"
    }
   ],
   "source": [
    "type(True)"
   ]
  },
  {
   "cell_type": "code",
   "execution_count": 20,
   "id": "fb1bc290-2e1c-488e-a92e-99348475ed88",
   "metadata": {},
   "outputs": [
    {
     "data": {
      "text/plain": [
       "int"
      ]
     },
     "execution_count": 20,
     "metadata": {},
     "output_type": "execute_result"
    }
   ],
   "source": [
    "type(1_000_00)"
   ]
  },
  {
   "cell_type": "code",
   "execution_count": 21,
   "id": "a65e2c2f-d9e2-4577-9c6f-f0b5eb9ebfaa",
   "metadata": {},
   "outputs": [
    {
     "data": {
      "text/plain": [
       "float"
      ]
     },
     "execution_count": 21,
     "metadata": {},
     "output_type": "execute_result"
    }
   ],
   "source": [
    "type(2.56)"
   ]
  },
  {
   "cell_type": "markdown",
   "id": "a936cfde-599e-4745-92cd-4912b373807c",
   "metadata": {},
   "source": [
    "# input()"
   ]
  },
  {
   "cell_type": "code",
   "execution_count": 22,
   "id": "d9604f6b-5f43-46d8-a7ad-16edffd03abc",
   "metadata": {},
   "outputs": [
    {
     "name": "stdin",
     "output_type": "stream",
     "text": [
      "what is your name seema\n"
     ]
    },
    {
     "name": "stdout",
     "output_type": "stream",
     "text": [
      "my name is seema\n"
     ]
    }
   ],
   "source": [
    "name = input(\"what is your name\")\n",
    "print(\"my name is\", name)"
   ]
  },
  {
   "cell_type": "markdown",
   "id": "d9641c93-c922-4158-b017-5e593f3808d1",
   "metadata": {},
   "source": [
    "# len()"
   ]
  },
  {
   "cell_type": "code",
   "execution_count": 23,
   "id": "20a7e665-1eb8-450c-8864-661701b28226",
   "metadata": {},
   "outputs": [
    {
     "data": {
      "text/plain": [
       "10"
      ]
     },
     "execution_count": 23,
     "metadata": {},
     "output_type": "execute_result"
    }
   ],
   "source": [
    "len(\"helloworld\")"
   ]
  },
  {
   "cell_type": "code",
   "execution_count": 26,
   "id": "69d047dc-707f-45a9-b033-83e97f4fd799",
   "metadata": {},
   "outputs": [
    {
     "data": {
      "text/plain": [
       "2"
      ]
     },
     "execution_count": 26,
     "metadata": {},
     "output_type": "execute_result"
    }
   ],
   "source": [
    "len({1:\"hi\" , 2:\"buy\"})"
   ]
  },
  {
   "cell_type": "markdown",
   "id": "b7c6e7f9-72a0-475b-a171-1895ca070fca",
   "metadata": {},
   "source": [
    "# open()"
   ]
  },
  {
   "cell_type": "code",
   "execution_count": null,
   "id": "906c2c66-5cdc-4191-97d1-2a7515472d6e",
   "metadata": {},
   "outputs": [],
   "source": []
  },
  {
   "cell_type": "markdown",
   "id": "1cc1ee08-5cac-4776-ae01-0c52d84e591c",
   "metadata": {},
   "source": [
    "# dir()"
   ]
  },
  {
   "cell_type": "code",
   "execution_count": 29,
   "id": "25970dd5-f1dc-4871-9f8b-b95b5f32f8a2",
   "metadata": {},
   "outputs": [
    {
     "name": "stdout",
     "output_type": "stream",
     "text": [
      "['__add__', '__class__', '__contains__', '__delattr__', '__dir__', '__doc__', '__eq__', '__format__', '__ge__', '__getattribute__', '__getitem__', '__getnewargs__', '__getstate__', '__gt__', '__hash__', '__init__', '__init_subclass__', '__iter__', '__le__', '__len__', '__lt__', '__mod__', '__mul__', '__ne__', '__new__', '__reduce__', '__reduce_ex__', '__repr__', '__rmod__', '__rmul__', '__setattr__', '__sizeof__', '__str__', '__subclasshook__', 'capitalize', 'casefold', 'center', 'count', 'encode', 'endswith', 'expandtabs', 'find', 'format', 'format_map', 'index', 'isalnum', 'isalpha', 'isascii', 'isdecimal', 'isdigit', 'isidentifier', 'islower', 'isnumeric', 'isprintable', 'isspace', 'istitle', 'isupper', 'join', 'ljust', 'lower', 'lstrip', 'maketrans', 'partition', 'removeprefix', 'removesuffix', 'replace', 'rfind', 'rindex', 'rjust', 'rpartition', 'rsplit', 'rstrip', 'split', 'splitlines', 'startswith', 'strip', 'swapcase', 'title', 'translate', 'upper', 'zfill']\n"
     ]
    }
   ],
   "source": [
    "x = \"hello\"\n",
    "print(dir(x))"
   ]
  },
  {
   "cell_type": "code",
   "execution_count": 28,
   "id": "cf77e21b-86d0-4111-964e-84269ad1575e",
   "metadata": {},
   "outputs": [
    {
     "data": {
      "text/plain": [
       "'HELLO'"
      ]
     },
     "execution_count": 28,
     "metadata": {},
     "output_type": "execute_result"
    }
   ],
   "source": [
    "x.upper()"
   ]
  },
  {
   "cell_type": "markdown",
   "id": "7a5057da-9584-4d7f-bc09-91ba79fcf9c8",
   "metadata": {},
   "source": [
    "# enumerate()"
   ]
  },
  {
   "cell_type": "code",
   "execution_count": 36,
   "id": "22d5d78f-50fd-4cc7-8b29-571a56eea7bc",
   "metadata": {},
   "outputs": [
    {
     "name": "stdout",
     "output_type": "stream",
     "text": [
      "1 : Aasha\n",
      "2 : bob\n",
      "3 : john\n"
     ]
    }
   ],
   "source": [
    "names ={'Aasha', 'bob', 'john'}\n",
    "for i, name in enumerate(names, start=1):\n",
    "    print(i,name, sep=\" : \")"
   ]
  },
  {
   "cell_type": "code",
   "execution_count": 37,
   "id": "12e29148-593a-4bfd-a884-5d9ecb2e5054",
   "metadata": {},
   "outputs": [
    {
     "ename": "TypeError",
     "evalue": "'set' object cannot be interpreted as an integer",
     "output_type": "error",
     "traceback": [
      "\u001b[1;31m---------------------------------------------------------------------------\u001b[0m",
      "\u001b[1;31mTypeError\u001b[0m                                 Traceback (most recent call last)",
      "Cell \u001b[1;32mIn[37], line 3\u001b[0m\n\u001b[0;32m      1\u001b[0m names \u001b[38;5;241m=\u001b[39m{\u001b[38;5;124m'\u001b[39m\u001b[38;5;124mAasha\u001b[39m\u001b[38;5;124m'\u001b[39m, \u001b[38;5;124m'\u001b[39m\u001b[38;5;124mbob\u001b[39m\u001b[38;5;124m'\u001b[39m, \u001b[38;5;124m'\u001b[39m\u001b[38;5;124mjohn\u001b[39m\u001b[38;5;124m'\u001b[39m}\n\u001b[0;32m      2\u001b[0m age \u001b[38;5;241m=\u001b[39m{\u001b[38;5;241m34\u001b[39m,\u001b[38;5;241m45\u001b[39m,\u001b[38;5;241m67\u001b[39m}\n\u001b[1;32m----> 3\u001b[0m \u001b[38;5;28;01mfor\u001b[39;00m i,(name , age) \u001b[38;5;129;01min\u001b[39;00m \u001b[38;5;28menumerate\u001b[39m(name ,age):\n\u001b[0;32m      4\u001b[0m     \u001b[38;5;28mprint\u001b[39m(i,(name,age))\n",
      "\u001b[1;31mTypeError\u001b[0m: 'set' object cannot be interpreted as an integer"
     ]
    }
   ],
   "source": [
    "names ={'Aasha', 'bob', 'john'}\n",
    "age ={34,45,67}\n",
    "for i,(name , age) in enumerate(name ,age):\n",
    "    print(i,(name,age))"
   ]
  },
  {
   "cell_type": "markdown",
   "id": "cd325642-19b5-4554-855b-740b6fd0750e",
   "metadata": {},
   "source": [
    "# zip()"
   ]
  },
  {
   "cell_type": "code",
   "execution_count": 41,
   "id": "32160d2d-3968-4798-9d63-18697b7e7dc9",
   "metadata": {},
   "outputs": [
    {
     "name": "stdout",
     "output_type": "stream",
     "text": [
      "Age of Aasha is 34\n",
      "Age of bob is 67\n",
      "Age of john is 45\n"
     ]
    }
   ],
   "source": [
    "names ={'Aasha', 'bob', 'john'}\n",
    "age ={34,45,67}\n",
    "for name, a in zip(names, age):\n",
    "    print(f\"Age of {name} is {a}\")"
   ]
  },
  {
   "cell_type": "code",
   "execution_count": 44,
   "id": "0f2e09e6-3aa8-4305-90e5-dd70d794ec49",
   "metadata": {},
   "outputs": [
    {
     "name": "stdout",
     "output_type": "stream",
     "text": [
      "{'u', 'a', 'i', 'o', 'e'}\n"
     ]
    }
   ],
   "source": [
    "name = \"hari\"\n",
    "lis1 = [2,6,8]\n",
    "set1 = {\"a\",\"e\",\"i\",\"o\",\"u\"}\n",
    "print(set1)"
   ]
  },
  {
   "cell_type": "code",
   "execution_count": 45,
   "id": "24e526b4-e668-4d7a-8403-1b2a73ed7bd3",
   "metadata": {},
   "outputs": [
    {
     "name": "stdout",
     "output_type": "stream",
     "text": [
      "h_2_u\n",
      "a_6_a\n",
      "r_8_i\n"
     ]
    }
   ],
   "source": [
    "for n,l, s in zip(name, lis1, set1):\n",
    "    print(n,l,s, sep=\"_\")"
   ]
  },
  {
   "cell_type": "code",
   "execution_count": 47,
   "id": "238961b6-dc5e-4110-b5d9-6a190f2f297a",
   "metadata": {},
   "outputs": [],
   "source": [
    "def mult(x):\n",
    "    return x * 2"
   ]
  },
  {
   "cell_type": "markdown",
   "id": "bb6ae848-b6e1-40e2-af90-e8c05c34e13a",
   "metadata": {},
   "source": [
    "# map()"
   ]
  },
  {
   "cell_type": "code",
   "execution_count": 54,
   "id": "104e0a9e-2072-48cf-8287-5d54856574d7",
   "metadata": {},
   "outputs": [
    {
     "data": {
      "text/plain": [
       "<map at 0x1c441acca90>"
      ]
     },
     "execution_count": 54,
     "metadata": {},
     "output_type": "execute_result"
    }
   ],
   "source": [
    "my_list = [1,5,8,3]\n",
    "map_obj = map(mult, my_list)\n",
    "map_obj"
   ]
  },
  {
   "cell_type": "code",
   "execution_count": 51,
   "id": "991911cc-e930-4421-9e26-0ad976ccbc71",
   "metadata": {},
   "outputs": [
    {
     "data": {
      "text/plain": [
       "[]"
      ]
     },
     "execution_count": 51,
     "metadata": {},
     "output_type": "execute_result"
    }
   ],
   "source": [
    "[a for a in map_obj]"
   ]
  },
  {
   "cell_type": "markdown",
   "id": "e2be59e3-7d87-4a0e-ac0a-d5665ca75ed6",
   "metadata": {},
   "source": [
    "# reduce()"
   ]
  },
  {
   "cell_type": "code",
   "execution_count": 55,
   "id": "911a7086-2df5-4cf9-89b2-5ad1fa20f635",
   "metadata": {},
   "outputs": [
    {
     "data": {
      "text/plain": [
       "120"
      ]
     },
     "execution_count": 55,
     "metadata": {},
     "output_type": "execute_result"
    }
   ],
   "source": [
    "from functools import reduce\n",
    "reduce_obj = reduce(lambda x, y : x*y, my_list)\n",
    "reduce_obj"
   ]
  },
  {
   "cell_type": "code",
   "execution_count": 2,
   "id": "a94618d1-96e7-4932-9154-c810ae70c4c5",
   "metadata": {},
   "outputs": [
    {
     "data": {
      "text/plain": [
       "[1, 2, 3, 4]"
      ]
     },
     "execution_count": 2,
     "metadata": {},
     "output_type": "execute_result"
    }
   ],
   "source": [
    "from functools import reduce\n",
    "my_list = [1,2,3,4]\n",
    "my_list"
   ]
  },
  {
   "cell_type": "code",
   "execution_count": 5,
   "id": "9a403875-1c06-4e69-affc-da355b1bf178",
   "metadata": {},
   "outputs": [
    {
     "data": {
      "text/plain": [
       "1"
      ]
     },
     "execution_count": 5,
     "metadata": {},
     "output_type": "execute_result"
    }
   ],
   "source": [
    "reduc_obj = reduce(lambda x,y : x**y , my_list)\n",
    "reduc_obj"
   ]
  },
  {
   "cell_type": "markdown",
   "id": "a3ba1a2d-7032-4ab6-aa79-c1a937747dc8",
   "metadata": {},
   "source": [
    "# filter()"
   ]
  },
  {
   "cell_type": "code",
   "execution_count": 11,
   "id": "4118a8d2-bd5f-457d-beb0-8f22f9542e4a",
   "metadata": {},
   "outputs": [],
   "source": [
    "filter_obj = filter( lambda x: x%2 == 0, range(0,20))\n"
   ]
  },
  {
   "cell_type": "code",
   "execution_count": 12,
   "id": "123370c7-0734-4905-a45b-dded097ae90c",
   "metadata": {},
   "outputs": [
    {
     "data": {
      "text/plain": [
       "[0, 2, 4, 6, 8, 10, 12, 14, 16, 18]"
      ]
     },
     "execution_count": 12,
     "metadata": {},
     "output_type": "execute_result"
    }
   ],
   "source": [
    "list(filter_obj)"
   ]
  },
  {
   "cell_type": "code",
   "execution_count": null,
   "id": "256fde61-a327-449f-93d5-3a7a9f1bf60a",
   "metadata": {},
   "outputs": [],
   "source": [
    "myList = [\"\",\"egg\",\"\",\"milk\"]\n",
    "filter_obj = filter(lambda x: len !="
   ]
  },
  {
   "cell_type": "code",
   "execution_count": 2,
   "id": "0280992a-797f-46b5-ba40-24b00450efa2",
   "metadata": {},
   "outputs": [],
   "source": [
    "def my_function():\n",
    "    print(\"What's up data nerds?\")"
   ]
  },
  {
   "cell_type": "code",
   "execution_count": 4,
   "id": "705c5505-ae17-41c1-8be2-aaae92365363",
   "metadata": {},
   "outputs": [
    {
     "name": "stdout",
     "output_type": "stream",
     "text": [
      "What's up data nerds?\n"
     ]
    }
   ],
   "source": [
    "my_function()"
   ]
  },
  {
   "cell_type": "code",
   "execution_count": 13,
   "id": "c6686cfd-b376-4f09-a855-ec0db1d7cff9",
   "metadata": {},
   "outputs": [],
   "source": [
    "large_obj =range(1,5000)"
   ]
  },
  {
   "cell_type": "code",
   "execution_count": 18,
   "id": "9d855982-b2a9-4cb4-952b-7508f1731a34",
   "metadata": {},
   "outputs": [
    {
     "ename": "SyntaxError",
     "evalue": "invalid syntax (113464049.py, line 2)",
     "output_type": "error",
     "traceback": [
      "\u001b[1;36m  Cell \u001b[1;32mIn[18], line 2\u001b[1;36m\u001b[0m\n\u001b[1;33m    result_list[a*2 for a in large_obj]\u001b[0m\n\u001b[1;37m                    ^\u001b[0m\n\u001b[1;31mSyntaxError\u001b[0m\u001b[1;31m:\u001b[0m invalid syntax\n"
     ]
    }
   ],
   "source": [
    "%time\n",
    "result_list[a*2 for a in large_obj]"
   ]
  },
  {
   "cell_type": "code",
   "execution_count": 5,
   "id": "13532fb9-3327-4da5-89a6-03e11b0d278b",
   "metadata": {},
   "outputs": [],
   "source": [
    "def calculate_sum(num1,num2):\n",
    "    sumation = num1 +num2\n",
    "    return(sumation)"
   ]
  },
  {
   "cell_type": "code",
   "execution_count": 7,
   "id": "1598fb11-9bc0-4349-9b9a-701071063092",
   "metadata": {},
   "outputs": [
    {
     "data": {
      "text/plain": [
       "10"
      ]
     },
     "execution_count": 7,
     "metadata": {},
     "output_type": "execute_result"
    }
   ],
   "source": [
    "calculate_sum(num1=4, num2=6)"
   ]
  },
  {
   "cell_type": "code",
   "execution_count": 12,
   "id": "bbe54516-90a0-4d87-9ceb-e334bc4083dd",
   "metadata": {},
   "outputs": [
    {
     "data": {
      "text/plain": [
       "2.23606797749979"
      ]
     },
     "execution_count": 12,
     "metadata": {},
     "output_type": "execute_result"
    }
   ],
   "source": [
    "# from math import sqrt\n",
    "def square(num1):\n",
    "    squere_root = math.sqrt(num1)\n",
    "    return (squere_root)\n",
    "\n",
    "square(num1 = 5)"
   ]
  },
  {
   "cell_type": "markdown",
   "id": "0234cbfc-7343-4d61-874f-5fbdd2590dd4",
   "metadata": {},
   "source": [
    "# Types of Function\n",
    "\n",
    "| Type of Function             | Example Function              | Section            |\n",
    "|------------------------------|-------------------------------|--------------------|\n",
    "| Built-In functions           | `max()`                       | 1. Getting Started |\n",
    "| User-defined functions       | `def my_function(): pass`     | 16. Functions      |\n",
    "| Lambda functions             | `lambda x: x + 1`             | 17. Lambda         |\n",
    "| Standard Library functions   | `math.sqrt()`                 | 18. Modules        |\n",
    "| Third-Party Library Functions| `numpy.array()`               | 19. Library        |\n",
    "\n",
    "Note: We won't be covering Generator, Asynchronous, or Recursive Functions as they are out of scope of Data Analytics.\n",
    "\n",
    "# Built_in Functions\n",
    "\n",
    "Standard within python. We've already used a few:\n",
    "\n",
    "* print(): Display output\n",
    "* type() : Checks the data type of object\n",
    "* range() : generates a sequence of numbers, useful in loops\n",
    "* len() : Count the numbers of elements in a data structure\n",
    "\n",
    "Here are all the built-in functions in Python."
   ]
  },
  {
   "cell_type": "code",
   "execution_count": 61,
   "id": "c9563ce9-e1a6-4f01-bf0a-62edbadab0ba",
   "metadata": {},
   "outputs": [
    {
     "name": "stdout",
     "output_type": "stream",
     "text": [
      "['__build_class__', '__import__', 'abs', 'aiter', 'all', 'anext', 'any', 'ascii', 'bin', 'breakpoint', 'callable', 'chr', 'compile', 'delattr', 'dir', 'divmod', 'eval', 'exec', 'format', 'getattr', 'globals', 'hasattr', 'hash', 'hex', 'id', 'isinstance', 'issubclass', 'iter', 'len', 'locals', 'max', 'min', 'next', 'oct', 'open', 'ord', 'pow', 'print', 'repr', 'round', 'setattr', 'sorted', 'sum', 'vars']\n"
     ]
    }
   ],
   "source": [
    "import types\n",
    "print([func for func in dir(__builtins__) if isinstance(getattr(__builtins__, func), types.BuiltinFunctionType)])"
   ]
  },
  {
   "cell_type": "markdown",
   "id": "15c9f7ab-a6df-4c62-9f21-3b5c61251272",
   "metadata": {},
   "source": [
    "Here are some that are useful for data analytics:\n",
    "* `sum()`,`min()`, `max()`: Basic statical operations\n",
    "* `sorted()`: sorts data"
   ]
  },
  {
   "cell_type": "code",
   "execution_count": 62,
   "id": "7704458e-76df-4f87-9411-7af50b64a907",
   "metadata": {},
   "outputs": [
    {
     "name": "stdout",
     "output_type": "stream",
     "text": [
      "Total Salary: Rs.540000, min: Rs.90000, max: Rs.130000\n"
     ]
    }
   ],
   "source": [
    "salary =[95000,120000,105000,90000,130000]\n",
    "total_salary = sum(salary)\n",
    "min_salary = min(salary)\n",
    "max_salary = max(salary)\n",
    "print(f\"Total Salary: Rs.{total_salary}, min: Rs.{min_salary}, max: Rs.{max_salary}\")"
   ]
  },
  {
   "cell_type": "code",
   "execution_count": 64,
   "id": "e43f813a-4b14-4953-b1ef-4eb24af52704",
   "metadata": {},
   "outputs": [
    {
     "name": "stdout",
     "output_type": "stream",
     "text": [
      "[2, 3, 4, 5, 6, 7, 8]\n"
     ]
    }
   ],
   "source": [
    "year_experience = [3,2,6,4,7,8,5]\n",
    "sorted_exp = sorted(year_experience)\n",
    "print(sorted_exp)"
   ]
  },
  {
   "cell_type": "code",
   "execution_count": null,
   "id": "516ea932-3c71-41e2-a531-ce78cbf7de0f",
   "metadata": {},
   "outputs": [],
   "source": []
  },
  {
   "cell_type": "markdown",
   "id": "ee3fa22b-a729-4439-986e-cdc73f04bc98",
   "metadata": {},
   "source": [
    "# User-Defined Functions\n",
    "\n",
    "These are created by the user with your name and syntax of choice:\n",
    "\n",
    "# WARNING\n",
    "Do not name your function the same as standard Python objects.\n",
    "\n",
    "For example, this is a bad idea:\n",
    "\n"
   ]
  },
  {
   "cell_type": "code",
   "execution_count": 68,
   "id": "26e677f9-d23f-4f53-b335-17ecd676286f",
   "metadata": {},
   "outputs": [],
   "source": [
    "def print(input):\n",
    "    return \"Hello\" + input\n",
    "    print()"
   ]
  },
  {
   "cell_type": "markdown",
   "id": "190a2cca-ace8-4daf-b4d1-0c3194f1dab9",
   "metadata": {},
   "source": [
    "In this case the built-in `print()` function would be overridden.\n",
    "\n",
    "### Creating a Function\n",
    "#### Notes\n",
    "* Use `def` to create a function\n",
    "##### Example\n",
    "We're going to create a function called `my_experience`. Which returns an integer that represents the years of experience I have."
   ]
  },
  {
   "cell_type": "code",
   "execution_count": 69,
   "id": "2b6f1fdc-7eef-4164-8888-7b094c98fd4f",
   "metadata": {},
   "outputs": [],
   "source": [
    "def my_experience():\n",
    "    return 5"
   ]
  },
  {
   "cell_type": "markdown",
   "id": "80b05422-497f-43cd-b1c9-7001508d0a51",
   "metadata": {},
   "source": [
    "We can also set a default value for a function like `my_function(x='default_value', not_default)`.\n",
    "\n",
    "### Calling a Function\n",
    "\n",
    "#### Notes\n",
    "* To call a funciton, use the funciton name followed by parenthesis: `function_name()`\n",
    "\n",
    "Error accure when we call a function is:\n",
    "\n",
    "Forgot the () after the function name. "
   ]
  },
  {
   "cell_type": "code",
   "execution_count": 70,
   "id": "077f1510-968b-4e0f-91af-bae5fc2e4e91",
   "metadata": {},
   "outputs": [
    {
     "data": {
      "text/plain": [
       "<function __main__.my_experience()>"
      ]
     },
     "execution_count": 70,
     "metadata": {},
     "output_type": "execute_result"
    }
   ],
   "source": [
    "my_experience"
   ]
  },
  {
   "cell_type": "markdown",
   "id": "061e6ce7-9f83-4131-8e36-bcb5591aa2d2",
   "metadata": {},
   "source": [
    "This is the correct code ✅."
   ]
  },
  {
   "cell_type": "code",
   "execution_count": 71,
   "id": "50f8094f-f85b-425f-8693-4cbf6ca2231e",
   "metadata": {},
   "outputs": [
    {
     "data": {
      "text/plain": [
       "5"
      ]
     },
     "execution_count": 71,
     "metadata": {},
     "output_type": "execute_result"
    }
   ],
   "source": [
    "my_experience()"
   ]
  },
  {
   "cell_type": "markdown",
   "id": "f0fc358f-eab4-43f6-83c7-5079bbf54c27",
   "metadata": {},
   "source": [
    "# Pass\n",
    "\n",
    "## Notes\n",
    "* pass is used as a placeholder within a function to indicate that the block is intentionally left empty, but may be filled in the future.\n",
    "* It does nothing and is basically ignored by Python."
   ]
  },
  {
   "cell_type": "code",
   "execution_count": 74,
   "id": "64c2ce4c-c549-4183-890b-7ef730e5c315",
   "metadata": {},
   "outputs": [],
   "source": [
    "def my_exp():\n",
    "    pass\n",
    "    my_exp()"
   ]
  },
  {
   "cell_type": "markdown",
   "id": "b06354f2-fd89-4a6a-9edc-fd328006b1d7",
   "metadata": {},
   "source": [
    "# Return\n",
    "## Notes\n",
    "* Have the function return a value or result of an expression use return.\n",
    "* Exit a function at a certain point.\n",
    "* It can return multiple values using a tuple, list, or dictionary."
   ]
  },
  {
   "cell_type": "code",
   "execution_count": 75,
   "id": "e142c935-b2b9-4575-9c12-ae3e675311f8",
   "metadata": {},
   "outputs": [
    {
     "data": {
      "text/plain": [
       "4000.0"
      ]
     },
     "execution_count": 75,
     "metadata": {},
     "output_type": "execute_result"
    }
   ],
   "source": [
    "def my_function(yearly_bo_Per):\n",
    "    return 80000 * yearly_bo_Per\n",
    "\n",
    "my_function(0.05)"
   ]
  },
  {
   "cell_type": "markdown",
   "id": "dc4c98cf-142a-44da-84eb-a38751845850",
   "metadata": {},
   "source": [
    "# Arguments\n",
    "## Notes\n",
    " * Information can be passed into functions as arguments.\n",
    " * Arguments are specified after the function name, inside the parentheses.\n",
    " * You can add all the arguments you want. You need to separate them with a comma.\n",
    " * A function has to be called with the correct number of arguments. If your function has 2 arguments, you have to call the function with exactly 2 arguments.\n",
    "\n",
    "## Parameters and Arguments\n",
    "* Parameters and arguments can be used for the same thing. Information that's passed into a function.\n",
    "   * Parameter is a variable listed inside the parentheses in the function definition.\n",
    "   * Arugment is the value that's sent to the function when called.\n",
    "\n",
    "  # Example # 1"
   ]
  },
  {
   "cell_type": "code",
   "execution_count": 1,
   "id": "4781b9ac-7e0a-422c-b046-6b3068af8d11",
   "metadata": {},
   "outputs": [
    {
     "name": "stdout",
     "output_type": "stream",
     "text": [
      "The Data Analyst has an average salary of Rs30000\n"
     ]
    }
   ],
   "source": [
    "def my_function (job_title):\n",
    "    print(f'The {job_title} has an average salary of Rs30000')\n",
    "\n",
    "my_function('Data Analyst')"
   ]
  },
  {
   "cell_type": "markdown",
   "id": "1727a624-c466-4225-b6e7-109ea7e4c5e5",
   "metadata": {},
   "source": [
    "You can also have multiple arguments. And the arguments can be different data types."
   ]
  },
  {
   "cell_type": "code",
   "execution_count": 3,
   "id": "35bf41af-9cfc-40f8-9ce1-becddbacd8d7",
   "metadata": {},
   "outputs": [],
   "source": [
    "def my_funcation (job_title, average_salary):\n",
    "    print(f'The {job_title} has an average salary of RS {average_salary}.')"
   ]
  },
  {
   "cell_type": "markdown",
   "id": "68701d90-a551-4c37-b9b0-f12aeeb87247",
   "metadata": {},
   "source": [
    "🪲 Debugging\n",
    "\n",
    "These are intentional mistakes\n",
    "\n",
    "This is used to demonstrate debugging.\n",
    "\n",
    "Error: Forgot an argument.\n",
    "\n",
    "my_function(60000)\n",
    "Steps to Debug:\n",
    "\n",
    "1. Look at the actual error, can you tell what the problem is?\n",
    "2. If not, then look it up:\n",
    "3. Use a chatbot like ChatGPT or Claude\n",
    "4. Look it up using Google"
   ]
  },
  {
   "cell_type": "code",
   "execution_count": 4,
   "id": "d44fe89d-792d-491f-b90a-b3ac83e48f2f",
   "metadata": {},
   "outputs": [
    {
     "ename": "TypeError",
     "evalue": "my_funcation() missing 1 required positional argument: 'average_salary'",
     "output_type": "error",
     "traceback": [
      "\u001b[1;31m---------------------------------------------------------------------------\u001b[0m",
      "\u001b[1;31mTypeError\u001b[0m                                 Traceback (most recent call last)",
      "Cell \u001b[1;32mIn[4], line 1\u001b[0m\n\u001b[1;32m----> 1\u001b[0m my_funcation(\u001b[38;5;241m60000\u001b[39m)\n",
      "\u001b[1;31mTypeError\u001b[0m: my_funcation() missing 1 required positional argument: 'average_salary'"
     ]
    }
   ],
   "source": [
    "my_funcation(60000)"
   ]
  },
  {
   "cell_type": "code",
   "execution_count": 5,
   "id": "613f332f-c9cb-4a83-9e15-3176834036eb",
   "metadata": {},
   "outputs": [
    {
     "ename": "TypeError",
     "evalue": "my_funcation() missing 1 required positional argument: 'average_salary'",
     "output_type": "error",
     "traceback": [
      "\u001b[1;31m---------------------------------------------------------------------------\u001b[0m",
      "\u001b[1;31mTypeError\u001b[0m                                 Traceback (most recent call last)",
      "Cell \u001b[1;32mIn[5], line 1\u001b[0m\n\u001b[1;32m----> 1\u001b[0m my_funcation(\u001b[38;5;124m\"\u001b[39m\u001b[38;5;124mdata analyst\u001b[39m\u001b[38;5;124m\"\u001b[39m)\n",
      "\u001b[1;31mTypeError\u001b[0m: my_funcation() missing 1 required positional argument: 'average_salary'"
     ]
    }
   ],
   "source": [
    "my_funcation(\"data analyst\")"
   ]
  },
  {
   "cell_type": "code",
   "execution_count": 6,
   "id": "69ec7669-1576-42a1-af03-e30175403695",
   "metadata": {},
   "outputs": [
    {
     "name": "stdout",
     "output_type": "stream",
     "text": [
      "The Data Analyst has an average salary of RS 40000.\n"
     ]
    }
   ],
   "source": [
    "my_funcation('Data Analyst', 40000)"
   ]
  },
  {
   "cell_type": "markdown",
   "id": "ba1f1709-9536-4ddc-832f-bc318d6d06d7",
   "metadata": {},
   "source": [
    "## Example # 2\n",
    "make a funcation to calculate the total salary"
   ]
  },
  {
   "cell_type": "code",
   "execution_count": 9,
   "id": "11b862d1-b6a2-4b25-b589-8c3ea82bda03",
   "metadata": {},
   "outputs": [
    {
     "data": {
      "text/plain": [
       "36000.0"
      ]
     },
     "execution_count": 9,
     "metadata": {},
     "output_type": "execute_result"
    }
   ],
   "source": [
    "def calculate_salary(base_salary, bonus_rate=0.2):\n",
    "    total_salary =(base_salary * (1+bonus_rate))\n",
    "    return total_salary\n",
    "\n",
    "calculate_salary(30000, 0.2)\n"
   ]
  },
  {
   "cell_type": "markdown",
   "id": "e8d9af98-63a8-4abb-811d-aaa9c896fd17",
   "metadata": {},
   "source": [
    "# Adding Keyword Argument\n",
    "## Notes \n",
    "* You can send arguments with Key = value syntax\n",
    "*  Then the order of the arguments does't matter.\n",
    "\n",
    "Overriding the defult keyword argument:"
   ]
  },
  {
   "cell_type": "code",
   "execution_count": 10,
   "id": "3ceb47a5-7dec-443d-beb7-df5b257a068e",
   "metadata": {},
   "outputs": [
    {
     "data": {
      "text/plain": [
       "60000.0"
      ]
     },
     "execution_count": 10,
     "metadata": {},
     "output_type": "execute_result"
    }
   ],
   "source": [
    " salary_1 = 40000\n",
    "salary_2 = 0.5\n",
    "calculate_salary(salary_1, salary_2)"
   ]
  },
  {
   "cell_type": "markdown",
   "id": "9a59bafb-47c5-45a0-9607-e472c7a4e3e5",
   "metadata": {},
   "source": [
    "# Example # 3"
   ]
  },
  {
   "cell_type": "code",
   "execution_count": 15,
   "id": "10bd95bb-eca3-41e4-a905-acf0e077e93e",
   "metadata": {},
   "outputs": [
    {
     "name": "stdout",
     "output_type": "stream",
     "text": [
      "Job Title and Salary \n",
      "-data Analyst has a  Rs.40000\n",
      "-business anakyst has a  Rs.600000\n"
     ]
    }
   ],
   "source": [
    "def analyze_skill( skill1, salary1, skill2, salary2):\n",
    "    print(\"Job Title and Salary \")\n",
    "    print(f\"-{skill1} has a  Rs.{salary1}\")\n",
    "    print(f\"-{skill2} has a  Rs.{salary2}\")\n",
    "    \n",
    "analyze_skill( skill1 = \"data Analyst\", salary1 = 40000, skill2 = \"business anakyst\" , salary2 = 600000)\n",
    "    \n"
   ]
  },
  {
   "cell_type": "markdown",
   "id": "6ae7260f-07cc-457f-82fd-ce4165e2fbdf",
   "metadata": {},
   "source": [
    "## Advance Concepts(Not Convered in Video)\n",
    "\n",
    "### Arbitrary Argument(* Args)\n",
    "\n",
    "## Notes\n",
    " * If you're not sure how many arguments will be passed into your function, add a * before the parameter name in the function definition.\n",
    " * The function will now receive a tuple of arguments.\n",
    " * Arbitrary Arguments are often called *args.\n",
    "\n",
    "# Example\n",
    "First we'll create a dictionary of job titles and their average salaries.\n",
    "\n"
   ]
  },
  {
   "cell_type": "code",
   "execution_count": 27,
   "id": "154047fc-5b36-4e81-9326-56302ce47ff1",
   "metadata": {},
   "outputs": [
    {
     "name": "stdout",
     "output_type": "stream",
     "text": [
      "job Title and salary analysis:\n",
      "-('data Analyst', 5000): rs('data Analyst', 5000)\n",
      "-('business analyst', 30000): rs('business analyst', 30000)\n",
      "-('data eng', 5678): rs('data eng', 5678)\n"
     ]
    }
   ],
   "source": [
    "def analyze_salary (* args):\n",
    "    \"\"\"\n",
    "         Print skills with their corresponding average salaries using positional arguments.\n",
    "    \n",
    "        Each argument is expected to be a tuple containing a job title or skill and its average salary.\n",
    "    \n",
    "        :param args: A sequence of tuples, where each tuple contains a job title or skill and its average salary.\n",
    "        \"\"\"\n",
    "    print(\"job Title and salary analysis:\")\n",
    "    for skill_salary_pair in args:\n",
    "        skill =skill_salary_pair\n",
    "        salary = skill_salary_pair\n",
    "        print(f\"-{skill}: rs{salary}\")\n",
    "\n",
    "analyze_salary((\"data Analyst\", 5000),(\"business analyst\", 30000 ),(\"data eng\" , 5678))\n"
   ]
  },
  {
   "cell_type": "code",
   "execution_count": null,
   "id": "c17101f4-bf46-46d2-93f1-d61e6c536613",
   "metadata": {},
   "outputs": [],
   "source": []
  },
  {
   "cell_type": "code",
   "execution_count": 7,
   "id": "acfe3b95-fea9-4e61-894a-64fc312e4839",
   "metadata": {},
   "outputs": [
    {
     "name": "stdout",
     "output_type": "stream",
     "text": [
      "ram 1 Hello [1, 4, 5, 6] "
     ]
    }
   ],
   "source": [
    "def argument(*args, **kwargs):\n",
    "    for arg in args:\n",
    "        print(arg, end = \" \")\n",
    "        \n",
    "argument(\"ram\", 1, \"Hello\",[1,4,5,6])   \n"
   ]
  },
  {
   "cell_type": "code",
   "execution_count": null,
   "id": "853c05d6-6acf-4708-b30e-0a2430466f3f",
   "metadata": {},
   "outputs": [],
   "source": []
  },
  {
   "cell_type": "code",
   "execution_count": null,
   "id": "3669cace-a6cc-4795-b0d9-2c7eabb09652",
   "metadata": {},
   "outputs": [],
   "source": []
  },
  {
   "cell_type": "markdown",
   "id": "2f1c8f20-6f5a-4424-b72e-4d37bd8c15fb",
   "metadata": {},
   "source": [
    "# Arbitrary Keyword Arguments (**Kwargs)\n",
    "## Notes\n",
    " * If you don't know how many keyword arguments will be passed into the function, add two asterisk `**` before the parameter name in the function definition.\n",
    " * This will have the function receive a dictionary of arguments.\n",
    "\n",
    "# Example"
   ]
  },
  {
   "cell_type": "code",
   "execution_count": 9,
   "id": "0b90f6de-26ea-49bb-9489-507907da0cb9",
   "metadata": {},
   "outputs": [
    {
     "name": "stdout",
     "output_type": "stream",
     "text": [
      "Skill and Average salary Analysis:\n",
      "-data_analyst: Rs.600000:\n",
      "-Business_Analyst: Rs.65000:\n",
      "-data_engineer: Rs.90000:\n"
     ]
    }
   ],
   "source": [
    "def analyze_skill(**skills_salaries):\n",
    "    print(\"Skill and Average salary Analysis:\")\n",
    "    for skill, salary in skills_salaries.items():\n",
    "        print(f\"-{skill}: Rs.{salary}:\")\n",
    "\n",
    "analyze_skill( data_analyst = 600000, Business_Analyst= 65000, data_engineer=90000)"
   ]
  },
  {
   "cell_type": "markdown",
   "id": "ed9bd3b1-872c-43a2-82de-661e54cc2b58",
   "metadata": {},
   "source": [
    "# Example"
   ]
  },
  {
   "cell_type": "code",
   "execution_count": 19,
   "id": "f42006bc-9d7a-440b-8db8-292432aa718b",
   "metadata": {},
   "outputs": [
    {
     "name": "stdout",
     "output_type": "stream",
     "text": [
      "ram 1 Hello [1, 4, 5, 6] \n",
      "KeyWord Args\n",
      "{'great': 'hi', 'time': '8 am'}\n"
     ]
    }
   ],
   "source": [
    "def argument(*args, **kwargs):\n",
    "    for arg in args:\n",
    "        print(arg, end = \" \")\n",
    "    print()\n",
    "        \n",
    "    print(\"KeyWord Args\")\n",
    "    print(kwargs)\n",
    "        \n",
    "argument(\"ram\", 1, \"Hello\",[1,4,5,6],great =\"hi\", time =\"8 am\")   "
   ]
  },
  {
   "cell_type": "markdown",
   "id": "9a345132-0f5c-4679-808b-ba7fe458c792",
   "metadata": {},
   "source": [
    "# Docstring\n",
    "Python docstrings are the string literals that appear right after the definition of a function, method, class, or module. \n",
    "\n",
    "# Example"
   ]
  },
  {
   "cell_type": "code",
   "execution_count": 20,
   "id": "c4f1ac8b-2230-4551-9a8f-9db2697ae5b8",
   "metadata": {},
   "outputs": [],
   "source": [
    "def square(n):\n",
    "    '''Take a number n and return the square of n.'''\n",
    "    return n**2"
   ]
  },
  {
   "cell_type": "code",
   "execution_count": 21,
   "id": "294ab445-315f-469b-a5fa-121dc43dc1d2",
   "metadata": {},
   "outputs": [
    {
     "data": {
      "text/plain": [
       "25"
      ]
     },
     "execution_count": 21,
     "metadata": {},
     "output_type": "execute_result"
    }
   ],
   "source": [
    "square(5)"
   ]
  },
  {
   "cell_type": "markdown",
   "id": "e5a282dc-8864-4d84-80c8-e3bc1e75df59",
   "metadata": {},
   "source": [
    "Write a program to define a function `poewr`"
   ]
  },
  {
   "cell_type": "code",
   "execution_count": 28,
   "id": "e2f0e516-3d1f-401f-94f7-8e1671108e12",
   "metadata": {},
   "outputs": [
    {
     "name": "stdout",
     "output_type": "stream",
     "text": [
      "36\n"
     ]
    }
   ],
   "source": [
    "from math import pow\n",
    "def power(base, exp=2):\n",
    "    return base ** exp\n",
    "\n",
    "print(power(6))\n",
    "    "
   ]
  },
  {
   "cell_type": "markdown",
   "id": "9cce0b0e-4890-4500-af48-9f60ff4ab62a",
   "metadata": {},
   "source": [
    "# Standard Deviation Markdown\n",
    "\n",
    "1. Standard Deviation : $\\sqrt{\\frac{\\sum{(X - \\bar{X})}^2}{N}}$"
   ]
  },
  {
   "cell_type": "code",
   "execution_count": 29,
   "id": "c7e59f8a-8be9-4308-9e15-64369078fe75",
   "metadata": {},
   "outputs": [
    {
     "data": {
      "text/plain": [
       "10.404080832018927"
      ]
     },
     "execution_count": 29,
     "metadata": {},
     "output_type": "execute_result"
    }
   ],
   "source": [
    "from math import sqrt\n",
    "def std_dev(inp_list:list )->float:\n",
    "    N = len(inp_list)\n",
    "    mean = sum(inp_list)/N\n",
    "    summation = sum([(x-mean) ** 2 for x in inp_list])\n",
    "    result = sqrt(summation/N)\n",
    "    return result\n",
    "\n",
    "std_dev([1,2,34,5,7,8,9])\n",
    "    "
   ]
  },
  {
   "cell_type": "code",
   "execution_count": null,
   "id": "d87cc092-416b-4a4b-b279-e6b1f97f0655",
   "metadata": {},
   "outputs": [],
   "source": []
  },
  {
   "cell_type": "markdown",
   "id": "a29c28d8-3ed1-494b-b1e9-55b867d4ef1b",
   "metadata": {},
   "source": [
    "# Question\n",
    "\n",
    "Calculate Mean Error\n",
    "creat a funcatiom that any number of error value and find their mean"
   ]
  },
  {
   "cell_type": "code",
   "execution_count": 40,
   "id": "cd81109f-8155-452a-ac52-bbae2021f0fa",
   "metadata": {},
   "outputs": [
    {
     "ename": "TypeError",
     "evalue": "unsupported operand type(s) for +: 'int' and 'list'",
     "output_type": "error",
     "traceback": [
      "\u001b[1;31m---------------------------------------------------------------------------\u001b[0m",
      "\u001b[1;31mTypeError\u001b[0m                                 Traceback (most recent call last)",
      "Cell \u001b[1;32mIn[40], line 6\u001b[0m\n\u001b[0;32m      3\u001b[0m     mean \u001b[38;5;241m=\u001b[39m \u001b[38;5;28msum\u001b[39m(num)\u001b[38;5;241m/\u001b[39mN\n\u001b[0;32m      4\u001b[0m     \u001b[38;5;28;01mreturn\u001b[39;00m mean\n\u001b[1;32m----> 6\u001b[0m mean_error([\u001b[38;5;241m1\u001b[39m,\u001b[38;5;241m4\u001b[39m,\u001b[38;5;241m5\u001b[39m,\u001b[38;5;241m6\u001b[39m,\u001b[38;5;241m7\u001b[39m,\u001b[38;5;241m8\u001b[39m,\u001b[38;5;241m3.5\u001b[39m,\u001b[38;5;241m6.8\u001b[39m,\u001b[38;5;241m5.5\u001b[39m,\u001b[38;5;241m7.8\u001b[39m])\n",
      "Cell \u001b[1;32mIn[40], line 3\u001b[0m, in \u001b[0;36mmean_error\u001b[1;34m(*num)\u001b[0m\n\u001b[0;32m      1\u001b[0m \u001b[38;5;28;01mdef\u001b[39;00m \u001b[38;5;21mmean_error\u001b[39m(\u001b[38;5;241m*\u001b[39mnum):\n\u001b[0;32m      2\u001b[0m     N \u001b[38;5;241m=\u001b[39m \u001b[38;5;28mlen\u001b[39m(num)\n\u001b[1;32m----> 3\u001b[0m     mean \u001b[38;5;241m=\u001b[39m \u001b[38;5;28msum\u001b[39m(num)\u001b[38;5;241m/\u001b[39mN\n\u001b[0;32m      4\u001b[0m     \u001b[38;5;28;01mreturn\u001b[39;00m mean\n",
      "\u001b[1;31mTypeError\u001b[0m: unsupported operand type(s) for +: 'int' and 'list'"
     ]
    }
   ],
   "source": [
    "def mean_error(*num):\n",
    "    N = len(num)\n",
    "    mean = sum(num)/N\n",
    "    return mean\n",
    "\n",
    "mean_error([1,4,5,6,7,8,3.5,6.8,5.5,7.8])\n",
    "    \n",
    "    "
   ]
  },
  {
   "cell_type": "code",
   "execution_count": null,
   "id": "dbcafa7e-6b27-4182-8f29-d32fc8b7cf93",
   "metadata": {},
   "outputs": [],
   "source": []
  },
  {
   "cell_type": "code",
   "execution_count": 44,
   "id": "4bdda228-6674-4666-adc6-fdd537e23069",
   "metadata": {},
   "outputs": [
    {
     "data": {
      "text/plain": [
       "5.46"
      ]
     },
     "execution_count": 44,
     "metadata": {},
     "output_type": "execute_result"
    }
   ],
   "source": [
    "def mean_error(*num):\n",
    "    return sum(num)/ len(num)\n",
    "    \n",
    "\n",
    "mean_error(*[1,4,5,6,7,8,3.5,6.8,5.5,7.8])"
   ]
  },
  {
   "cell_type": "code",
   "execution_count": null,
   "id": "f6fd8bb8-0293-4764-b134-ea192f679bbe",
   "metadata": {},
   "outputs": [],
   "source": []
  },
  {
   "cell_type": "markdown",
   "id": "80725a39-1168-4c00-8236-fb9697105ca1",
   "metadata": {},
   "source": [
    "# Recursive Function\n",
    "In Python, a recursive function is defined like any other function, but it includes a call to itself. \n",
    "\n",
    "# Structure\n",
    "\n",
    "def recursive_function(parameters):\n",
    "\n",
    "\n",
    "    if base_case_condition:\n",
    "\n",
    "\n",
    "        return base_result\n",
    "\n",
    "\n",
    "    else:\n",
    "\n",
    "\n",
    "        return recursive_function(modified_parameters)\n",
    "\n",
    "# Example"
   ]
  },
  {
   "cell_type": "code",
   "execution_count": 46,
   "id": "fb09fa1e-adf7-4d98-aabb-881ce5cd72e3",
   "metadata": {},
   "outputs": [
    {
     "data": {
      "text/plain": [
       "120"
      ]
     },
     "execution_count": 46,
     "metadata": {},
     "output_type": "execute_result"
    }
   ],
   "source": [
    "def recersive(n):\n",
    "    if (n == 1):\n",
    "        return 1\n",
    "    else:\n",
    "       return n * recersive(n-1)\n",
    "recersive(5)"
   ]
  },
  {
   "cell_type": "code",
   "execution_count": null,
   "id": "0fb2c888-f961-4bbe-97f1-78d8f3c848a9",
   "metadata": {},
   "outputs": [],
   "source": []
  }
 ],
 "metadata": {
  "kernelspec": {
   "display_name": "Python 3 (ipykernel)",
   "language": "python",
   "name": "python3"
  },
  "language_info": {
   "codemirror_mode": {
    "name": "ipython",
    "version": 3
   },
   "file_extension": ".py",
   "mimetype": "text/x-python",
   "name": "python",
   "nbconvert_exporter": "python",
   "pygments_lexer": "ipython3",
   "version": "3.12.7"
  }
 },
 "nbformat": 4,
 "nbformat_minor": 5
}
