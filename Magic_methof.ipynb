{
 "cells": [
  {
   "cell_type": "markdown",
   "id": "69139b11-4c91-4873-978a-5260290ff93a",
   "metadata": {},
   "source": [
    "# Magic Method in python\n",
    "In Python, magic methods are special methods that start and end with double underscores (e.g., init), hence also known as dunder (double undersocres) methods. They are used to define various built-in operations and behaviors of objects in Python. Here are some of the most commonly used magic methods in Python:\n",
    "\n",
    "* __init__: Initializes an object of a class when it is created\n",
    "* __str__: Defines how an object is printed as a string\n",
    "* __repr__: Defines the string representation of an object, which can be used to recreate the object\n",
    "* __len__: Defines length of an object\n",
    "* __call__: Calls objects of the class like a normal function"
   ]
  },
  {
   "cell_type": "code",
   "execution_count": 1,
   "id": "6e5702ac-cfdb-43f4-b24c-d893588a3b16",
   "metadata": {},
   "outputs": [],
   "source": [
    "class Person:\n",
    "    def __init__(self, name, age):\n",
    "        self.name = name\n",
    "        self.age = age\n",
    "\n",
    "    def __str__(self): #<- Overloading print()\n",
    "        return f\"Person, {self.name} is {self.age} years old\"\n",
    "\n",
    "    def __repr__(self):\n",
    "        return f\"Person({self.name},{self.age})\"\n",
    "\n",
    "    def __len__(self):\n",
    "        return self.age\n",
    "\n",
    "    def __call__(self):#<- Callable method for object\n",
    "        return f\"{self.name} is being called !\""
   ]
  },
  {
   "cell_type": "code",
   "execution_count": 2,
   "id": "f9e65abe-6fb4-4b72-9ca4-a537f38033d3",
   "metadata": {},
   "outputs": [],
   "source": [
    "person = Person(\"Hamilton\",32)"
   ]
  },
  {
   "cell_type": "code",
   "execution_count": 3,
   "id": "bce00df8-ea64-4054-a77f-3abeb0abcee8",
   "metadata": {},
   "outputs": [
    {
     "name": "stdout",
     "output_type": "stream",
     "text": [
      "Person, Hamilton is 32 years old\n"
     ]
    }
   ],
   "source": [
    "print(person) #<- __str__"
   ]
  },
  {
   "cell_type": "code",
   "execution_count": 4,
   "id": "18a43c78-ed0a-4a8e-a48d-109ef04f1f11",
   "metadata": {},
   "outputs": [
    {
     "data": {
      "text/plain": [
       "Person(Hamilton,32)"
      ]
     },
     "execution_count": 4,
     "metadata": {},
     "output_type": "execute_result"
    }
   ],
   "source": [
    "person #<- __repr__"
   ]
  },
  {
   "cell_type": "code",
   "execution_count": 5,
   "id": "b118b8c7-c6fc-49b6-9ca3-b101b4f285fb",
   "metadata": {},
   "outputs": [
    {
     "data": {
      "text/plain": [
       "'Hamilton is being called !'"
      ]
     },
     "execution_count": 5,
     "metadata": {},
     "output_type": "execute_result"
    }
   ],
   "source": [
    "person() #<- __call__"
   ]
  },
  {
   "cell_type": "markdown",
   "id": "fbea6ec1-9dfd-4abf-8a27-8c4311e8d0d1",
   "metadata": {},
   "source": [
    "n this example, the `__init__` method is used to initialize the name and age instance variables. The` __str__ `method returns a string representation of the object when it is printed, and the` __repr__` method returns a string representation of the object that can be used to recreate the object. The `__len__` method returns the age of the person, and the `__call__` method returns a string indicating that the object is being called.\n",
    "\n",
    "`__str__ and __repr__` methods seem similar. How do they serve different purposes?\n",
    "\n",
    "`str(obj)` method is used to return a string representation of an object that is meant to be human-readable. It is generally used for printing the object, logging, and displaying information to the user.\n",
    "repr(obj) method, on the other hand, is used to return a string representation of an object that is meant to be unambiguous and suitable for debugging. It should ideally return a string that can be used to recreate the object."
   ]
  },
  {
   "cell_type": "markdown",
   "id": "f0749150-4188-4ab7-b7cf-1c35f3791aa6",
   "metadata": {},
   "source": [
    "# Operator Overloading\n",
    "\n",
    "Operator overloading is the ability to redefine the built-in operators such as `+, -, *, /, ==, >, <, and so on` for custom classes. In Python, it is possible to define how these operators should work on objects of user-defined classes by implementing certain special methods called magic methods or dunder methods. There are several magic methods available with python that support `operator overloading`. Here's a list of some of the popular magic methods that support `operator overloading` with python:\n",
    "\n",
    "| Operation | Implementation | Expression |\n",
    "| :-- | :-: | :-: |\n",
    "| Addition | `a + b` | `a.__add__(b)` |\n",
    "| Subtraction | `a  - b` | `a.__sub__(b)` |\n",
    "| Multiplication | `a * b` | `a.__mul__(b)` |\n",
    "| Division | `a / b` | `a.__truediv__(b)` |\n",
    "| Floor Division | `a // b` | `a.__floordiv__(b)` |\n",
    "| Remainder (Modulo) | `a % b` | `a.__mod__(b)` |\n",
    "| Power | `a ** b` | `a.__pow__(b)` |\n",
    "| Equals To | `a == b` | `a.__eq__(b)` |\n",
    "| Less Than | `a < b` | `a.__lt__(b)` |\n",
    "| Greater Than | `a > b` | `a.__gt__(b)` |\n",
    "| Bitwise AND | `a & b` | `a.__and__(b)` |\n",
    "| Bitwise OR | `a \\| b` | `a.__or__(b)` |\n",
    "| Bitwise NOT | `~a` | `a.__invert__()` |\n",
    "| Bitwise XOR | `a ^ b` | `a.__xor__(b)` |\n",
    "| Bitwise Left Shift | `a << b` | `a.__lshift__(b)` |\n",
    "| Bitwise Right Shift | `a >> b` | `a.__rshift__(b)` |\n"
   ]
  },
  {
   "cell_type": "code",
   "execution_count": 14,
   "id": "8fabb349-c947-49b7-9900-4e4f0ab1e76a",
   "metadata": {},
   "outputs": [],
   "source": [
    "class Point:\n",
    "    \"\"\"\n",
    "    Operation on 2D points.\n",
    "    \"\"\"\n",
    "    def __init__(self, x, y):\n",
    "        self.x = x\n",
    "        self.y = y\n",
    "\n",
    "    def __repr__(self):\n",
    "        return f\"({self.x}, {self.y})\"\n",
    "\n",
    "    def __add__(self, other):\n",
    "        x = self.x + other.x\n",
    "        y = self.y + other.y\n",
    "        return Point(x,y)\n",
    "        \n",
    "    def __sub__(self, other):\n",
    "        x = self.x - other.x\n",
    "        y = self.y - other.y\n",
    "        return Point(x,y)\n",
    "\n",
    "    def __pow__(self,exp):\n",
    "        x = self.x ** exp\n",
    "        y = self.y ** exp\n",
    "        return Point(x,y)\n",
    "        \n",
    "    def __eq__(self, other):\n",
    "        return self.x == other.x and self.y == other.y\n",
    "\n",
    "    def __version__(self):\n",
    "        return \"v1.0.0\""
   ]
  },
  {
   "cell_type": "code",
   "execution_count": 15,
   "id": "99eb8262-9b41-42bd-9a72-c459bfbee258",
   "metadata": {},
   "outputs": [],
   "source": [
    "point1 = Point(3,4)\n",
    "point2 = Point(4,7)"
   ]
  },
  {
   "cell_type": "code",
   "execution_count": 20,
   "id": "d2d04505-1b77-4c03-ad48-f431e52fd075",
   "metadata": {},
   "outputs": [
    {
     "data": {
      "text/plain": [
       "(7, 11)"
      ]
     },
     "execution_count": 20,
     "metadata": {},
     "output_type": "execute_result"
    }
   ],
   "source": [
    "added_point = point1 + point2\n",
    "added_point"
   ]
  },
  {
   "cell_type": "code",
   "execution_count": 21,
   "id": "48b9973f-93e2-4709-9ac3-fdcb852b56fe",
   "metadata": {},
   "outputs": [
    {
     "data": {
      "text/plain": [
       "11"
      ]
     },
     "execution_count": 21,
     "metadata": {},
     "output_type": "execute_result"
    }
   ],
   "source": [
    "added_point.y"
   ]
  },
  {
   "cell_type": "code",
   "execution_count": 13,
   "id": "b6085e48-1897-4a2b-88a6-56dc39a2a253",
   "metadata": {},
   "outputs": [
    {
     "data": {
      "text/plain": [
       "(-1, -3)"
      ]
     },
     "execution_count": 13,
     "metadata": {},
     "output_type": "execute_result"
    }
   ],
   "source": [
    "point1 - point2"
   ]
  },
  {
   "cell_type": "code",
   "execution_count": 17,
   "id": "ee9f6086-9789-4508-a74f-1af267bd566b",
   "metadata": {},
   "outputs": [
    {
     "data": {
      "text/plain": [
       "(9, 16)"
      ]
     },
     "execution_count": 17,
     "metadata": {},
     "output_type": "execute_result"
    }
   ],
   "source": [
    "point1 ** 2"
   ]
  },
  {
   "cell_type": "code",
   "execution_count": 18,
   "id": "94cb4a63-31ab-4b26-8e6e-a8cc97fe41bd",
   "metadata": {},
   "outputs": [
    {
     "data": {
      "text/plain": [
       "True"
      ]
     },
     "execution_count": 18,
     "metadata": {},
     "output_type": "execute_result"
    }
   ],
   "source": [
    "point1 == point1"
   ]
  },
  {
   "cell_type": "code",
   "execution_count": 19,
   "id": "826e844a-d7a2-431e-8942-43be10edf31e",
   "metadata": {},
   "outputs": [
    {
     "name": "stdout",
     "output_type": "stream",
     "text": [
      "\n",
      "    Operation on 2D points.\n",
      "    \n"
     ]
    }
   ],
   "source": [
    "print(point1.__doc__)"
   ]
  },
  {
   "cell_type": "code",
   "execution_count": null,
   "id": "5ea65d03-31f2-4355-aec0-c06788a03096",
   "metadata": {},
   "outputs": [],
   "source": []
  },
  {
   "cell_type": "code",
   "execution_count": null,
   "id": "1390d665-5fff-423c-8e90-e56e9d78ab61",
   "metadata": {},
   "outputs": [],
   "source": []
  }
 ],
 "metadata": {
  "kernelspec": {
   "display_name": "Python 3 (ipykernel)",
   "language": "python",
   "name": "python3"
  },
  "language_info": {
   "codemirror_mode": {
    "name": "ipython",
    "version": 3
   },
   "file_extension": ".py",
   "mimetype": "text/x-python",
   "name": "python",
   "nbconvert_exporter": "python",
   "pygments_lexer": "ipython3",
   "version": "3.12.7"
  }
 },
 "nbformat": 4,
 "nbformat_minor": 5
}
