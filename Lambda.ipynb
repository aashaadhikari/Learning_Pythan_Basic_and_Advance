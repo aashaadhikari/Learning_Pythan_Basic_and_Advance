{
 "cells": [
  {
   "cell_type": "markdown",
   "id": "5f2e8f5e-ba9b-47eb-97c2-4056f81361d5",
   "metadata": {},
   "source": [
    "# Lambda\n",
    "Syntax:\n",
    "\n",
    "lambda argument:expression\n",
    "\n",
    "(It also called sudo code)"
   ]
  },
  {
   "cell_type": "code",
   "execution_count": 1,
   "id": "10392daa-80c7-45a9-9e45-3398978b91a5",
   "metadata": {},
   "outputs": [
    {
     "data": {
      "text/plain": [
       "15"
      ]
     },
     "execution_count": 1,
     "metadata": {},
     "output_type": "execute_result"
    }
   ],
   "source": [
    "def get_sum(a,b,c):\n",
    "    return a+b+c\n",
    "\n",
    "get_sum(4,5,6)"
   ]
  },
  {
   "cell_type": "code",
   "execution_count": 2,
   "id": "6ab32387-eb27-482e-8ce9-8aa0e828b208",
   "metadata": {},
   "outputs": [
    {
     "data": {
      "text/plain": [
       "20"
      ]
     },
     "execution_count": 2,
     "metadata": {},
     "output_type": "execute_result"
    }
   ],
   "source": [
    "get_sum = lambda a,b,c : a+b+c\n",
    "get_sum(5,7,8)"
   ]
  },
  {
   "cell_type": "markdown",
   "id": "1d20f6d0-9e46-4a1b-84d3-20629087b54e",
   "metadata": {},
   "source": [
    "Using lambda expression\n",
    "\n",
    "Given : l , b, h \n",
    "\n",
    "formula : 2(lb + bh + lh)"
   ]
  },
  {
   "cell_type": "code",
   "execution_count": 6,
   "id": "6219e317-5b88-4a6d-a7e4-e02c1a1c316f",
   "metadata": {},
   "outputs": [
    {
     "data": {
      "text/plain": [
       "94"
      ]
     },
     "execution_count": 6,
     "metadata": {},
     "output_type": "execute_result"
    }
   ],
   "source": [
    "cube_tsa = lambda l,b,h: 2*(l*b + b*h + l*h)\n",
    "cube_tsa(3,4,5)"
   ]
  },
  {
   "cell_type": "code",
   "execution_count": null,
   "id": "4f666439-1e65-4cd3-b26c-6631e067ba73",
   "metadata": {},
   "outputs": [],
   "source": []
  }
 ],
 "metadata": {
  "kernelspec": {
   "display_name": "Python 3 (ipykernel)",
   "language": "python",
   "name": "python3"
  },
  "language_info": {
   "codemirror_mode": {
    "name": "ipython",
    "version": 3
   },
   "file_extension": ".py",
   "mimetype": "text/x-python",
   "name": "python",
   "nbconvert_exporter": "python",
   "pygments_lexer": "ipython3",
   "version": "3.12.7"
  }
 },
 "nbformat": 4,
 "nbformat_minor": 5
}
