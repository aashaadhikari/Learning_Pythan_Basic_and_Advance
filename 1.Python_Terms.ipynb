{
 "cells": [
  {
   "cell_type": "markdown",
   "id": "80a1c502-f17c-411e-9da1-a2e99fcc2110",
   "metadata": {},
   "source": [
    "# Python Terms\n",
    "* Object\n",
    "* Variable\n",
    "* Function\n",
    "* Class\n",
    "* Method\n",
    "* Attribute\n",
    "\n",
    "## Objects: The Data Records\n",
    "In data analytics, an object is like a record in your spreadsheet. Each record can have multiple fields, such as job title, location, and salary.\n",
    "\n",
    "<b>Object:</b> A data record with fields; an instance of a class."
   ]
  },
  {
   "cell_type": "code",
   "execution_count": null,
   "id": "6a7f5300-8d43-4d24-84f1-3bcdfa25d406",
   "metadata": {},
   "outputs": [],
   "source": []
  }
 ],
 "metadata": {
  "kernelspec": {
   "display_name": "Python 3 (ipykernel)",
   "language": "python",
   "name": "python3"
  },
  "language_info": {
   "codemirror_mode": {
    "name": "ipython",
    "version": 3
   },
   "file_extension": ".py",
   "mimetype": "text/x-python",
   "name": "python",
   "nbconvert_exporter": "python",
   "pygments_lexer": "ipython3",
   "version": "3.12.7"
  }
 },
 "nbformat": 4,
 "nbformat_minor": 5
}
