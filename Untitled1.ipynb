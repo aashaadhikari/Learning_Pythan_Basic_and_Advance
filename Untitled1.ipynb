{
 "cells": [
  {
   "cell_type": "code",
   "execution_count": 18,
   "id": "2eedc899-7803-43f6-9f2b-51ce772f1571",
   "metadata": {},
   "outputs": [
    {
     "name": "stdin",
     "output_type": "stream",
     "text": [
      "enter the count num 0\n"
     ]
    },
    {
     "name": "stdout",
     "output_type": "stream",
     "text": [
      "a\n"
     ]
    }
   ],
   "source": [
    "\n",
    "try:\n",
    "    num= int(input(\"enter the num\"))\n",
    "    element= lst[num]\n",
    "\n",
    "except IndexError:\n",
    "    print(\"please enter valide index\")\n",
    "    element = lst[0]\n",
    "\n",
    "print(element)"
   ]
  },
  {
   "cell_type": "markdown",
   "id": "66655cfa-5bf2-4283-b4a5-9d2b35d71055",
   "metadata": {},
   "source": []
  },
  {
   "cell_type": "code",
   "execution_count": 22,
   "id": "f9a528fb-d36e-4d44-a712-a8898a5619ee",
   "metadata": {},
   "outputs": [
    {
     "name": "stdin",
     "output_type": "stream",
     "text": [
      "enter a number 3\n",
      "enter another number 0\n"
     ]
    },
    {
     "name": "stdout",
     "output_type": "stream",
     "text": [
      "cannot divide by zero\n",
      "this block will wlways run\n"
     ]
    }
   ],
   "source": [
    "try:\n",
    "    x = int(input(\"enter a number\"))\n",
    "    x=y = int(input(\"enter another number\"))\n",
    "    result = x/y\n",
    "except ValueError as error:\n",
    "    print(\"Invalide input\", error)\n",
    "    result = 1\n",
    "\n",
    "except ZeroDivisionError:\n",
    "    print(\"cannot divide by zero\")\n",
    "\n",
    "else:\n",
    "    print(\"else block\")\n",
    "    print(result)\n",
    "\n",
    "finally:\n",
    "    print(\"this block will wlways run\")6"
   ]
  },
  {
   "cell_type": "code",
   "execution_count": null,
   "id": "117b49d7-c9b3-453b-9dfe-366c0724af6f",
   "metadata": {},
   "outputs": [],
   "source": []
  },
  {
   "cell_type": "markdown",
   "id": "e3b719f7-a868-49dd-9aba-830d17b8429b",
   "metadata": {},
   "source": [
    "# python iterator"
   ]
  },
  {
   "cell_type": "code",
   "execution_count": 16,
   "id": "cf08fa36-bf80-4819-a916-4bd22d096dd3",
   "metadata": {},
   "outputs": [],
   "source": [
    "class Fibonachi:\n",
    "    def __init__(self, limit):\n",
    "        self.limit = limit\n",
    "        self.current = 0\n",
    "        self.next = 1\n",
    "\n",
    "    def __iter__(self):\n",
    "        return self\n",
    "\n",
    "    def __next__(self):\n",
    "        if self.current >= self.limit:\n",
    "            raise StopIteration\n",
    "\n",
    "        result = self.current\n",
    "        self.current, self.next = self.next, self.current + self.next  # Proper tuple swap\n",
    "\n",
    "        return result"
   ]
  },
  {
   "cell_type": "code",
   "execution_count": 17,
   "id": "a2b12775-bab1-4479-b108-58fd5bb0ae5e",
   "metadata": {},
   "outputs": [],
   "source": [
    "fib = Fibonachi(10)"
   ]
  },
  {
   "cell_type": "code",
   "execution_count": 18,
   "id": "d8a7039f-bf03-4a2d-98ac-a8f74383c2b2",
   "metadata": {},
   "outputs": [
    {
     "name": "stdout",
     "output_type": "stream",
     "text": [
      "0\n",
      "1\n",
      "1\n",
      "2\n",
      "3\n",
      "5\n",
      "8\n"
     ]
    }
   ],
   "source": [
    "for num in fib:\n",
    "    print(num)"
   ]
  },
  {
   "cell_type": "markdown",
   "id": "c1c51343-d449-4502-a4dc-dc70263cb064",
   "metadata": {},
   "source": [
    "# Python Generators"
   ]
  },
  {
   "cell_type": "code",
   "execution_count": 38,
   "id": "b86922ca-4881-466c-afa6-37af03f83c2a",
   "metadata": {},
   "outputs": [],
   "source": [
    "def number_generator(start, end):\n",
    "    for num in range(start, end+1):\n",
    "        yield num"
   ]
  },
  {
   "cell_type": "code",
   "execution_count": 39,
   "id": "c74d1c25-5b37-4c43-8fe5-4c247f37e663",
   "metadata": {},
   "outputs": [
    {
     "data": {
      "text/plain": [
       "<generator object number_generator at 0x000002197499BCA0>"
      ]
     },
     "execution_count": 39,
     "metadata": {},
     "output_type": "execute_result"
    }
   ],
   "source": [
    "gen = number_generator(10, 23)\n",
    "gen"
   ]
  },
  {
   "cell_type": "code",
   "execution_count": 40,
   "id": "72f38ff0-2016-4c87-82f3-c120827c01c8",
   "metadata": {},
   "outputs": [
    {
     "name": "stdout",
     "output_type": "stream",
     "text": [
      "10\n"
     ]
    }
   ],
   "source": [
    "print(next(gen))"
   ]
  },
  {
   "cell_type": "code",
   "execution_count": 43,
   "id": "6f7333b4-f222-433e-8952-636657b0dd17",
   "metadata": {},
   "outputs": [
    {
     "name": "stdout",
     "output_type": "stream",
     "text": [
      "1\n",
      "2\n",
      "3\n",
      "4\n",
      "5\n",
      "6\n"
     ]
    }
   ],
   "source": [
    "my_gen = number_generator(1,6)\n",
    "for num in my_gen:\n",
    "    print(num)"
   ]
  },
  {
   "cell_type": "code",
   "execution_count": null,
   "id": "14a0da24-3189-4c3f-b834-9edd19fe4551",
   "metadata": {},
   "outputs": [],
   "source": []
  },
  {
   "cell_type": "markdown",
   "id": "70a57ae7-7a8e-44f7-a24a-0c6295e39556",
   "metadata": {},
   "source": [
    "# Generator, Alternative"
   ]
  },
  {
   "cell_type": "code",
   "execution_count": 44,
   "id": "944734da-5759-4b42-ac09-e5d66dcdb916",
   "metadata": {},
   "outputs": [
    {
     "data": {
      "text/plain": [
       "<generator object <genexpr> at 0x0000021974880700>"
      ]
     },
     "execution_count": 44,
     "metadata": {},
     "output_type": "execute_result"
    }
   ],
   "source": [
    "gen = (i for i in range(1,5))\n",
    "gen"
   ]
  },
  {
   "cell_type": "markdown",
   "id": "e7575210-5a6d-4457-9e73-2a1d86e48bc7",
   "metadata": {},
   "source": [
    "# Prepare a generator than generate prime numbers\n",
    " "
   ]
  },
  {
   "cell_type": "code",
   "execution_count": 61,
   "id": "a013e6b4-eae5-4871-9066-65d9a028a528",
   "metadata": {},
   "outputs": [],
   "source": [
    "def is_prime(n):\n",
    "    if n <= 1:\n",
    "        return False\n",
    "    for i in range(2, int(n**0.5) + 1):\n",
    "        if n % i == 0:\n",
    "            return False\n",
    "    return True\n",
    "\n",
    "def prime_generator():\n",
    "    n = 2\n",
    "    while True:\n",
    "        if is_prime(n):\n",
    "            yield n\n",
    "        n += 1"
   ]
  },
  {
   "cell_type": "code",
   "execution_count": 64,
   "id": "fac53644-1505-4c69-9212-3f7b5b628ed9",
   "metadata": {},
   "outputs": [
    {
     "name": "stdout",
     "output_type": "stream",
     "text": [
      "2,3,5,7,11,13,17,19,23,29,31,37,41,43,47,53,59,61,67,71,73,79,83,89,97,101,103,107,109,113,127,131,137,139,149,151,157,163,167,173,179,181,191,193,197,199,211,223,227,229,233,239,241,251,257,263,269,271,277,281,283,293,307,311,313,317,331,337,347,349,353,359,367,373,379,383,389,397,401,409,419,421,431,433,439,443,449,457,461,463,467,479,487,491,499,503,509,521,523,541,"
     ]
    }
   ],
   "source": [
    "prime_gen = prime_generator()\n",
    "\n",
    "for _ in range(100):\n",
    "    print(next(prime_gen), end = \",\")\n",
    "\n",
    "\n"
   ]
  },
  {
   "cell_type": "code",
   "execution_count": null,
   "id": "c02fd862-bc3f-4af6-97bf-c15a57efba13",
   "metadata": {},
   "outputs": [],
   "source": []
  },
  {
   "cell_type": "markdown",
   "id": "297bb1b0-d1d0-4c44-a85a-39e2f627181a",
   "metadata": {},
   "source": [
    "# Regular Expression"
   ]
  },
  {
   "cell_type": "code",
   "execution_count": null,
   "id": "6d4cc9ec-395f-4128-8294-eb41465db51e",
   "metadata": {},
   "outputs": [],
   "source": []
  }
 ],
 "metadata": {
  "kernelspec": {
   "display_name": "Python 3 (ipykernel)",
   "language": "python",
   "name": "python3"
  },
  "language_info": {
   "codemirror_mode": {
    "name": "ipython",
    "version": 3
   },
   "file_extension": ".py",
   "mimetype": "text/x-python",
   "name": "python",
   "nbconvert_exporter": "python",
   "pygments_lexer": "ipython3",
   "version": "3.12.7"
  }
 },
 "nbformat": 4,
 "nbformat_minor": 5
}
