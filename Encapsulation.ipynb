{
 "cells": [
  {
   "cell_type": "markdown",
   "id": "3d3916e3-4b9b-4031-b49a-da736f4552ef",
   "metadata": {},
   "source": [
    "## Encapsulation\n",
    "\n",
    "In Python, encapsulation refers to the bundling of data (attributes) and methods (functions) that operate on the data into a single unit, typically a class. "
   ]
  },
  {
   "cell_type": "code",
   "execution_count": 18,
   "id": "ac822888-c84b-4c38-b253-12d332867252",
   "metadata": {},
   "outputs": [],
   "source": [
    "class Constructor:\n",
    "    def __init__(self):\n",
    "        self.public = 1\n",
    "        self.private = 2\n",
    "        self.protect = 2\n",
    "\n",
    "    def public_method(self):\n",
    "        print(\"this is public\")\n",
    "        return self.public \n",
    "\n",
    "    def __private_methof(self):\n",
    "        print(\"this is private\")\n",
    "\n",
    "    def _protected_method(self):\n",
    "        print(\"this is a protected\")"
   ]
  },
  {
   "cell_type": "code",
   "execution_count": 19,
   "id": "8f5aebb5-6355-4fcc-96da-49eeea0e4eb8",
   "metadata": {},
   "outputs": [],
   "source": [
    "obj = Constructor()"
   ]
  },
  {
   "cell_type": "code",
   "execution_count": 20,
   "id": "2a4b9b03-b335-4183-a501-9f03addfa13e",
   "metadata": {},
   "outputs": [
    {
     "name": "stdout",
     "output_type": "stream",
     "text": [
      "this is public\n"
     ]
    },
    {
     "data": {
      "text/plain": [
       "1"
      ]
     },
     "execution_count": 20,
     "metadata": {},
     "output_type": "execute_result"
    }
   ],
   "source": [
    "obj.public_method()"
   ]
  },
  {
   "cell_type": "code",
   "execution_count": null,
   "id": "b0efc41b-558f-4066-afa2-ea3cb21abd5a",
   "metadata": {},
   "outputs": [],
   "source": []
  },
  {
   "cell_type": "markdown",
   "id": "bbfd7ed4-b401-4d26-8de6-eb7d1625d1bf",
   "metadata": {},
   "source": [
    "# Polymorphism\n",
    "\n",
    "The word \"polymorphism\" means \"many forms\", and in programming it refers to methods/functions/operators with the same name that can be executed on many objects or classes.\n",
    "\n",
    "1. Method Overloading: A class can have multiple methods with the same name but different parameters, and the method to be called is determined based on the number and types of arguments passed during the function call.\n",
    "2. Method Overriding: Method overriding occurs when a subclass defines a method with the same name and parameters as a method in its superclass. When this occurs, the method in the subclass overrides the method in the superclass, allowing the subclass to provide its own implementation of the method.\n",
    "3. Operator Overloading: Python allows operators to be overloaded, so that they can be used with user-defined classes. For example, the \"+\" operator can be overloaded to perform concatenation on two string objects.\n",
    "4. Duck Typing: In Python, an object's suitability for an operation is determined by its behavior (i.e., its methods and attributes) rather than its type. So, if two different objects have the same behavior, they can be used interchangeably.\n"
   ]
  },
  {
   "cell_type": "code",
   "execution_count": null,
   "id": "404b68aa-e091-40a8-9cdf-2eff341df3d7",
   "metadata": {},
   "outputs": [],
   "source": []
  },
  {
   "cell_type": "code",
   "execution_count": 27,
   "id": "40a996a9-7674-4f9f-9c21-1d62c5ad216e",
   "metadata": {},
   "outputs": [],
   "source": [
    "class Car:\n",
    "    def drive(self):\n",
    "        print(\"driving a car\")\n",
    "\n",
    "class Bike:\n",
    "    def drive(self):\n",
    "        print(\"riding a bike\")"
   ]
  },
  {
   "cell_type": "code",
   "execution_count": 31,
   "id": "66ddf062-b8d9-449b-9a74-4a617e1b09ed",
   "metadata": {},
   "outputs": [],
   "source": [
    "def start_driving(vech):\n",
    "    vech.drive()"
   ]
  },
  {
   "cell_type": "code",
   "execution_count": 32,
   "id": "ba6cdc2c-cf73-4912-bbca-53d7a3683507",
   "metadata": {},
   "outputs": [
    {
     "name": "stdout",
     "output_type": "stream",
     "text": [
      "driving a car\n",
      "riding a bike\n"
     ]
    }
   ],
   "source": [
    "car = Car()\n",
    "bike = Bike()\n",
    "\n",
    "start_driving(car)\n",
    "start_driving(bike)"
   ]
  },
  {
   "cell_type": "code",
   "execution_count": null,
   "id": "d6be37cf-ce51-4642-98ba-f17e539f1ecc",
   "metadata": {},
   "outputs": [],
   "source": []
  },
  {
   "cell_type": "markdown",
   "id": "de7aca70-fdb8-4bcd-b1a1-a938541fc538",
   "metadata": {},
   "source": [
    "In this example, we have defined two classes: `Car` and `Bike`. Both classes have a method called `drive`. We have defined a function called `start_driving`, which takes a parameter called `vehicle`. The `start_driving` function calls the drive method of the vehicle object. We create objects of the `Car and Bike` classes and pass them to the `start_driving` function. The drive method of the object is called based on its type. This is an example of duck typing, where the type of the object is not checked, but the presence of a specific method is checked."
   ]
  },
  {
   "cell_type": "code",
   "execution_count": null,
   "id": "571803d7-5df1-4b19-ab70-cf69c27b1442",
   "metadata": {},
   "outputs": [],
   "source": []
  },
  {
   "cell_type": "code",
   "execution_count": null,
   "id": "4e68c7e6-d6df-42c4-9914-193500b72d4d",
   "metadata": {},
   "outputs": [],
   "source": []
  },
  {
   "cell_type": "markdown",
   "id": "c01c3917-8553-436e-9d41-14a531ce1052",
   "metadata": {},
   "source": [
    "#  Abstraction in Python\n",
    "\n",
    "abstraction is one of the most essential concepts of Python OOPs which is used to hide irrelevant details from the user and show the details that are relevant to the users. "
   ]
  },
  {
   "cell_type": "code",
   "execution_count": null,
   "id": "ff8f2979-9c97-4f42-a491-f5583bea3c70",
   "metadata": {},
   "outputs": [],
   "source": []
  },
  {
   "cell_type": "code",
   "execution_count": 33,
   "id": "ff0e6343-aee1-4278-bc69-86f5affee765",
   "metadata": {},
   "outputs": [],
   "source": [
    "from abc import ABC, abstractmethod\n",
    "\n",
    "class Shape(ABC):\n",
    "\n",
    "    @abstractmethod\n",
    "    def area(self):\n",
    "        pass\n",
    "\n",
    "    @abstractmethod\n",
    "    def perimeter(self):\n",
    "        pass\n",
    "\n",
    "    def volume(self):\n",
    "        return \"Not Applicable for given shape\""
   ]
  },
  {
   "cell_type": "code",
   "execution_count": 34,
   "id": "0ca3c384-0e4e-48f5-9fff-1b5e4126d55a",
   "metadata": {},
   "outputs": [
    {
     "ename": "TypeError",
     "evalue": "Can't instantiate abstract class Shape without an implementation for abstract methods 'area', 'perimeter'",
     "output_type": "error",
     "traceback": [
      "\u001b[1;31m---------------------------------------------------------------------------\u001b[0m",
      "\u001b[1;31mTypeError\u001b[0m                                 Traceback (most recent call last)",
      "Cell \u001b[1;32mIn[34], line 1\u001b[0m\n\u001b[1;32m----> 1\u001b[0m shape \u001b[38;5;241m=\u001b[39m Shape()\n",
      "\u001b[1;31mTypeError\u001b[0m: Can't instantiate abstract class Shape without an implementation for abstract methods 'area', 'perimeter'"
     ]
    }
   ],
   "source": [
    "shape = Shape()"
   ]
  },
  {
   "cell_type": "markdown",
   "id": "1d68a01a-81e0-4680-bea3-950c008519da",
   "metadata": {},
   "source": [
    "In this example, we define an abstract class called `Shape`. It has two abstract methods, `area()` and `perimeter()`, which are used to define the interface of the class. Any subclass of `Shape` must implement these methods."
   ]
  },
  {
   "cell_type": "code",
   "execution_count": 35,
   "id": "bc554a42-7558-4254-8cff-b1e7fc611ff9",
   "metadata": {},
   "outputs": [],
   "source": [
    "class Rectangle(Shape):\n",
    "    def __init__(self, width, length):\n",
    "        self.w = width\n",
    "        self.l = length\n",
    "\n",
    "    def area(self):\n",
    "        return self.w * self.l\n",
    "\n",
    "    def perimeter(self):\n",
    "        return 2 * (self.w + self.l)"
   ]
  },
  {
   "cell_type": "code",
   "execution_count": 36,
   "id": "f186f359-29b9-4511-8e45-b92060d56239",
   "metadata": {},
   "outputs": [
    {
     "data": {
      "text/plain": [
       "'Not Applicable for given shape'"
      ]
     },
     "execution_count": 36,
     "metadata": {},
     "output_type": "execute_result"
    }
   ],
   "source": [
    "rect = Rectangle(34,12)\n",
    "rect.area()\n",
    "\n",
    "rect.volume()"
   ]
  },
  {
   "cell_type": "code",
   "execution_count": null,
   "id": "51693b95-5727-47d4-a420-af572704b069",
   "metadata": {},
   "outputs": [],
   "source": []
  },
  {
   "cell_type": "code",
   "execution_count": 38,
   "id": "c4831a41-49cb-4cea-a90b-128619b1ba04",
   "metadata": {},
   "outputs": [],
   "source": [
    "class Cube(Shape):\n",
    "    def __init__(self, length):\n",
    "        self.l = length\n",
    "\n",
    "    def area(self):\n",
    "        return 6  * (self.l ** 2)\n",
    "\n",
    "    def perimeter(self):\n",
    "        return 12 * self.l\n",
    "\n",
    "    def volume(self):\n",
    "        return self.l ** 3"
   ]
  },
  {
   "cell_type": "code",
   "execution_count": 41,
   "id": "0b6e9741-8733-450e-91d5-d89660a563a9",
   "metadata": {},
   "outputs": [
    {
     "data": {
      "text/plain": [
       "1728"
      ]
     },
     "execution_count": 41,
     "metadata": {},
     "output_type": "execute_result"
    }
   ],
   "source": [
    "cube =Cube(12)\n",
    "cube.volume()"
   ]
  },
  {
   "cell_type": "code",
   "execution_count": null,
   "id": "d14b44c4-7f72-473d-80e4-6279f088b645",
   "metadata": {},
   "outputs": [],
   "source": []
  }
 ],
 "metadata": {
  "kernelspec": {
   "display_name": "Python 3 (ipykernel)",
   "language": "python",
   "name": "python3"
  },
  "language_info": {
   "codemirror_mode": {
    "name": "ipython",
    "version": 3
   },
   "file_extension": ".py",
   "mimetype": "text/x-python",
   "name": "python",
   "nbconvert_exporter": "python",
   "pygments_lexer": "ipython3",
   "version": "3.12.7"
  }
 },
 "nbformat": 4,
 "nbformat_minor": 5
}
