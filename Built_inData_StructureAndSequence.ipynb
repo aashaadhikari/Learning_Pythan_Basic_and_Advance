{
 "cells": [
  {
   "cell_type": "markdown",
   "id": "2dc66559-5f8f-4514-a9c1-39d5d21c5292",
   "metadata": {},
   "source": [
    "### Data Structure and Sequences\n",
    "* Tuple ()\n",
    "* List []\n",
    "* Dictionary {}"
   ]
  },
  {
   "cell_type": "markdown",
   "id": "5e64e3c8-0522-4c71-86c4-d0f71a043038",
   "metadata": {},
   "source": [
    "## Tuple\n",
    " A tuple is a fixed-length, immutable sequence of Python objects which, once assigned, cannot be changed. "
   ]
  },
  {
   "cell_type": "code",
   "execution_count": 2,
   "id": "a7c219ef-9a5a-47ed-8013-d494048e3a24",
   "metadata": {},
   "outputs": [
    {
     "data": {
      "text/plain": [
       "(4, 5, 6)"
      ]
     },
     "execution_count": 2,
     "metadata": {},
     "output_type": "execute_result"
    }
   ],
   "source": [
    "tup =(4, 5, 6)\n",
    "tup"
   ]
  },
  {
   "cell_type": "code",
   "execution_count": 3,
   "id": "0d26f24c-068b-430e-9938-67b81bb1b5b9",
   "metadata": {},
   "outputs": [
    {
     "data": {
      "text/plain": [
       "('s', 't', 'r', 'i', 'n', 'g')"
      ]
     },
     "execution_count": 3,
     "metadata": {},
     "output_type": "execute_result"
    }
   ],
   "source": [
    "tuple([4, 0, 2])\n",
    "(4, 0, 2)\n",
    "tup =tuple('string')\n",
    "tup"
   ]
  },
  {
   "cell_type": "code",
   "execution_count": 5,
   "id": "c1f5fc02-0054-4b83-bcd6-078daa3369fe",
   "metadata": {},
   "outputs": [
    {
     "data": {
      "text/plain": [
       "('s', 't', 'r', 'i')"
      ]
     },
     "execution_count": 5,
     "metadata": {},
     "output_type": "execute_result"
    }
   ],
   "source": [
    "tup[0:4]"
   ]
  },
  {
   "cell_type": "markdown",
   "id": "137f5c80-8bb6-43f1-92fe-2203dc1ed039",
   "metadata": {},
   "source": [
    " When you’re defining tuples within more complicated expressions, it’s often neces\n",
    "sary to enclose the values in parentheses, as in this example of creating a tuple of\n",
    " tuples:"
   ]
  },
  {
   "cell_type": "code",
   "execution_count": 6,
   "id": "2f9b8482-5ee7-4a5b-b493-3f3b5647ee59",
   "metadata": {},
   "outputs": [
    {
     "data": {
      "text/plain": [
       "((4, 5, 6), (7, 8))"
      ]
     },
     "execution_count": 6,
     "metadata": {},
     "output_type": "execute_result"
    }
   ],
   "source": [
    "nested_tup = (4,5, 6), (7,8)\n",
    "nested_tup"
   ]
  },
  {
   "cell_type": "code",
   "execution_count": 8,
   "id": "216806a3-3bc4-4f22-af5f-97eb6d03699a",
   "metadata": {},
   "outputs": [
    {
     "data": {
      "text/plain": [
       "(4, 5, 6)"
      ]
     },
     "execution_count": 8,
     "metadata": {},
     "output_type": "execute_result"
    }
   ],
   "source": [
    "nested_tup[0]"
   ]
  },
  {
   "cell_type": "code",
   "execution_count": 9,
   "id": "ed7265fe-d50b-4fe7-9b3e-f0b5edcaddf1",
   "metadata": {},
   "outputs": [
    {
     "data": {
      "text/plain": [
       "(7, 8)"
      ]
     },
     "execution_count": 9,
     "metadata": {},
     "output_type": "execute_result"
    }
   ],
   "source": [
    "nested_tup[1]"
   ]
  },
  {
   "cell_type": "markdown",
   "id": "033dcad7-6eac-4c16-9074-0e25c3c2d8d3",
   "metadata": {},
   "source": [
    "### Tuples Are Immutable: \n",
    "* Once a tuple is created, you cannot change the objects (or values) stored in its specific positions (or \"slots\").\n",
    "* For example, if you have a tuple t = (1, 2, 3), you cannot do something like t[0] = 4. This will raise an error."
   ]
  },
  {
   "cell_type": "code",
   "execution_count": 10,
   "id": "dfeb2b45-8452-4afd-a3da-289dfdbeb0e7",
   "metadata": {},
   "outputs": [
    {
     "data": {
      "text/plain": [
       "[1, 2, 3]"
      ]
     },
     "execution_count": 10,
     "metadata": {},
     "output_type": "execute_result"
    }
   ],
   "source": [
    "t =[1,2,3]\n",
    "t"
   ]
  },
  {
   "cell_type": "code",
   "execution_count": 11,
   "id": "8fb63a36-d500-46b5-9228-b53a475393d2",
   "metadata": {},
   "outputs": [],
   "source": [
    "t[0] = 4 # it cannot change or modify the list inside tuple."
   ]
  },
  {
   "cell_type": "code",
   "execution_count": 14,
   "id": "969b174d-dee1-4e4c-a305-f864d16e5117",
   "metadata": {},
   "outputs": [
    {
     "data": {
      "text/plain": [
       "([1, 2, 3, 4], 'hello', 42)"
      ]
     },
     "execution_count": 14,
     "metadata": {},
     "output_type": "execute_result"
    }
   ],
   "source": [
    "# to modify the list\n",
    "t = ([1,2,3],\"hello\",42)\n",
    "t[0].append(4)\n",
    "t"
   ]
  },
  {
   "cell_type": "code",
   "execution_count": 19,
   "id": "ec8acf23-e52d-4197-bf9f-d6908bb08c2b",
   "metadata": {},
   "outputs": [
    {
     "data": {
      "text/plain": [
       "('foo', [1, 2, 3], True)"
      ]
     },
     "execution_count": 19,
     "metadata": {},
     "output_type": "execute_result"
    }
   ],
   "source": [
    "tup = tuple(['foo', [1,2] , True])\n",
    "tup[1].append(3)\n",
    "tup"
   ]
  },
  {
   "cell_type": "markdown",
   "id": "b91af7bf-9faa-4cf5-acc1-0b092fdae5d2",
   "metadata": {},
   "source": [
    "You can concatenate tuples using the + operator to produce longer tuples:"
   ]
  },
  {
   "cell_type": "code",
   "execution_count": 21,
   "id": "5e19763b-aacb-4128-866f-8c69cd573f9e",
   "metadata": {},
   "outputs": [
    {
     "data": {
      "text/plain": [
       "(1, None, 'foo', 6, 8, 'bar')"
      ]
     },
     "execution_count": 21,
     "metadata": {},
     "output_type": "execute_result"
    }
   ],
   "source": [
    "(1,None, 'foo') + (6,8) + ('bar',)"
   ]
  },
  {
   "cell_type": "markdown",
   "id": "3525c09e-9924-4fa2-a109-6f1e6e852382",
   "metadata": {},
   "source": [
    " Multiplying a tuple by an integer, as with lists, has the effect of concatenating that\n",
    " many copies of the tuple:"
   ]
  },
  {
   "cell_type": "code",
   "execution_count": 24,
   "id": "61206453-e21c-44e1-92fa-2f427adda278",
   "metadata": {},
   "outputs": [
    {
     "data": {
      "text/plain": [
       "('foo', 'bar', 'foo', 'bar', 'foo', 'bar', 'foo', 'bar')"
      ]
     },
     "execution_count": 24,
     "metadata": {},
     "output_type": "execute_result"
    }
   ],
   "source": [
    "tupp=('foo', 'bar')*4\n",
    "tupp"
   ]
  },
  {
   "cell_type": "markdown",
   "id": "390c3914-55f2-40d2-b5b4-f7a3c8915a1f",
   "metadata": {},
   "source": [
    "# Unpacking tuples\n",
    " If you try to assign to a tuple-like expression of variables, Python will attempt to\n",
    " unpack the value on the righthand side of the equals sign:"
   ]
  },
  {
   "cell_type": "code",
   "execution_count": 26,
   "id": "b94d8ccc-74aa-4997-970b-69937d310f09",
   "metadata": {},
   "outputs": [
    {
     "data": {
      "text/plain": [
       "6"
      ]
     },
     "execution_count": 26,
     "metadata": {},
     "output_type": "execute_result"
    }
   ],
   "source": [
    "tup = (4,5,6)\n",
    "a, b, c =tup\n",
    "b\n",
    "c"
   ]
  },
  {
   "cell_type": "markdown",
   "id": "b5520335-1c32-4be1-b825-69cb35f3036f",
   "metadata": {},
   "source": [
    " A common use of variable unpacking is iterating over sequences of tuples or lists:"
   ]
  },
  {
   "cell_type": "code",
   "execution_count": 27,
   "id": "fae5e2da-32a8-4925-a6c8-8fbcd231b624",
   "metadata": {},
   "outputs": [
    {
     "name": "stdout",
     "output_type": "stream",
     "text": [
      "a=1, b=2, c=3\n",
      "a=4, b=5, c=6\n",
      "a=7, b=8, c=9\n"
     ]
    }
   ],
   "source": [
    "seq =[(1,2,3),(4,5,6), (7,8,9)]\n",
    "for a,b,c in seq:\n",
    "    print(f\"a={a}, b={b}, c={c}\")"
   ]
  },
  {
   "cell_type": "markdown",
   "id": "e7605d68-6203-4823-bb17-e490581554f6",
   "metadata": {},
   "source": [
    "# Tuple Methods\n",
    "the size and contents of a tuple cannot be modified, it is very light on instance\n",
    " methods."
   ]
  },
  {
   "cell_type": "code",
   "execution_count": 28,
   "id": "fd436419-099e-423b-8c31-ded3d09d5721",
   "metadata": {},
   "outputs": [
    {
     "data": {
      "text/plain": [
       "4"
      ]
     },
     "execution_count": 28,
     "metadata": {},
     "output_type": "execute_result"
    }
   ],
   "source": [
    "a =(1,2,3,2,2,3,4,2)\n",
    "a.count(2)"
   ]
  },
  {
   "cell_type": "code",
   "execution_count": null,
   "id": "094e6418-5d8f-45ba-ba18-885d563aada1",
   "metadata": {},
   "outputs": [],
   "source": []
  },
  {
   "cell_type": "markdown",
   "id": "64ca154c-8e67-47dd-b2a7-e6ada067fb50",
   "metadata": {},
   "source": [
    "# List\n",
    "lists are variable length and their contents can be modified in\n",
    " place. "
   ]
  },
  {
   "cell_type": "code",
   "execution_count": 29,
   "id": "7e07c172-448b-4cbc-93f2-9d6d79402958",
   "metadata": {},
   "outputs": [
    {
     "data": {
      "text/plain": [
       "['foo', 'bar', 'baz']"
      ]
     },
     "execution_count": 29,
     "metadata": {},
     "output_type": "execute_result"
    }
   ],
   "source": [
    "a_list = [2,3,7,None]\n",
    "tup = ('foo', 'bar', 'baz')\n",
    "b_list = list(tup)\n",
    "b_list"
   ]
  },
  {
   "cell_type": "code",
   "execution_count": 30,
   "id": "b73ff1e6-2e4c-4605-9693-b587b73e9a49",
   "metadata": {},
   "outputs": [
    {
     "data": {
      "text/plain": [
       "['foo', 'pookoda', 'baz']"
      ]
     },
     "execution_count": 30,
     "metadata": {},
     "output_type": "execute_result"
    }
   ],
   "source": [
    "b_list[1] = \"pookoda\"\n",
    "b_list"
   ]
  },
  {
   "cell_type": "markdown",
   "id": "14c0a14f-a616-4b86-93b0-1dbdd9030677",
   "metadata": {},
   "source": [
    "The list built-in function is frequently used in data processing as a way to material\n",
    "ize an iterator or generator expression:"
   ]
  },
  {
   "cell_type": "code",
   "execution_count": 34,
   "id": "69f4e8ab-ba97-45cb-9d0b-09ef02956ef2",
   "metadata": {},
   "outputs": [
    {
     "data": {
      "text/plain": [
       "[0, 1, 2, 3, 4, 5, 6, 7, 8, 9, 10, 11, 12, 13, 14, 15, 16, 17, 18, 19, 20, 21]"
      ]
     },
     "execution_count": 34,
     "metadata": {},
     "output_type": "execute_result"
    }
   ],
   "source": [
    "gen = range(22)\n",
    "gen\n",
    "range(0, 22)\n",
    "list(gen)"
   ]
  },
  {
   "cell_type": "markdown",
   "id": "3c0898ed-1631-4684-a7a2-d14bb0a4f2bb",
   "metadata": {},
   "source": [
    "# Adding and removing elements"
   ]
  },
  {
   "cell_type": "markdown",
   "id": "71bf1748-5578-418a-9f52-c45462fb0a32",
   "metadata": {},
   "source": [
    "Elements can be appended to the end of the list with the append method:\n"
   ]
  },
  {
   "cell_type": "code",
   "execution_count": 39,
   "id": "6cf74eef-bfa2-429e-adae-0d876a39d268",
   "metadata": {},
   "outputs": [
    {
     "data": {
      "text/plain": [
       "['foo', 'bar', 'baz', 'dwarf']"
      ]
     },
     "execution_count": 39,
     "metadata": {},
     "output_type": "execute_result"
    }
   ],
   "source": [
    "b_list = ['foo', 'bar', 'baz']\n",
    "b_list\n",
    "b_list.append('dwarf')\n",
    "b_list"
   ]
  },
  {
   "cell_type": "markdown",
   "id": "86d8faa2-89b8-4cc4-b9cc-2904afa74dc4",
   "metadata": {},
   "source": [
    " Using insert you can insert an element at a specific location in the list:"
   ]
  },
  {
   "cell_type": "code",
   "execution_count": 40,
   "id": "4a1373fd-69be-47f0-bb93-e95857c13b48",
   "metadata": {},
   "outputs": [
    {
     "data": {
      "text/plain": [
       "['foo', 'red', 'bar', 'baz', 'dwarf']"
      ]
     },
     "execution_count": 40,
     "metadata": {},
     "output_type": "execute_result"
    }
   ],
   "source": [
    "b_list.insert(1, 'red')\n",
    "b_list"
   ]
  },
  {
   "cell_type": "markdown",
   "id": "e4b23d46-c0cf-49e3-a158-fb9f9b371db9",
   "metadata": {},
   "source": [
    " The inverse operation to insert is pop, which removes and returns an element at a\n",
    " particular index:"
   ]
  },
  {
   "cell_type": "code",
   "execution_count": 41,
   "id": "5e01d65e-3444-48a7-be18-3119451d1079",
   "metadata": {},
   "outputs": [
    {
     "data": {
      "text/plain": [
       "['foo', 'red', 'baz', 'dwarf']"
      ]
     },
     "execution_count": 41,
     "metadata": {},
     "output_type": "execute_result"
    }
   ],
   "source": [
    "b_list.pop(2)\n",
    "b_list"
   ]
  },
  {
   "cell_type": "markdown",
   "id": "3b15632a-7661-45d2-b3ae-619c41f88f6e",
   "metadata": {},
   "source": [
    "To check the value is exite or not"
   ]
  },
  {
   "cell_type": "code",
   "execution_count": 42,
   "id": "627eebc6-bcc7-4bb5-b8a4-2f0a138e8a4b",
   "metadata": {},
   "outputs": [
    {
     "data": {
      "text/plain": [
       "True"
      ]
     },
     "execution_count": 42,
     "metadata": {},
     "output_type": "execute_result"
    }
   ],
   "source": [
    "\"red\" in b_list\n"
   ]
  },
  {
   "cell_type": "code",
   "execution_count": 43,
   "id": "3d7d94bb-1caf-46db-b5f4-57b459e5ef3d",
   "metadata": {},
   "outputs": [
    {
     "data": {
      "text/plain": [
       "False"
      ]
     },
     "execution_count": 43,
     "metadata": {},
     "output_type": "execute_result"
    }
   ],
   "source": [
    "# The keyword not can be used to negate in\n",
    "\"red\" not in b_list"
   ]
  },
  {
   "cell_type": "markdown",
   "id": "f246b825-670b-46ab-8918-676de90ba357",
   "metadata": {},
   "source": [
    "### Concatenating and combining lists"
   ]
  },
  {
   "cell_type": "code",
   "execution_count": 44,
   "id": "3daf775e-e485-435a-b58d-91701767beb8",
   "metadata": {},
   "outputs": [
    {
     "data": {
      "text/plain": [
       "[4, None, 'foo', 7, 8, 9, (5, 6)]"
      ]
     },
     "execution_count": 44,
     "metadata": {},
     "output_type": "execute_result"
    }
   ],
   "source": [
    "[4, None, 'foo'] + [7,8,9,(5,6)]"
   ]
  },
  {
   "cell_type": "markdown",
   "id": "2c731c4f-7353-4897-9a20-19ee164385fb",
   "metadata": {},
   "source": [
    "If you have a list alrady defined, you can appand multiple element to it using the extand method.\n"
   ]
  },
  {
   "cell_type": "code",
   "execution_count": 47,
   "id": "625eea55-c31d-4f07-a23c-acddc6d87dff",
   "metadata": {},
   "outputs": [
    {
     "data": {
      "text/plain": [
       "[4, None, 'foo', 7, 8, (2, 3)]"
      ]
     },
     "execution_count": 47,
     "metadata": {},
     "output_type": "execute_result"
    }
   ],
   "source": [
    "x = [4, None, \"foo\"]\n",
    "x.extend([7,8,(2,3)])\n",
    "x"
   ]
  },
  {
   "cell_type": "markdown",
   "id": "21a08372-336a-4aa2-8c6a-84499390980d",
   "metadata": {},
   "source": [
    "List Extension with extend:\n",
    "* The extend method adds elements directly to an existing list, avoiding the need to create a new list each time.\n",
    "* This makes it faster and more efficient, especially when dealing with large lists."
   ]
  },
  {
   "cell_type": "code",
   "execution_count": 49,
   "id": "0c26bfbd-fab5-4a23-af94-1a1f118d0451",
   "metadata": {},
   "outputs": [
    {
     "ename": "TypeError",
     "evalue": "'int' object is not iterable",
     "output_type": "error",
     "traceback": [
      "\u001b[1;31m---------------------------------------------------------------------------\u001b[0m",
      "\u001b[1;31mTypeError\u001b[0m                                 Traceback (most recent call last)",
      "Cell \u001b[1;32mIn[49], line 3\u001b[0m\n\u001b[0;32m      1\u001b[0m everything \u001b[38;5;241m=\u001b[39m[\u001b[38;5;241m1\u001b[39m,\u001b[38;5;241m2\u001b[39m,\u001b[38;5;241m34\u001b[39m,\u001b[38;5;241m5\u001b[39m]\n\u001b[0;32m      2\u001b[0m \u001b[38;5;28;01mfor\u001b[39;00m chunk \u001b[38;5;129;01min\u001b[39;00m everything:\n\u001b[1;32m----> 3\u001b[0m     everything\u001b[38;5;241m.\u001b[39mextend(chunk)\n",
      "\u001b[1;31mTypeError\u001b[0m: 'int' object is not iterable"
     ]
    }
   ],
   "source": [
    "everything =[1,2,34,5]\n",
    "for chunk in everything:\n",
    "    everything.extend(chunk)"
   ]
  },
  {
   "cell_type": "code",
   "execution_count": null,
   "id": "288f825f-5cef-44a0-afb9-3419c90277c4",
   "metadata": {},
   "outputs": [],
   "source": []
  },
  {
   "cell_type": "markdown",
   "id": "edf2fee6-3cf8-44ed-8562-1f093a95b64c",
   "metadata": {},
   "source": [
    "# Sorting\n",
    " You can sort a list in place (without creating a new object) by calling its sort\n",
    " function:"
   ]
  },
  {
   "cell_type": "code",
   "execution_count": 80,
   "id": "58b055df-b08e-475a-9bcd-33b01583c19b",
   "metadata": {},
   "outputs": [],
   "source": [
    "a =[7,2,9,0,5,4,6,1]\n"
   ]
  },
  {
   "cell_type": "code",
   "execution_count": 83,
   "id": "eccbd7d7-5ee0-4a1a-9ab4-81131a76a964",
   "metadata": {},
   "outputs": [
    {
     "data": {
      "text/plain": [
       "5"
      ]
     },
     "execution_count": 83,
     "metadata": {},
     "output_type": "execute_result"
    }
   ],
   "source": [
    "a.index(4)"
   ]
  },
  {
   "cell_type": "code",
   "execution_count": 81,
   "id": "1e96ccb4-1854-4132-9ebf-472aeb685cc8",
   "metadata": {},
   "outputs": [
    {
     "data": {
      "text/plain": [
       "1"
      ]
     },
     "execution_count": 81,
     "metadata": {},
     "output_type": "execute_result"
    }
   ],
   "source": [
    "a.count(1)"
   ]
  },
  {
   "cell_type": "code",
   "execution_count": 79,
   "id": "16c88a96-1cbf-4058-99ab-41a247a98795",
   "metadata": {},
   "outputs": [
    {
     "data": {
      "text/plain": [
       "[0, 1, 2, 4, 5, 6, 7, 9]"
      ]
     },
     "execution_count": 79,
     "metadata": {},
     "output_type": "execute_result"
    }
   ],
   "source": [
    "a.sort()\n",
    "a"
   ]
  },
  {
   "cell_type": "code",
   "execution_count": 75,
   "id": "f8710972-dcd9-4163-8993-c975fcba1d46",
   "metadata": {},
   "outputs": [
    {
     "data": {
      "text/plain": [
       "[9, 7, 6, 5, 4, 2, 1, 0]"
      ]
     },
     "execution_count": 75,
     "metadata": {},
     "output_type": "execute_result"
    }
   ],
   "source": [
    "a.sort(reverse=True)\n"
   ]
  },
  {
   "cell_type": "code",
   "execution_count": 55,
   "id": "462e8787-05f1-4934-846f-331229fe2628",
   "metadata": {},
   "outputs": [
    {
     "data": {
      "text/plain": [
       "['apple', 'fox', 'he', 'saw', 'six']"
      ]
     },
     "execution_count": 55,
     "metadata": {},
     "output_type": "execute_result"
    }
   ],
   "source": [
    "b =['saw', 'apple', 'he', 'fox', 'six']\n",
    "b.sort()\n",
    "b"
   ]
  },
  {
   "cell_type": "code",
   "execution_count": 58,
   "id": "c35f8931-1d49-43f3-984f-00e157eacfb3",
   "metadata": {},
   "outputs": [
    {
     "data": {
      "text/plain": [
       "['he', 'saw', 'fox', 'six', 'apple']"
      ]
     },
     "execution_count": 58,
     "metadata": {},
     "output_type": "execute_result"
    }
   ],
   "source": [
    "\n",
    "b.sort(key=len)\n",
    "b"
   ]
  },
  {
   "cell_type": "markdown",
   "id": "999ad2d6-62e8-490c-ba14-b55691e7eba4",
   "metadata": {},
   "source": [
    "# Slicing\n",
    " You can select sections of most sequence types by using slice notation, which in its\n",
    " basic form consists of start:stop passed to the indexing operator []:"
   ]
  },
  {
   "cell_type": "code",
   "execution_count": 59,
   "id": "18633fea-8efc-44cf-8c94-10aa0add22a7",
   "metadata": {},
   "outputs": [
    {
     "data": {
      "text/plain": [
       "[1, 2, 3, 4, 5]"
      ]
     },
     "execution_count": 59,
     "metadata": {},
     "output_type": "execute_result"
    }
   ],
   "source": [
    "seq = [1,2,3,4,5,6,67,7,8,9,0]\n",
    "seq[0:5]"
   ]
  },
  {
   "cell_type": "code",
   "execution_count": 60,
   "id": "7301417c-9d4e-4583-b641-17e568642a1f",
   "metadata": {},
   "outputs": [
    {
     "data": {
      "text/plain": [
       "[2, 4, 6, 7]"
      ]
     },
     "execution_count": 60,
     "metadata": {},
     "output_type": "execute_result"
    }
   ],
   "source": [
    "seq[1:8:2]"
   ]
  },
  {
   "cell_type": "code",
   "execution_count": null,
   "id": "afdaa4e8-0ad1-4d64-8bb6-f1966e189d11",
   "metadata": {},
   "outputs": [],
   "source": []
  },
  {
   "cell_type": "markdown",
   "id": "face7f99-5996-4320-85e6-fc4ad6713bd3",
   "metadata": {},
   "source": [
    "# Dictionary(dict)\n",
    "* A dictionary stores data as key-value pairs.\n",
    "* You can quickly access, add, or change values using their keys.\n",
    "* Create dictionaries with {key: value} format.\n",
    "\n",
    "Some commonly used methods in Python dictionaries are `keys()`, `values()`, `items()`, `pop()`, `copy()`, `clear()`."
   ]
  },
  {
   "cell_type": "code",
   "execution_count": 61,
   "id": "938b82a0-35fc-43bb-9370-b070d1510e31",
   "metadata": {},
   "outputs": [
    {
     "data": {
      "text/plain": [
       "{'a': 'some value', 'b': [1, 2, 3, 4]}"
      ]
     },
     "execution_count": 61,
     "metadata": {},
     "output_type": "execute_result"
    }
   ],
   "source": [
    "empty_dict={}\n",
    "d1 = {\"a\":\"some value\", \"b\":[1,2,3,4]}\n",
    "d1"
   ]
  },
  {
   "cell_type": "code",
   "execution_count": 62,
   "id": "b9efaf4a-a749-4a0e-b310-3be1f8e03332",
   "metadata": {},
   "outputs": [
    {
     "data": {
      "text/plain": [
       "{'a': 'some value', 'b': [1, 2, 3, 4], 7: 'an integer'}"
      ]
     },
     "execution_count": 62,
     "metadata": {},
     "output_type": "execute_result"
    }
   ],
   "source": [
    "d1[7] = \"an integer\"\n",
    "d1"
   ]
  },
  {
   "cell_type": "code",
   "execution_count": 63,
   "id": "807f8444-e3c6-484e-a28b-892f5a3f9372",
   "metadata": {},
   "outputs": [
    {
     "data": {
      "text/plain": [
       "'an integer'"
      ]
     },
     "execution_count": 63,
     "metadata": {},
     "output_type": "execute_result"
    }
   ],
   "source": [
    "d1[7]"
   ]
  },
  {
   "cell_type": "code",
   "execution_count": 64,
   "id": "fd96eb38-171b-42f7-bacc-7fdf54b606c4",
   "metadata": {},
   "outputs": [
    {
     "data": {
      "text/plain": [
       "True"
      ]
     },
     "execution_count": 64,
     "metadata": {},
     "output_type": "execute_result"
    }
   ],
   "source": [
    "'a' in d1 #You can check if a dictionary contains"
   ]
  },
  {
   "cell_type": "code",
   "execution_count": 65,
   "id": "ced7fa69-b260-49ca-abd9-ef3175c8f201",
   "metadata": {},
   "outputs": [
    {
     "data": {
      "text/plain": [
       "{'a': 'some value', 'b': [1, 2, 3, 4], 7: 'an integer', 5: 'some value'}"
      ]
     },
     "execution_count": 65,
     "metadata": {},
     "output_type": "execute_result"
    }
   ],
   "source": [
    "#  You can delete values using either the del keyword or the pop method \n",
    "d1[5] = \"some value\"\n",
    "d1"
   ]
  },
  {
   "cell_type": "code",
   "execution_count": 66,
   "id": "c984c962-a4a4-4f1a-b2a8-9034559a455c",
   "metadata": {},
   "outputs": [
    {
     "data": {
      "text/plain": [
       "{'a': 'some value',\n",
       " 'b': [1, 2, 3, 4],\n",
       " 7: 'an integer',\n",
       " 5: 'some value',\n",
       " 'name': 'seema'}"
      ]
     },
     "execution_count": 66,
     "metadata": {},
     "output_type": "execute_result"
    }
   ],
   "source": [
    "d1['name'] = \"seema\"\n",
    "d1"
   ]
  },
  {
   "cell_type": "code",
   "execution_count": 67,
   "id": "1ead4d9a-dbf2-48ae-a64b-788015ece377",
   "metadata": {},
   "outputs": [
    {
     "data": {
      "text/plain": [
       "{'b': [1, 2, 3, 4], 7: 'an integer', 5: 'some value', 'name': 'seema'}"
      ]
     },
     "execution_count": 67,
     "metadata": {},
     "output_type": "execute_result"
    }
   ],
   "source": [
    "del d1[\"a\"]\n",
    "d1"
   ]
  },
  {
   "cell_type": "code",
   "execution_count": 72,
   "id": "1498d9be-b02f-4435-9d91-c51715f0ce32",
   "metadata": {},
   "outputs": [
    {
     "data": {
      "text/plain": [
       "[1, 2, 3, 4]"
      ]
     },
     "execution_count": 72,
     "metadata": {},
     "output_type": "execute_result"
    }
   ],
   "source": [
    "ret=d1.pop(\"b\")\n",
    "ret"
   ]
  },
  {
   "cell_type": "code",
   "execution_count": 73,
   "id": "f5ee6662-1743-4f4c-8078-80d323d47f81",
   "metadata": {},
   "outputs": [
    {
     "data": {
      "text/plain": [
       "{7: 'an integer', 5: 'some value', 'name': 'seema'}"
      ]
     },
     "execution_count": 73,
     "metadata": {},
     "output_type": "execute_result"
    }
   ],
   "source": [
    "d1"
   ]
  },
  {
   "cell_type": "code",
   "execution_count": 86,
   "id": "a4fbba5f-c584-4c93-99be-37e0baf0e5fd",
   "metadata": {},
   "outputs": [],
   "source": [
    "d1[7] = \"Integer\" "
   ]
  },
  {
   "cell_type": "code",
   "execution_count": 87,
   "id": "d881ab35-4671-4288-af66-de8f06f80136",
   "metadata": {},
   "outputs": [
    {
     "data": {
      "text/plain": [
       "{7: 'Integer', 5: 'some value', 'name': 'seema', 'a': 'Integer'}"
      ]
     },
     "execution_count": 87,
     "metadata": {},
     "output_type": "execute_result"
    }
   ],
   "source": [
    "d1"
   ]
  },
  {
   "cell_type": "code",
   "execution_count": 89,
   "id": "4575e7e1-9ffd-4cdf-8db4-bb0b90d8ca10",
   "metadata": {},
   "outputs": [
    {
     "data": {
      "text/plain": [
       "dict_keys([7, 5, 'name', 'a'])"
      ]
     },
     "execution_count": 89,
     "metadata": {},
     "output_type": "execute_result"
    }
   ],
   "source": [
    "d1.keys()"
   ]
  },
  {
   "cell_type": "code",
   "execution_count": 90,
   "id": "c276f730-4c07-41e6-a685-6fe2c2831af0",
   "metadata": {},
   "outputs": [
    {
     "data": {
      "text/plain": [
       "dict_items([(7, 'Integer'), (5, 'some value'), ('name', 'seema'), ('a', 'Integer')])"
      ]
     },
     "execution_count": 90,
     "metadata": {},
     "output_type": "execute_result"
    }
   ],
   "source": [
    "d1.items()"
   ]
  },
  {
   "cell_type": "markdown",
   "id": "fac58cc2-97c2-44e8-83c1-fe283f31d419",
   "metadata": {},
   "source": [
    "# Copy() Methods"
   ]
  },
  {
   "cell_type": "code",
   "execution_count": 1,
   "id": "413d9b2f-f32e-4cbd-aea5-0a7f54459429",
   "metadata": {},
   "outputs": [
    {
     "data": {
      "text/plain": [
       "{'name': 'Ram', 'Age': '23', 'gender': 'male'}"
      ]
     },
     "execution_count": 1,
     "metadata": {},
     "output_type": "execute_result"
    }
   ],
   "source": [
    "person ={\"name\": \"Ram\", \"Age\": \"23\", \"gender\": \"male\"}\n",
    "person2 = person\n",
    "person2"
   ]
  },
  {
   "cell_type": "markdown",
   "id": "5b7be6be-65a6-4463-821f-1ce583dd5aa5",
   "metadata": {},
   "source": [
    "# Sorted() Method"
   ]
  },
  {
   "cell_type": "code",
   "execution_count": 4,
   "id": "bde92212-a8a4-425a-8ef9-4b594408c5f3",
   "metadata": {},
   "outputs": [
    {
     "data": {
      "text/plain": [
       "{'Age': '23', 'gender': 'male', 'name': 'Ram'}"
      ]
     },
     "execution_count": 4,
     "metadata": {},
     "output_type": "execute_result"
    }
   ],
   "source": [
    "dict(sorted(person.items(), key =lambda item: item[0], reverse= False))"
   ]
  },
  {
   "cell_type": "markdown",
   "id": "bda3db47-0efd-4083-8ab1-39e4c7521794",
   "metadata": {},
   "source": [
    "# Merging two dict"
   ]
  },
  {
   "cell_type": "code",
   "execution_count": 5,
   "id": "9cc61c91-0594-4850-9dd1-1cf8c2c1af65",
   "metadata": {},
   "outputs": [],
   "source": [
    "person ={\"name\":\"seema\",\"age\":22,\"city\":\"kathmandu\",\"gender\":\"female\"}\n",
    "address ={\"city\":\"pokhara\", \"worda\": 6,\"pincode\":223}\n"
   ]
  },
  {
   "cell_type": "code",
   "execution_count": 6,
   "id": "e4b07e25-9dcd-4978-8fa0-97d112479d8e",
   "metadata": {},
   "outputs": [
    {
     "data": {
      "text/plain": [
       "{'name': 'seema',\n",
       " 'age': 22,\n",
       " 'city': 'pokhara',\n",
       " 'gender': 'female',\n",
       " 'worda': 6,\n",
       " 'pincode': 223}"
      ]
     },
     "execution_count": 6,
     "metadata": {},
     "output_type": "execute_result"
    }
   ],
   "source": [
    "person | address"
   ]
  },
  {
   "cell_type": "code",
   "execution_count": 7,
   "id": "61dde3f2-2233-48c4-ac51-3386c45863a4",
   "metadata": {},
   "outputs": [
    {
     "data": {
      "text/plain": [
       "{'city': 'kathmandu',\n",
       " 'worda': 6,\n",
       " 'pincode': 223,\n",
       " 'name': 'seema',\n",
       " 'age': 22,\n",
       " 'gender': 'female'}"
      ]
     },
     "execution_count": 7,
     "metadata": {},
     "output_type": "execute_result"
    }
   ],
   "source": [
    "address|person"
   ]
  },
  {
   "cell_type": "code",
   "execution_count": 10,
   "id": "dd19563e-897d-4f94-a0cb-5af2dceeb026",
   "metadata": {},
   "outputs": [
    {
     "data": {
      "text/plain": [
       "{'city': 'kathmandu',\n",
       " 'worda': 6,\n",
       " 'pincode': 223,\n",
       " 'name': 'seema',\n",
       " 'age': 22,\n",
       " 'gender': 'female'}"
      ]
     },
     "execution_count": 10,
     "metadata": {},
     "output_type": "execute_result"
    }
   ],
   "source": [
    "Z = {**address, **person}\n",
    "Z"
   ]
  },
  {
   "cell_type": "code",
   "execution_count": null,
   "id": "bcb873dc-711b-4364-940f-205b05bc6f81",
   "metadata": {},
   "outputs": [],
   "source": []
  },
  {
   "cell_type": "markdown",
   "id": "1fb60462-02cb-4c19-ab77-410580d7de10",
   "metadata": {},
   "source": [
    "# Python Set Type\n",
    "\n",
    "Python Set Type\n",
    "A set is an unordered collection of unique elements in Python. Sets are mutable, meaning their contents can be changed after they are created. Sets are created using curly braces `{}` or the `set()` constructor.\n",
    "\n",
    "# Creating a Set\n",
    "To create a set, you can use curly braces `{}` with comma-separated values inside or the `set()` constructor with a list as an argument. Here are some examples:"
   ]
  },
  {
   "cell_type": "code",
   "execution_count": 11,
   "id": "5f8c6e5f-6ffc-4bb1-ae45-62b45688c997",
   "metadata": {},
   "outputs": [
    {
     "data": {
      "text/plain": [
       "{1, 4, 4.1, 5, 6, 7}"
      ]
     },
     "execution_count": 11,
     "metadata": {},
     "output_type": "execute_result"
    }
   ],
   "source": [
    "my_set = {4,5,6,7,1,1,4.1}\n",
    "my_set"
   ]
  },
  {
   "cell_type": "markdown",
   "id": "8a807775-d9cf-491f-bdac-e0f93cec110b",
   "metadata": {},
   "source": [
    "# set operation\n",
    "\n",
    "Sets in Python support a variety of operations, including union, intersection, difference, and symmetric difference. Here are some examples:"
   ]
  },
  {
   "cell_type": "code",
   "execution_count": 12,
   "id": "c8cc1567-fed2-4553-9620-b456c9d44b19",
   "metadata": {},
   "outputs": [],
   "source": [
    "a = {1,2,3,4}\n",
    "b = {5,6,3,4}"
   ]
  },
  {
   "cell_type": "code",
   "execution_count": 13,
   "id": "d663a0cc-0f4b-44c2-a9ed-22506fae5f85",
   "metadata": {},
   "outputs": [
    {
     "data": {
      "text/plain": [
       "{1, 2, 3, 4, 5, 6}"
      ]
     },
     "execution_count": 13,
     "metadata": {},
     "output_type": "execute_result"
    }
   ],
   "source": [
    "unionset = a.union(b)\n",
    "unionset"
   ]
  },
  {
   "cell_type": "code",
   "execution_count": 14,
   "id": "6b148e98-1bec-4730-bdcb-daa768372637",
   "metadata": {},
   "outputs": [
    {
     "data": {
      "text/plain": [
       "{3, 4}"
      ]
     },
     "execution_count": 14,
     "metadata": {},
     "output_type": "execute_result"
    }
   ],
   "source": [
    "set2 = a.intersection(b)\n",
    "set2\n"
   ]
  },
  {
   "cell_type": "code",
   "execution_count": 15,
   "id": "de5f9749-3606-437c-8ca1-d46151fc6c2d",
   "metadata": {},
   "outputs": [
    {
     "data": {
      "text/plain": [
       "False"
      ]
     },
     "execution_count": 15,
     "metadata": {},
     "output_type": "execute_result"
    }
   ],
   "source": [
    "a.isdisjoint(b)"
   ]
  },
  {
   "cell_type": "code",
   "execution_count": 16,
   "id": "3417f62c-b510-4f1d-a76e-dba61f0036ae",
   "metadata": {},
   "outputs": [
    {
     "data": {
      "text/plain": [
       "{1, 2}"
      ]
     },
     "execution_count": 16,
     "metadata": {},
     "output_type": "execute_result"
    }
   ],
   "source": [
    "a.difference(b)"
   ]
  },
  {
   "cell_type": "code",
   "execution_count": 19,
   "id": "9b42f6d4-5536-4b95-b924-a5d279ef78ba",
   "metadata": {},
   "outputs": [
    {
     "data": {
      "text/plain": [
       "{1, 2, 5, 6}"
      ]
     },
     "execution_count": 19,
     "metadata": {},
     "output_type": "execute_result"
    }
   ],
   "source": [
    " set4=a.symmetric_difference(b)\n",
    "set4"
   ]
  },
  {
   "cell_type": "code",
   "execution_count": 20,
   "id": "8f908ba9-e78f-4ee4-a200-ed1bcca3e8d1",
   "metadata": {},
   "outputs": [
    {
     "data": {
      "text/plain": [
       "{2, 5, 6}"
      ]
     },
     "execution_count": 20,
     "metadata": {},
     "output_type": "execute_result"
    }
   ],
   "source": [
    "set4.remove(1)\n",
    "set4"
   ]
  },
  {
   "cell_type": "code",
   "execution_count": 22,
   "id": "ea3c568d-8f7e-4798-9a8f-cf42b14fe4da",
   "metadata": {},
   "outputs": [
    {
     "data": {
      "text/plain": [
       "2"
      ]
     },
     "execution_count": 22,
     "metadata": {},
     "output_type": "execute_result"
    }
   ],
   "source": [
    "set4.pop()"
   ]
  },
  {
   "cell_type": "code",
   "execution_count": 23,
   "id": "e63ca86a-3e35-4b2e-b6c6-f14607ecfc36",
   "metadata": {},
   "outputs": [
    {
     "data": {
      "text/plain": [
       "{5, 6}"
      ]
     },
     "execution_count": 23,
     "metadata": {},
     "output_type": "execute_result"
    }
   ],
   "source": [
    "set4"
   ]
  },
  {
   "cell_type": "code",
   "execution_count": 24,
   "id": "c3c4177c-01a4-46d4-a4e9-75281c85e2a9",
   "metadata": {},
   "outputs": [
    {
     "data": {
      "text/plain": [
       "{2, 5, 6}"
      ]
     },
     "execution_count": 24,
     "metadata": {},
     "output_type": "execute_result"
    }
   ],
   "source": [
    "set4.add(2)\n",
    "set4"
   ]
  },
  {
   "cell_type": "code",
   "execution_count": 26,
   "id": "fa96ca45-84a9-4ece-88df-036f7178b2ed",
   "metadata": {},
   "outputs": [
    {
     "data": {
      "text/plain": [
       "{5, 6}"
      ]
     },
     "execution_count": 26,
     "metadata": {},
     "output_type": "execute_result"
    }
   ],
   "source": [
    "set4.discard(2)\n",
    "set4"
   ]
  },
  {
   "cell_type": "code",
   "execution_count": null,
   "id": "06921d8d-d376-4563-b36c-8785f1efda2a",
   "metadata": {},
   "outputs": [],
   "source": []
  },
  {
   "cell_type": "markdown",
   "id": "44ce4d8f-0b98-4706-9d5f-1f3c5e99d4f2",
   "metadata": {},
   "source": [
    "# Python Bollesn Type\n",
    "In Python, the boolean type is a built-in data type that has two possible values: `True` and `False`. Booleans are used to represent the truth values of logical expressions, and they are often used in conditional statements to control the flow of a program.\n",
    "\n",
    "You can create boolean values using the literals `True and False`, or by using expressions that evaluate to boolean values.\n",
    "\n",
    "# Example"
   ]
  },
  {
   "cell_type": "code",
   "execution_count": 29,
   "id": "665556ce-b9f7-4f46-9469-94a057d6c35e",
   "metadata": {},
   "outputs": [],
   "source": [
    "a = 5\n",
    "b = 10\n",
    "c =a>b\n",
    "d = a<b\n",
    "s = \"ram\".startswith(\"r\")"
   ]
  },
  {
   "cell_type": "code",
   "execution_count": 30,
   "id": "6ddefa94-23d3-4cc8-a1e4-f5f2bfb9c70f",
   "metadata": {},
   "outputs": [
    {
     "data": {
      "text/plain": [
       "bool"
      ]
     },
     "execution_count": 30,
     "metadata": {},
     "output_type": "execute_result"
    }
   ],
   "source": [
    "type(c)"
   ]
  },
  {
   "cell_type": "code",
   "execution_count": 31,
   "id": "a9ca3585-d5d5-4f62-8cf9-d84abd7b1ec4",
   "metadata": {},
   "outputs": [
    {
     "data": {
      "text/plain": [
       "True"
      ]
     },
     "execution_count": 31,
     "metadata": {},
     "output_type": "execute_result"
    }
   ],
   "source": [
    "d"
   ]
  },
  {
   "cell_type": "code",
   "execution_count": 32,
   "id": "09d7628d-7d50-472a-b5b4-6df5fa75ca4d",
   "metadata": {},
   "outputs": [
    {
     "data": {
      "text/plain": [
       "True"
      ]
     },
     "execution_count": 32,
     "metadata": {},
     "output_type": "execute_result"
    }
   ],
   "source": [
    "s"
   ]
  },
  {
   "cell_type": "code",
   "execution_count": 33,
   "id": "1f73dd91-9fe6-4e23-bd30-eaf0111caa3a",
   "metadata": {},
   "outputs": [
    {
     "data": {
      "text/plain": [
       "False"
      ]
     },
     "execution_count": 33,
     "metadata": {},
     "output_type": "execute_result"
    }
   ],
   "source": [
    "c"
   ]
  },
  {
   "cell_type": "markdown",
   "id": "899949b1-8a20-4055-ab49-2ce9f99b9037",
   "metadata": {},
   "source": [
    "Boolean values can be combined using logical operators. The most common logical operators are:\n",
    "\n",
    "* and: returns True if both operands are True, otherwise False.\n",
    "* or: returns True if either operand is True, otherwise False.\n",
    "* not: negates the value of the operand\n",
    "\n",
    "# Example"
   ]
  },
  {
   "cell_type": "code",
   "execution_count": 34,
   "id": "cf3b4797-3d08-4494-9373-45d9f4aa4e56",
   "metadata": {},
   "outputs": [],
   "source": [
    "x = True\n",
    "y = False"
   ]
  },
  {
   "cell_type": "code",
   "execution_count": 35,
   "id": "b615fb79-2d34-4072-bd80-2195720a3774",
   "metadata": {},
   "outputs": [
    {
     "data": {
      "text/plain": [
       "False"
      ]
     },
     "execution_count": 35,
     "metadata": {},
     "output_type": "execute_result"
    }
   ],
   "source": [
    "x and y"
   ]
  },
  {
   "cell_type": "code",
   "execution_count": 37,
   "id": "939772d6-9c89-4f00-acff-09c1c1e11178",
   "metadata": {},
   "outputs": [
    {
     "data": {
      "text/plain": [
       "True"
      ]
     },
     "execution_count": 37,
     "metadata": {},
     "output_type": "execute_result"
    }
   ],
   "source": [
    "x or x"
   ]
  },
  {
   "cell_type": "code",
   "execution_count": 38,
   "id": "2300d506-14a0-493a-9c70-e6113a3c50fd",
   "metadata": {},
   "outputs": [
    {
     "data": {
      "text/plain": [
       "False"
      ]
     },
     "execution_count": 38,
     "metadata": {},
     "output_type": "execute_result"
    }
   ],
   "source": [
    "not x"
   ]
  },
  {
   "cell_type": "markdown",
   "id": "616a8220-4209-4d2c-8356-64e8fb7fb87d",
   "metadata": {},
   "source": [
    "In Python, any non-zero number, non-empty string, non-empty list, non-empty tuple, non-empty dictionary, or non-None object is considered `True`. Zero, empty strings, empty lists, empty tuples, empty dictionaries, and None are considered `False`."
   ]
  },
  {
   "cell_type": "code",
   "execution_count": 39,
   "id": "3ade1665-49b6-4466-8b18-1220ec128962",
   "metadata": {},
   "outputs": [],
   "source": [
    "x = 555.5\n",
    "y = 0.00"
   ]
  },
  {
   "cell_type": "code",
   "execution_count": 41,
   "id": "f58a7a1c-4b47-479d-8a3e-25046b9de51e",
   "metadata": {},
   "outputs": [
    {
     "data": {
      "text/plain": [
       "True"
      ]
     },
     "execution_count": 41,
     "metadata": {},
     "output_type": "execute_result"
    }
   ],
   "source": [
    "bool(x)"
   ]
  },
  {
   "cell_type": "code",
   "execution_count": 42,
   "id": "288d03ae-1949-49b0-bf15-ca463b537541",
   "metadata": {},
   "outputs": [
    {
     "data": {
      "text/plain": [
       "False"
      ]
     },
     "execution_count": 42,
     "metadata": {},
     "output_type": "execute_result"
    }
   ],
   "source": [
    "bool(y)"
   ]
  },
  {
   "cell_type": "code",
   "execution_count": 43,
   "id": "364a8ab8-5309-44de-bb43-7872c36028e3",
   "metadata": {},
   "outputs": [
    {
     "data": {
      "text/plain": [
       "True"
      ]
     },
     "execution_count": 43,
     "metadata": {},
     "output_type": "execute_result"
    }
   ],
   "source": [
    "bool([1,2])"
   ]
  },
  {
   "cell_type": "code",
   "execution_count": 45,
   "id": "4f557d73-a6e6-4a54-95d3-b8c944e52746",
   "metadata": {},
   "outputs": [
    {
     "data": {
      "text/plain": [
       "False"
      ]
     },
     "execution_count": 45,
     "metadata": {},
     "output_type": "execute_result"
    }
   ],
   "source": [
    "name =\"\"\n",
    "bool(name)"
   ]
  },
  {
   "cell_type": "code",
   "execution_count": 46,
   "id": "bc39ddb1-7edd-4656-be45-29e4fae3b113",
   "metadata": {},
   "outputs": [],
   "source": [
    "lst = [1,2,3] # True\n",
    "empty_lst= [] # False\n",
    "\n",
    "dct = {\"a\":1, \"b\": 6} # true\n",
    "empty_dct = {} # False\n",
    "\n",
    "obj = object() \n",
    "non_obj = None\n"
   ]
  },
  {
   "cell_type": "code",
   "execution_count": 49,
   "id": "1e262998-c8b6-4083-bdce-076ed5e892c3",
   "metadata": {},
   "outputs": [
    {
     "name": "stdout",
     "output_type": "stream",
     "text": [
      "True\n"
     ]
    },
    {
     "data": {
      "text/plain": [
       "False"
      ]
     },
     "execution_count": 49,
     "metadata": {},
     "output_type": "execute_result"
    }
   ],
   "source": [
    "print(bool(obj))\n",
    "bool(non_obj)"
   ]
  },
  {
   "cell_type": "code",
   "execution_count": null,
   "id": "1e42e159-eadb-4977-a095-7f1d49ca615f",
   "metadata": {},
   "outputs": [],
   "source": []
  },
  {
   "cell_type": "markdown",
   "id": "19f29eea-c8fb-4194-bfb9-3ad7ae4875dc",
   "metadata": {},
   "source": [
    "# Python Binary Type\n",
    "\n",
    "In Python, binary data is represented using the `bytes` and `bytearray` types.\n",
    "\n",
    "A `bytes` object is an immutable sequence of `bytes`, while a `bytearray` object is a mutable sequence of bytes.\n",
    "\n",
    "You can create `bytes` and `bytearray` objects using the built-in `bytes()` and `bytearray()` functions, passing them either a string of binary data or a list of integers representing the binary data.\n",
    "\n",
    "# Example"
   ]
  },
  {
   "cell_type": "code",
   "execution_count": 54,
   "id": "5ea37bf5-00e1-4d6c-a006-af5e88d21c07",
   "metadata": {},
   "outputs": [],
   "source": [
    "b = b'\\x00\\x01\\x02\\x03\\x04\\x05'\n",
    "\n",
    "b1 = bytes([0,1,2,3,4,5])\n"
   ]
  },
  {
   "cell_type": "code",
   "execution_count": 55,
   "id": "2d82dfc6-a5d8-49f0-ab2a-9a340dc0769d",
   "metadata": {},
   "outputs": [
    {
     "data": {
      "text/plain": [
       "bytes"
      ]
     },
     "execution_count": 55,
     "metadata": {},
     "output_type": "execute_result"
    }
   ],
   "source": [
    "type(b)"
   ]
  },
  {
   "cell_type": "code",
   "execution_count": 56,
   "id": "4c28e984-1ba8-4d8d-a143-441193463aec",
   "metadata": {},
   "outputs": [
    {
     "data": {
      "text/plain": [
       "bytes"
      ]
     },
     "execution_count": 56,
     "metadata": {},
     "output_type": "execute_result"
    }
   ],
   "source": [
    "type(b1)"
   ]
  },
  {
   "cell_type": "markdown",
   "id": "52030b71-3da2-42ae-8a80-8f3f71a33633",
   "metadata": {},
   "source": [
    "It's important to use the correct character encoding when converting between bytes and strings. If the wrong encoding is used, the resulting string may not be the same as the original string.\n",
    "\n",
    "Here's an example of using the wrong encoding:"
   ]
  },
  {
   "cell_type": "code",
   "execution_count": 57,
   "id": "91f54b4f-1ed3-4c07-931d-d6aa5193e86a",
   "metadata": {},
   "outputs": [
    {
     "ename": "UnicodeEncodeError",
     "evalue": "'ascii' codec can't encode character '\\xe9' in position 1: ordinal not in range(128)",
     "output_type": "error",
     "traceback": [
      "\u001b[1;31m---------------------------------------------------------------------------\u001b[0m",
      "\u001b[1;31mUnicodeEncodeError\u001b[0m                        Traceback (most recent call last)",
      "Cell \u001b[1;32mIn[57], line 2\u001b[0m\n\u001b[0;32m      1\u001b[0m s \u001b[38;5;241m=\u001b[39m\u001b[38;5;124m\"\u001b[39m\u001b[38;5;124mrésumé\u001b[39m\u001b[38;5;124m\"\u001b[39m\n\u001b[1;32m----> 2\u001b[0m b \u001b[38;5;241m=\u001b[39m s\u001b[38;5;241m.\u001b[39mencode(\u001b[38;5;124m'\u001b[39m\u001b[38;5;124mascii\u001b[39m\u001b[38;5;124m'\u001b[39m)\n\u001b[0;32m      3\u001b[0m \u001b[38;5;28mprint\u001b[39m(b)\n",
      "\u001b[1;31mUnicodeEncodeError\u001b[0m: 'ascii' codec can't encode character '\\xe9' in position 1: ordinal not in range(128)"
     ]
    }
   ],
   "source": [
    "s =\"résumé\"\n",
    "b = s.encode('ascii')\n",
    "print(b)\n"
   ]
  },
  {
   "cell_type": "code",
   "execution_count": 58,
   "id": "f2d30804-06f0-4b21-b1bc-42d5ad0580b8",
   "metadata": {},
   "outputs": [
    {
     "name": "stdout",
     "output_type": "stream",
     "text": [
      "b'r\\xc3\\xa9sum\\xc3\\xa9'\n"
     ]
    }
   ],
   "source": [
    "s =\"résumé\"\n",
    "b = s.encode('utf-8')\n",
    "print(b)"
   ]
  },
  {
   "cell_type": "code",
   "execution_count": null,
   "id": "bf64d782-1638-4427-b8e7-ded6af8b9c6e",
   "metadata": {},
   "outputs": [],
   "source": []
  }
 ],
 "metadata": {
  "kernelspec": {
   "display_name": "Python 3 (ipykernel)",
   "language": "python",
   "name": "python3"
  },
  "language_info": {
   "codemirror_mode": {
    "name": "ipython",
    "version": 3
   },
   "file_extension": ".py",
   "mimetype": "text/x-python",
   "name": "python",
   "nbconvert_exporter": "python",
   "pygments_lexer": "ipython3",
   "version": "3.12.7"
  }
 },
 "nbformat": 4,
 "nbformat_minor": 5
}
