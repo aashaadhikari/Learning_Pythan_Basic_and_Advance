{
 "cells": [
  {
   "cell_type": "markdown",
   "id": "a64f39a2-d0e5-4e5d-8e84-f84f9349db86",
   "metadata": {},
   "source": [
    "# Python\n"
   ]
  },
  {
   "cell_type": "markdown",
   "id": "80a1c502-f17c-411e-9da1-a2e99fcc2110",
   "metadata": {},
   "source": [
    "# Python Terms\n",
    "* Object\n",
    "* Variable\n",
    "* Function\n",
    "* Class\n",
    "* Method\n",
    "* Attribute\n",
    "\n",
    "## Objects: The Data Records\n",
    "In data analytics, an object is like a record in your spreadsheet. Each record can have multiple fields, such as job title, location, and salary.\n",
    "\n",
    "<b>Object:</b> A data record with fields; an instance of a class."
   ]
  },
  {
   "cell_type": "code",
   "execution_count": 1,
   "id": "6a7f5300-8d43-4d24-84f1-3bcdfa25d406",
   "metadata": {},
   "outputs": [
    {
     "data": {
      "text/plain": [
       "1000"
      ]
     },
     "execution_count": 1,
     "metadata": {},
     "output_type": "execute_result"
    }
   ],
   "source": [
    "1000 # this is a object"
   ]
  },
  {
   "cell_type": "code",
   "execution_count": 2,
   "id": "4c8781a0-e793-47c2-b2c2-5ae913fe3cb8",
   "metadata": {},
   "outputs": [
    {
     "data": {
      "text/plain": [
       "'Data Analydt'"
      ]
     },
     "execution_count": 2,
     "metadata": {},
     "output_type": "execute_result"
    }
   ],
   "source": [
    "\"Data Analydt\" # this is also object"
   ]
  },
  {
   "cell_type": "code",
   "execution_count": 3,
   "id": "cdd0e301-19c6-485f-9a2d-3d233dcfae6d",
   "metadata": {},
   "outputs": [
    {
     "data": {
      "text/plain": [
       "str"
      ]
     },
     "execution_count": 3,
     "metadata": {},
     "output_type": "execute_result"
    }
   ],
   "source": [
    "type(\"Data Analyst\")"
   ]
  },
  {
   "cell_type": "code",
   "execution_count": 4,
   "id": "44f3276a-f827-43c9-bb48-650851e8471f",
   "metadata": {},
   "outputs": [
    {
     "data": {
      "text/plain": [
       "str"
      ]
     },
     "execution_count": 4,
     "metadata": {},
     "output_type": "execute_result"
    }
   ],
   "source": [
    "str # technically, this is an object too! as it's an instance of the class 'type'"
   ]
  },
  {
   "cell_type": "code",
   "execution_count": 5,
   "id": "35010b90-451a-4ac8-8804-767b85f2da3d",
   "metadata": {},
   "outputs": [
    {
     "data": {
      "text/plain": [
       "type"
      ]
     },
     "execution_count": 5,
     "metadata": {},
     "output_type": "execute_result"
    }
   ],
   "source": [
    "type(str)"
   ]
  },
  {
   "cell_type": "markdown",
   "id": "e60b71c9-ad55-4faa-9643-6aca355a883a",
   "metadata": {},
   "source": [
    "Functions are also objects in Python."
   ]
  },
  {
   "cell_type": "code",
   "execution_count": 6,
   "id": "850a3c06-dfed-4221-8f73-ae242772c5ee",
   "metadata": {},
   "outputs": [
    {
     "name": "stdout",
     "output_type": "stream",
     "text": [
      "\n"
     ]
    }
   ],
   "source": [
    "print()"
   ]
  },
  {
   "cell_type": "code",
   "execution_count": 7,
   "id": "3ac96b83-e839-42a2-867e-3c55e5bfb1cf",
   "metadata": {},
   "outputs": [
    {
     "data": {
      "text/plain": [
       "builtin_function_or_method"
      ]
     },
     "execution_count": 7,
     "metadata": {},
     "output_type": "execute_result"
    }
   ],
   "source": [
    "type(print)"
   ]
  },
  {
   "cell_type": "markdown",
   "id": "953906a3-4f35-4e3d-bf2b-2346ce7e25a4",
   "metadata": {},
   "source": [
    "# Variables: The Reference to Objects\n",
    "Think of a variable as a cell in an Excel spreadsheet. You can store data in it, like a number, text, or a formula.\n",
    "\n",
    "`Variable`: A defined name that reference an object."
   ]
  },
  {
   "cell_type": "code",
   "execution_count": 8,
   "id": "bcbc3bbf-82bd-4bc6-ba58-11905ad2e85a",
   "metadata": {},
   "outputs": [],
   "source": [
    "job_title = \"Data Analyst\"\n",
    "job_salary = 90000\n",
    "my_print_function = print"
   ]
  },
  {
   "cell_type": "code",
   "execution_count": 9,
   "id": "935bba98-aedb-4770-a7ff-1f07b06653eb",
   "metadata": {},
   "outputs": [
    {
     "name": "stdout",
     "output_type": "stream",
     "text": [
      "Data Analyst 90000\n"
     ]
    }
   ],
   "source": [
    "my_print_function(job_title, job_salary)"
   ]
  },
  {
   "cell_type": "code",
   "execution_count": 10,
   "id": "b0f687d1-edd2-482c-862b-b34ce9111040",
   "metadata": {},
   "outputs": [
    {
     "data": {
      "text/plain": [
       "(2266167991856, 2266167968048, 2265833148384)"
      ]
     },
     "execution_count": 10,
     "metadata": {},
     "output_type": "execute_result"
    }
   ],
   "source": [
    "id(job_title), id(job_salary), id(my_print_function)"
   ]
  },
  {
   "cell_type": "markdown",
   "id": "9ea7d472-ab66-4b82-b375-cb3901270b37",
   "metadata": {},
   "source": [
    "Variables that reference the same object are... the same."
   ]
  },
  {
   "cell_type": "code",
   "execution_count": 11,
   "id": "133605a4-2b9e-488a-a7d5-4e2f5a96dd1a",
   "metadata": {},
   "outputs": [
    {
     "data": {
      "text/plain": [
       "'Data Analyst'"
      ]
     },
     "execution_count": 11,
     "metadata": {},
     "output_type": "execute_result"
    }
   ],
   "source": [
    "my_job = job_title\n",
    "my_job"
   ]
  },
  {
   "cell_type": "code",
   "execution_count": 13,
   "id": "e44d5aef-0196-466a-8517-e0fc958b70a5",
   "metadata": {},
   "outputs": [
    {
     "data": {
      "text/plain": [
       "(2266167991856, 2266167991856)"
      ]
     },
     "execution_count": 13,
     "metadata": {},
     "output_type": "execute_result"
    }
   ],
   "source": [
    "# the id of the same object is the same\n",
    "id(job_title), id(my_job)"
   ]
  },
  {
   "cell_type": "markdown",
   "id": "dace516b-734f-4ba5-b0f7-ca66e2d0f0bf",
   "metadata": {},
   "source": [
    "However, variables that may look the same, but reference different objects are... different."
   ]
  },
  {
   "cell_type": "markdown",
   "id": "7262a2bd-7bad-4595-85e5-a7217e4b18a6",
   "metadata": {},
   "source": [
    "Funcation: The manipulators of objects\n",
    "Funcation are like custom funcation in Excel. They perform tasks that can be applied to different sets of data.\n",
    "\n",
    "`Funcation`: A reusable piece of code that performs a specific task.\n",
    "\n",
    "the `prient()` we saw alresdy is a funcation."
   ]
  },
  {
   "cell_type": "code",
   "execution_count": 14,
   "id": "7ca1165a-008d-42aa-ba86-8de9791478de",
   "metadata": {},
   "outputs": [
    {
     "name": "stdout",
     "output_type": "stream",
     "text": [
      "what's up, data Nerds!\n"
     ]
    }
   ],
   "source": [
    "print(\"what's up, data Nerds!\")"
   ]
  },
  {
   "cell_type": "markdown",
   "id": "9b84e82a-c7f7-4bd6-9577-618194305f21",
   "metadata": {},
   "source": [
    "I could make this funcation:"
   ]
  },
  {
   "cell_type": "code",
   "execution_count": 15,
   "id": "aee20826-7b67-4ab2-9ece-eec19ec5325f",
   "metadata": {},
   "outputs": [],
   "source": [
    "def greet():\n",
    "    return \"what's up, data Nerds!\""
   ]
  },
  {
   "cell_type": "code",
   "execution_count": 16,
   "id": "19f87107-245c-4c6d-9658-2ba102fb960a",
   "metadata": {},
   "outputs": [
    {
     "data": {
      "text/plain": [
       "\"what's up, data Nerds!\""
      ]
     },
     "execution_count": 16,
     "metadata": {},
     "output_type": "execute_result"
    }
   ],
   "source": [
    "greet()"
   ]
  },
  {
   "cell_type": "markdown",
   "id": "7fcff3d5-4bb7-4310-bbce-534f4ad4eb3a",
   "metadata": {},
   "source": [
    "Here's a custom built function that prints our job info nicely:"
   ]
  },
  {
   "cell_type": "code",
   "execution_count": 19,
   "id": "0a28db98-7f95-4cbe-967e-0aa8c3ebf26c",
   "metadata": {},
   "outputs": [],
   "source": [
    "def display_info(title, location, salary):\n",
    "    return print(f\" Job: {title}\\n Location: {location}\\n Salary {salary}:,.0f\")"
   ]
  },
  {
   "cell_type": "code",
   "execution_count": 20,
   "id": "04abe426-c3d4-4d6e-80ac-620fbe2edc50",
   "metadata": {},
   "outputs": [
    {
     "name": "stdout",
     "output_type": "stream",
     "text": [
      " Job: Data Analyst\n",
      " Location: United States\n",
      " Salary 90000:,.0f\n"
     ]
    }
   ],
   "source": [
    "job_title = \"Data Analyst\"\n",
    "job_location = \"United States\"\n",
    "job_salary = 90000\n",
    "display_info(job_title, job_location, job_salary)"
   ]
  },
  {
   "cell_type": "markdown",
   "id": "9cb082d2-feea-47c0-bd93-ff64306938b0",
   "metadata": {},
   "source": [
    "## Classes: The Template of Objects\n",
    "A class is like a template for your records in Excel. It defines the fields that each record will have.\n",
    "\n",
    "`Class:` A template for creating objects (records)."
   ]
  },
  {
   "cell_type": "code",
   "execution_count": 21,
   "id": "333a70dd-6b5d-4d2e-bcba-b2d0037d6bdb",
   "metadata": {},
   "outputs": [],
   "source": [
    "class jobPost:\n",
    "    def __init__(self,title,location, salary):\n",
    "         self.title = title\n",
    "         self.location = location\n",
    "         self.salary = salary\n",
    "\n",
    "    def display_info(self):\n",
    "          return print(f\"JOB:       {self.title}\\nLOCATION:  {self.location}\\nSALARY:    ${self.salary:,.0f}\")"
   ]
  },
  {
   "cell_type": "code",
   "execution_count": 22,
   "id": "9b32e834-c7b7-4d53-b776-67deb2207d86",
   "metadata": {},
   "outputs": [
    {
     "data": {
      "text/plain": [
       "__main__.jobPost"
      ]
     },
     "execution_count": 22,
     "metadata": {},
     "output_type": "execute_result"
    }
   ],
   "source": [
    "jobPost"
   ]
  },
  {
   "cell_type": "markdown",
   "id": "3ea798e2-b3c9-47f4-a58e-4c9ab9e824af",
   "metadata": {},
   "source": [
    "In the next lessons we'll be covering data types which are built with classes."
   ]
  },
  {
   "cell_type": "code",
   "execution_count": 23,
   "id": "382e25ed-42d0-4cf5-b4e3-5f59522b57dd",
   "metadata": {},
   "outputs": [
    {
     "data": {
      "text/plain": [
       "str"
      ]
     },
     "execution_count": 23,
     "metadata": {},
     "output_type": "execute_result"
    }
   ],
   "source": [
    "type(\"What's up, Data Nerds!\")"
   ]
  },
  {
   "cell_type": "markdown",
   "id": "2dcc58e9-7b89-4543-8427-17bfab1e5687",
   "metadata": {},
   "source": [
    "\n",
    "Help function shows class string's documentation."
   ]
  },
  {
   "cell_type": "code",
   "execution_count": 24,
   "id": "e3ee7f85-5def-4ee1-9d9c-faa8288dff3f",
   "metadata": {},
   "outputs": [
    {
     "name": "stdout",
     "output_type": "stream",
     "text": [
      "Help on class str in module builtins:\n",
      "\n",
      "class str(object)\n",
      " |  str(object='') -> str\n",
      " |  str(bytes_or_buffer[, encoding[, errors]]) -> str\n",
      " |\n",
      " |  Create a new string object from the given object. If encoding or\n",
      " |  errors is specified, then the object must expose a data buffer\n",
      " |  that will be decoded using the given encoding and error handler.\n",
      " |  Otherwise, returns the result of object.__str__() (if defined)\n",
      " |  or repr(object).\n",
      " |  encoding defaults to sys.getdefaultencoding().\n",
      " |  errors defaults to 'strict'.\n",
      " |\n",
      " |  Methods defined here:\n",
      " |\n",
      " |  __add__(self, value, /)\n",
      " |      Return self+value.\n",
      " |\n",
      " |  __contains__(self, key, /)\n",
      " |      Return bool(key in self).\n",
      " |\n",
      " |  __eq__(self, value, /)\n",
      " |      Return self==value.\n",
      " |\n",
      " |  __format__(self, format_spec, /)\n",
      " |      Return a formatted version of the string as described by format_spec.\n",
      " |\n",
      " |  __ge__(self, value, /)\n",
      " |      Return self>=value.\n",
      " |\n",
      " |  __getitem__(self, key, /)\n",
      " |      Return self[key].\n",
      " |\n",
      " |  __getnewargs__(...)\n",
      " |\n",
      " |  __gt__(self, value, /)\n",
      " |      Return self>value.\n",
      " |\n",
      " |  __hash__(self, /)\n",
      " |      Return hash(self).\n",
      " |\n",
      " |  __iter__(self, /)\n",
      " |      Implement iter(self).\n",
      " |\n",
      " |  __le__(self, value, /)\n",
      " |      Return self<=value.\n",
      " |\n",
      " |  __len__(self, /)\n",
      " |      Return len(self).\n",
      " |\n",
      " |  __lt__(self, value, /)\n",
      " |      Return self<value.\n",
      " |\n",
      " |  __mod__(self, value, /)\n",
      " |      Return self%value.\n",
      " |\n",
      " |  __mul__(self, value, /)\n",
      " |      Return self*value.\n",
      " |\n",
      " |  __ne__(self, value, /)\n",
      " |      Return self!=value.\n",
      " |\n",
      " |  __repr__(self, /)\n",
      " |      Return repr(self).\n",
      " |\n",
      " |  __rmod__(self, value, /)\n",
      " |      Return value%self.\n",
      " |\n",
      " |  __rmul__(self, value, /)\n",
      " |      Return value*self.\n",
      " |\n",
      " |  __sizeof__(self, /)\n",
      " |      Return the size of the string in memory, in bytes.\n",
      " |\n",
      " |  __str__(self, /)\n",
      " |      Return str(self).\n",
      " |\n",
      " |  capitalize(self, /)\n",
      " |      Return a capitalized version of the string.\n",
      " |\n",
      " |      More specifically, make the first character have upper case and the rest lower\n",
      " |      case.\n",
      " |\n",
      " |  casefold(self, /)\n",
      " |      Return a version of the string suitable for caseless comparisons.\n",
      " |\n",
      " |  center(self, width, fillchar=' ', /)\n",
      " |      Return a centered string of length width.\n",
      " |\n",
      " |      Padding is done using the specified fill character (default is a space).\n",
      " |\n",
      " |  count(...)\n",
      " |      S.count(sub[, start[, end]]) -> int\n",
      " |\n",
      " |      Return the number of non-overlapping occurrences of substring sub in\n",
      " |      string S[start:end].  Optional arguments start and end are\n",
      " |      interpreted as in slice notation.\n",
      " |\n",
      " |  encode(self, /, encoding='utf-8', errors='strict')\n",
      " |      Encode the string using the codec registered for encoding.\n",
      " |\n",
      " |      encoding\n",
      " |        The encoding in which to encode the string.\n",
      " |      errors\n",
      " |        The error handling scheme to use for encoding errors.\n",
      " |        The default is 'strict' meaning that encoding errors raise a\n",
      " |        UnicodeEncodeError.  Other possible values are 'ignore', 'replace' and\n",
      " |        'xmlcharrefreplace' as well as any other name registered with\n",
      " |        codecs.register_error that can handle UnicodeEncodeErrors.\n",
      " |\n",
      " |  endswith(...)\n",
      " |      S.endswith(suffix[, start[, end]]) -> bool\n",
      " |\n",
      " |      Return True if S ends with the specified suffix, False otherwise.\n",
      " |      With optional start, test S beginning at that position.\n",
      " |      With optional end, stop comparing S at that position.\n",
      " |      suffix can also be a tuple of strings to try.\n",
      " |\n",
      " |  expandtabs(self, /, tabsize=8)\n",
      " |      Return a copy where all tab characters are expanded using spaces.\n",
      " |\n",
      " |      If tabsize is not given, a tab size of 8 characters is assumed.\n",
      " |\n",
      " |  find(...)\n",
      " |      S.find(sub[, start[, end]]) -> int\n",
      " |\n",
      " |      Return the lowest index in S where substring sub is found,\n",
      " |      such that sub is contained within S[start:end].  Optional\n",
      " |      arguments start and end are interpreted as in slice notation.\n",
      " |\n",
      " |      Return -1 on failure.\n",
      " |\n",
      " |  format(...)\n",
      " |      S.format(*args, **kwargs) -> str\n",
      " |\n",
      " |      Return a formatted version of S, using substitutions from args and kwargs.\n",
      " |      The substitutions are identified by braces ('{' and '}').\n",
      " |\n",
      " |  format_map(...)\n",
      " |      S.format_map(mapping) -> str\n",
      " |\n",
      " |      Return a formatted version of S, using substitutions from mapping.\n",
      " |      The substitutions are identified by braces ('{' and '}').\n",
      " |\n",
      " |  index(...)\n",
      " |      S.index(sub[, start[, end]]) -> int\n",
      " |\n",
      " |      Return the lowest index in S where substring sub is found,\n",
      " |      such that sub is contained within S[start:end].  Optional\n",
      " |      arguments start and end are interpreted as in slice notation.\n",
      " |\n",
      " |      Raises ValueError when the substring is not found.\n",
      " |\n",
      " |  isalnum(self, /)\n",
      " |      Return True if the string is an alpha-numeric string, False otherwise.\n",
      " |\n",
      " |      A string is alpha-numeric if all characters in the string are alpha-numeric and\n",
      " |      there is at least one character in the string.\n",
      " |\n",
      " |  isalpha(self, /)\n",
      " |      Return True if the string is an alphabetic string, False otherwise.\n",
      " |\n",
      " |      A string is alphabetic if all characters in the string are alphabetic and there\n",
      " |      is at least one character in the string.\n",
      " |\n",
      " |  isascii(self, /)\n",
      " |      Return True if all characters in the string are ASCII, False otherwise.\n",
      " |\n",
      " |      ASCII characters have code points in the range U+0000-U+007F.\n",
      " |      Empty string is ASCII too.\n",
      " |\n",
      " |  isdecimal(self, /)\n",
      " |      Return True if the string is a decimal string, False otherwise.\n",
      " |\n",
      " |      A string is a decimal string if all characters in the string are decimal and\n",
      " |      there is at least one character in the string.\n",
      " |\n",
      " |  isdigit(self, /)\n",
      " |      Return True if the string is a digit string, False otherwise.\n",
      " |\n",
      " |      A string is a digit string if all characters in the string are digits and there\n",
      " |      is at least one character in the string.\n",
      " |\n",
      " |  isidentifier(self, /)\n",
      " |      Return True if the string is a valid Python identifier, False otherwise.\n",
      " |\n",
      " |      Call keyword.iskeyword(s) to test whether string s is a reserved identifier,\n",
      " |      such as \"def\" or \"class\".\n",
      " |\n",
      " |  islower(self, /)\n",
      " |      Return True if the string is a lowercase string, False otherwise.\n",
      " |\n",
      " |      A string is lowercase if all cased characters in the string are lowercase and\n",
      " |      there is at least one cased character in the string.\n",
      " |\n",
      " |  isnumeric(self, /)\n",
      " |      Return True if the string is a numeric string, False otherwise.\n",
      " |\n",
      " |      A string is numeric if all characters in the string are numeric and there is at\n",
      " |      least one character in the string.\n",
      " |\n",
      " |  isprintable(self, /)\n",
      " |      Return True if the string is printable, False otherwise.\n",
      " |\n",
      " |      A string is printable if all of its characters are considered printable in\n",
      " |      repr() or if it is empty.\n",
      " |\n",
      " |  isspace(self, /)\n",
      " |      Return True if the string is a whitespace string, False otherwise.\n",
      " |\n",
      " |      A string is whitespace if all characters in the string are whitespace and there\n",
      " |      is at least one character in the string.\n",
      " |\n",
      " |  istitle(self, /)\n",
      " |      Return True if the string is a title-cased string, False otherwise.\n",
      " |\n",
      " |      In a title-cased string, upper- and title-case characters may only\n",
      " |      follow uncased characters and lowercase characters only cased ones.\n",
      " |\n",
      " |  isupper(self, /)\n",
      " |      Return True if the string is an uppercase string, False otherwise.\n",
      " |\n",
      " |      A string is uppercase if all cased characters in the string are uppercase and\n",
      " |      there is at least one cased character in the string.\n",
      " |\n",
      " |  join(self, iterable, /)\n",
      " |      Concatenate any number of strings.\n",
      " |\n",
      " |      The string whose method is called is inserted in between each given string.\n",
      " |      The result is returned as a new string.\n",
      " |\n",
      " |      Example: '.'.join(['ab', 'pq', 'rs']) -> 'ab.pq.rs'\n",
      " |\n",
      " |  ljust(self, width, fillchar=' ', /)\n",
      " |      Return a left-justified string of length width.\n",
      " |\n",
      " |      Padding is done using the specified fill character (default is a space).\n",
      " |\n",
      " |  lower(self, /)\n",
      " |      Return a copy of the string converted to lowercase.\n",
      " |\n",
      " |  lstrip(self, chars=None, /)\n",
      " |      Return a copy of the string with leading whitespace removed.\n",
      " |\n",
      " |      If chars is given and not None, remove characters in chars instead.\n",
      " |\n",
      " |  partition(self, sep, /)\n",
      " |      Partition the string into three parts using the given separator.\n",
      " |\n",
      " |      This will search for the separator in the string.  If the separator is found,\n",
      " |      returns a 3-tuple containing the part before the separator, the separator\n",
      " |      itself, and the part after it.\n",
      " |\n",
      " |      If the separator is not found, returns a 3-tuple containing the original string\n",
      " |      and two empty strings.\n",
      " |\n",
      " |  removeprefix(self, prefix, /)\n",
      " |      Return a str with the given prefix string removed if present.\n",
      " |\n",
      " |      If the string starts with the prefix string, return string[len(prefix):].\n",
      " |      Otherwise, return a copy of the original string.\n",
      " |\n",
      " |  removesuffix(self, suffix, /)\n",
      " |      Return a str with the given suffix string removed if present.\n",
      " |\n",
      " |      If the string ends with the suffix string and that suffix is not empty,\n",
      " |      return string[:-len(suffix)]. Otherwise, return a copy of the original\n",
      " |      string.\n",
      " |\n",
      " |  replace(self, old, new, count=-1, /)\n",
      " |      Return a copy with all occurrences of substring old replaced by new.\n",
      " |\n",
      " |        count\n",
      " |          Maximum number of occurrences to replace.\n",
      " |          -1 (the default value) means replace all occurrences.\n",
      " |\n",
      " |      If the optional argument count is given, only the first count occurrences are\n",
      " |      replaced.\n",
      " |\n",
      " |  rfind(...)\n",
      " |      S.rfind(sub[, start[, end]]) -> int\n",
      " |\n",
      " |      Return the highest index in S where substring sub is found,\n",
      " |      such that sub is contained within S[start:end].  Optional\n",
      " |      arguments start and end are interpreted as in slice notation.\n",
      " |\n",
      " |      Return -1 on failure.\n",
      " |\n",
      " |  rindex(...)\n",
      " |      S.rindex(sub[, start[, end]]) -> int\n",
      " |\n",
      " |      Return the highest index in S where substring sub is found,\n",
      " |      such that sub is contained within S[start:end].  Optional\n",
      " |      arguments start and end are interpreted as in slice notation.\n",
      " |\n",
      " |      Raises ValueError when the substring is not found.\n",
      " |\n",
      " |  rjust(self, width, fillchar=' ', /)\n",
      " |      Return a right-justified string of length width.\n",
      " |\n",
      " |      Padding is done using the specified fill character (default is a space).\n",
      " |\n",
      " |  rpartition(self, sep, /)\n",
      " |      Partition the string into three parts using the given separator.\n",
      " |\n",
      " |      This will search for the separator in the string, starting at the end. If\n",
      " |      the separator is found, returns a 3-tuple containing the part before the\n",
      " |      separator, the separator itself, and the part after it.\n",
      " |\n",
      " |      If the separator is not found, returns a 3-tuple containing two empty strings\n",
      " |      and the original string.\n",
      " |\n",
      " |  rsplit(self, /, sep=None, maxsplit=-1)\n",
      " |      Return a list of the substrings in the string, using sep as the separator string.\n",
      " |\n",
      " |        sep\n",
      " |          The separator used to split the string.\n",
      " |\n",
      " |          When set to None (the default value), will split on any whitespace\n",
      " |          character (including \\n \\r \\t \\f and spaces) and will discard\n",
      " |          empty strings from the result.\n",
      " |        maxsplit\n",
      " |          Maximum number of splits.\n",
      " |          -1 (the default value) means no limit.\n",
      " |\n",
      " |      Splitting starts at the end of the string and works to the front.\n",
      " |\n",
      " |  rstrip(self, chars=None, /)\n",
      " |      Return a copy of the string with trailing whitespace removed.\n",
      " |\n",
      " |      If chars is given and not None, remove characters in chars instead.\n",
      " |\n",
      " |  split(self, /, sep=None, maxsplit=-1)\n",
      " |      Return a list of the substrings in the string, using sep as the separator string.\n",
      " |\n",
      " |        sep\n",
      " |          The separator used to split the string.\n",
      " |\n",
      " |          When set to None (the default value), will split on any whitespace\n",
      " |          character (including \\n \\r \\t \\f and spaces) and will discard\n",
      " |          empty strings from the result.\n",
      " |        maxsplit\n",
      " |          Maximum number of splits.\n",
      " |          -1 (the default value) means no limit.\n",
      " |\n",
      " |      Splitting starts at the front of the string and works to the end.\n",
      " |\n",
      " |      Note, str.split() is mainly useful for data that has been intentionally\n",
      " |      delimited.  With natural text that includes punctuation, consider using\n",
      " |      the regular expression module.\n",
      " |\n",
      " |  splitlines(self, /, keepends=False)\n",
      " |      Return a list of the lines in the string, breaking at line boundaries.\n",
      " |\n",
      " |      Line breaks are not included in the resulting list unless keepends is given and\n",
      " |      true.\n",
      " |\n",
      " |  startswith(...)\n",
      " |      S.startswith(prefix[, start[, end]]) -> bool\n",
      " |\n",
      " |      Return True if S starts with the specified prefix, False otherwise.\n",
      " |      With optional start, test S beginning at that position.\n",
      " |      With optional end, stop comparing S at that position.\n",
      " |      prefix can also be a tuple of strings to try.\n",
      " |\n",
      " |  strip(self, chars=None, /)\n",
      " |      Return a copy of the string with leading and trailing whitespace removed.\n",
      " |\n",
      " |      If chars is given and not None, remove characters in chars instead.\n",
      " |\n",
      " |  swapcase(self, /)\n",
      " |      Convert uppercase characters to lowercase and lowercase characters to uppercase.\n",
      " |\n",
      " |  title(self, /)\n",
      " |      Return a version of the string where each word is titlecased.\n",
      " |\n",
      " |      More specifically, words start with uppercased characters and all remaining\n",
      " |      cased characters have lower case.\n",
      " |\n",
      " |  translate(self, table, /)\n",
      " |      Replace each character in the string using the given translation table.\n",
      " |\n",
      " |        table\n",
      " |          Translation table, which must be a mapping of Unicode ordinals to\n",
      " |          Unicode ordinals, strings, or None.\n",
      " |\n",
      " |      The table must implement lookup/indexing via __getitem__, for instance a\n",
      " |      dictionary or list.  If this operation raises LookupError, the character is\n",
      " |      left untouched.  Characters mapped to None are deleted.\n",
      " |\n",
      " |  upper(self, /)\n",
      " |      Return a copy of the string converted to uppercase.\n",
      " |\n",
      " |  zfill(self, width, /)\n",
      " |      Pad a numeric string with zeros on the left, to fill a field of the given width.\n",
      " |\n",
      " |      The string is never truncated.\n",
      " |\n",
      " |  ----------------------------------------------------------------------\n",
      " |  Static methods defined here:\n",
      " |\n",
      " |  __new__(*args, **kwargs)\n",
      " |      Create and return a new object.  See help(type) for accurate signature.\n",
      " |\n",
      " |  maketrans(...)\n",
      " |      Return a translation table usable for str.translate().\n",
      " |\n",
      " |      If there is only one argument, it must be a dictionary mapping Unicode\n",
      " |      ordinals (integers) or characters to Unicode ordinals, strings or None.\n",
      " |      Character keys will be then converted to ordinals.\n",
      " |      If there are two arguments, they must be strings of equal length, and\n",
      " |      in the resulting dictionary, each character in x will be mapped to the\n",
      " |      character at the same position in y. If there is a third argument, it\n",
      " |      must be a string, whose characters will be mapped to None in the result.\n",
      "\n"
     ]
    }
   ],
   "source": [
    "help(str)"
   ]
  },
  {
   "cell_type": "markdown",
   "id": "e97a3634-3a40-4140-863e-300458a1e55b",
   "metadata": {},
   "source": [
    "# Attributes: The Variables of an Object\n",
    "Attributes are like the columns in your spreadsheet. Each attribute stores specific data for each record.\n",
    "\n",
    "`Attribute`: A field in a record, defined by its class."
   ]
  },
  {
   "cell_type": "code",
   "execution_count": 33,
   "id": "d9d10db9-368a-4b72-97f5-c6a987619a4b",
   "metadata": {},
   "outputs": [],
   "source": [
    "class JobPost:\n",
    "    def __init__(self, title, location, salary):\n",
    "         self.title = title  # Attribute\n",
    "         self.location = location \n",
    "         self.salary = salary  # Attribute\n",
    "    def display_info(self):\n",
    "         return print(f\"JOB:       {self.title}\\nLOCATION:  {self.location}\\nSALARY:    ${self.salary:,.0f}\")"
   ]
  },
  {
   "cell_type": "code",
   "execution_count": 34,
   "id": "b0ce7e18-e5af-41f4-987a-e1ebdbcc5289",
   "metadata": {},
   "outputs": [],
   "source": [
    "job = JobPost(\"Data Engineer\", \"New York, NY\", 425000)"
   ]
  },
  {
   "cell_type": "code",
   "execution_count": 35,
   "id": "98c972d5-3e92-488f-ad3e-a5bf98afdf01",
   "metadata": {},
   "outputs": [
    {
     "data": {
      "text/plain": [
       "'Data Engineer'"
      ]
     },
     "execution_count": 35,
     "metadata": {},
     "output_type": "execute_result"
    }
   ],
   "source": [
    "job.title"
   ]
  },
  {
   "cell_type": "code",
   "execution_count": 36,
   "id": "89c9e8ca-27bb-4a32-b87a-c938f6dd3d5f",
   "metadata": {},
   "outputs": [
    {
     "data": {
      "text/plain": [
       "425000"
      ]
     },
     "execution_count": 36,
     "metadata": {},
     "output_type": "execute_result"
    }
   ],
   "source": [
    "job.salary"
   ]
  },
  {
   "cell_type": "markdown",
   "id": "382e8681-d8b3-4881-8c86-161fa238c70c",
   "metadata": {},
   "source": [
    "# Methods: The Functions of an Object\n",
    "Methods are like the built-in functions in Excel that operate on your records. They define actions that the records can perform.\n",
    "\n",
    "`Method`: A function defined inside a class that operates on its objects."
   ]
  },
  {
   "cell_type": "code",
   "execution_count": 37,
   "id": "303e7fbd-ea98-4e13-9b21-f7bb5ae43655",
   "metadata": {},
   "outputs": [
    {
     "name": "stdout",
     "output_type": "stream",
     "text": [
      "JOB:       Data Engineer\n",
      "LOCATION:  New York, NY\n",
      "SALARY:    $425,000\n"
     ]
    }
   ],
   "source": [
    "job = JobPost(\"Data Engineer\", \"New York, NY\", 425000)\n",
    "\n",
    "job.display_info()"
   ]
  },
  {
   "cell_type": "code",
   "execution_count": null,
   "id": "f33e696c-9feb-4fae-8242-37143e7e7851",
   "metadata": {},
   "outputs": [],
   "source": []
  }
 ],
 "metadata": {
  "kernelspec": {
   "display_name": "Python 3 (ipykernel)",
   "language": "python",
   "name": "python3"
  },
  "language_info": {
   "codemirror_mode": {
    "name": "ipython",
    "version": 3
   },
   "file_extension": ".py",
   "mimetype": "text/x-python",
   "name": "python",
   "nbconvert_exporter": "python",
   "pygments_lexer": "ipython3",
   "version": "3.12.7"
  }
 },
 "nbformat": 4,
 "nbformat_minor": 5
}
