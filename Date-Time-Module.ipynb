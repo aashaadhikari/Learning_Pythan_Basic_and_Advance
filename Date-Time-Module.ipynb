{
 "cells": [
  {
   "cell_type": "code",
   "execution_count": 12,
   "id": "6dda36b3-58b8-4135-b9a8-81b35e0b875f",
   "metadata": {},
   "outputs": [],
   "source": [
    "import os"
   ]
  },
  {
   "cell_type": "code",
   "execution_count": 13,
   "id": "aaadc91d-07ed-48d6-b1eb-790ed3b392c7",
   "metadata": {},
   "outputs": [
    {
     "name": "stdout",
     "output_type": "stream",
     "text": [
      "C:\\Users\\SEEMA\\Documents\\PythonLearning\n"
     ]
    }
   ],
   "source": [
    "print(os.getcwd())"
   ]
  },
  {
   "cell_type": "code",
   "execution_count": 14,
   "id": "cf34a342-928f-4d88-be90-324f24c1ff84",
   "metadata": {},
   "outputs": [
    {
     "name": "stdout",
     "output_type": "stream",
     "text": [
      "dir created\n"
     ]
    }
   ],
   "source": [
    "if not os.path.exists(r\"test\"):\n",
    "    os.mkdir(\"test\")\n",
    "    print(\"dir created\")\n"
   ]
  },
  {
   "cell_type": "code",
   "execution_count": 15,
   "id": "da8c734f-0ba9-4b1d-8d90-ad617c019b80",
   "metadata": {},
   "outputs": [],
   "source": [
    "os.makedirs(r\"test\", exist_ok = True)"
   ]
  },
  {
   "cell_type": "code",
   "execution_count": 16,
   "id": "3f348a18-39a1-4d78-995d-dd9376205e05",
   "metadata": {},
   "outputs": [
    {
     "data": {
      "text/plain": [
       "['.ipynb_checkpoints',\n",
       " '1.Python_Terms.ipynb',\n",
       " '2.Variables.ipynb',\n",
       " '3.DataType.ipynb',\n",
       " '4.String.ipynb',\n",
       " '5.Loop.ipynb',\n",
       " '7.Comprehension.ipynb',\n",
       " 'Built_inData_StructureAndSequence.ipynb',\n",
       " 'condition.ipynb',\n",
       " 'Date-Time-Module.ipynb',\n",
       " 'Encapsulation.ipynb',\n",
       " 'Exercise.ipynb',\n",
       " 'Function.ipynb',\n",
       " 'Lambda.ipynb',\n",
       " 'Magic_methof.ipynb',\n",
       " 'Oops.ipynb',\n",
       " 'Python.ipynb',\n",
       " 'ResturentAppPython.ipynb',\n",
       " 'test',\n",
       " 'Untitled.ipynb']"
      ]
     },
     "execution_count": 16,
     "metadata": {},
     "output_type": "execute_result"
    }
   ],
   "source": [
    "os.listdir(\".\")"
   ]
  },
  {
   "cell_type": "code",
   "execution_count": 10,
   "id": "408d6ed1-39c3-4505-a627-f6d293823d4d",
   "metadata": {},
   "outputs": [],
   "source": [
    "os.rmdir(\"test\")"
   ]
  },
  {
   "cell_type": "code",
   "execution_count": null,
   "id": "087ec143-d2d0-47ee-a967-26d1533c8574",
   "metadata": {},
   "outputs": [],
   "source": []
  },
  {
   "cell_type": "markdown",
   "id": "e452d360-f699-414e-837e-ddbafb6f7c95",
   "metadata": {},
   "source": [
    "# Working with Environment Variable"
   ]
  },
  {
   "cell_type": "code",
   "execution_count": 17,
   "id": "25d728ed-7996-47c0-83a2-1496bab6eb97",
   "metadata": {},
   "outputs": [],
   "source": [
    "import os"
   ]
  },
  {
   "cell_type": "code",
   "execution_count": 19,
   "id": "4c415eb0-5a1d-4dc2-ae54-70e0b56c1adf",
   "metadata": {},
   "outputs": [],
   "source": [
    "os.getenv('HOME')"
   ]
  },
  {
   "cell_type": "code",
   "execution_count": 20,
   "id": "f0a84e7f-6ac2-4af0-947e-744bf0434a05",
   "metadata": {},
   "outputs": [
    {
     "data": {
      "text/plain": [
       "'C:\\\\Users\\\\SEEMA\\\\OneDrive'"
      ]
     },
     "execution_count": 20,
     "metadata": {},
     "output_type": "execute_result"
    }
   ],
   "source": [
    "os.getenv('OneDrive')"
   ]
  },
  {
   "cell_type": "code",
   "execution_count": 21,
   "id": "48ca493d-ab0c-4374-b1b5-690222bd5874",
   "metadata": {},
   "outputs": [
    {
     "ename": "TypeError",
     "evalue": "putenv expected 2 arguments, got 1",
     "output_type": "error",
     "traceback": [
      "\u001b[1;31m---------------------------------------------------------------------------\u001b[0m",
      "\u001b[1;31mTypeError\u001b[0m                                 Traceback (most recent call last)",
      "Cell \u001b[1;32mIn[21], line 1\u001b[0m\n\u001b[1;32m----> 1\u001b[0m os\u001b[38;5;241m.\u001b[39mputenv (\u001b[38;5;124m\"\u001b[39m\u001b[38;5;124mpassword\u001b[39m\u001b[38;5;124m\"\u001b[39m)\n",
      "\u001b[1;31mTypeError\u001b[0m: putenv expected 2 arguments, got 1"
     ]
    }
   ],
   "source": [
    "os.putenv (\"password\")"
   ]
  },
  {
   "cell_type": "code",
   "execution_count": null,
   "id": "7a88cc9a-0951-480d-8e90-88a98db9c7c9",
   "metadata": {},
   "outputs": [],
   "source": []
  },
  {
   "cell_type": "code",
   "execution_count": 23,
   "id": "e181b49b-4aca-479d-bb7f-9ad1e2c9940f",
   "metadata": {},
   "outputs": [
    {
     "data": {
      "text/plain": [
       "1.4422495703074083"
      ]
     },
     "execution_count": 23,
     "metadata": {},
     "output_type": "execute_result"
    }
   ],
   "source": [
    "import math\n",
    "math.cbrt(3)"
   ]
  },
  {
   "cell_type": "markdown",
   "id": "c31261cc-4c28-474e-89a7-f87f7a0a2462",
   "metadata": {},
   "source": []
  },
  {
   "cell_type": "code",
   "execution_count": null,
   "id": "9812769c-0fa2-4f2b-866b-9cc26f3436aa",
   "metadata": {},
   "outputs": [],
   "source": []
  },
  {
   "cell_type": "code",
   "execution_count": 8,
   "id": "baf81d64-ffed-4008-a030-fdce377d49af",
   "metadata": {},
   "outputs": [],
   "source": [
    "import random"
   ]
  },
  {
   "cell_type": "code",
   "execution_count": 11,
   "id": "72671211-e6e5-44e3-b6eb-359eca748c95",
   "metadata": {},
   "outputs": [],
   "source": [
    "\n",
    "\n",
    "cards = ['king', 'ace', 'jack', 'ten', 'nine']"
   ]
  },
  {
   "cell_type": "code",
   "execution_count": 12,
   "id": "6ff134c0-70da-4dc1-bb7c-823641e88435",
   "metadata": {},
   "outputs": [
    {
     "data": {
      "text/plain": [
       "'nine'"
      ]
     },
     "execution_count": 12,
     "metadata": {},
     "output_type": "execute_result"
    }
   ],
   "source": [
    "random.choice(cards)"
   ]
  },
  {
   "cell_type": "code",
   "execution_count": 13,
   "id": "71e76199-7a55-4efc-857c-1338b0025ccc",
   "metadata": {},
   "outputs": [
    {
     "data": {
      "text/plain": [
       "['nine', 'jack', 'ten']"
      ]
     },
     "execution_count": 13,
     "metadata": {},
     "output_type": "execute_result"
    }
   ],
   "source": [
    "random.sample(cards, 3)"
   ]
  },
  {
   "cell_type": "code",
   "execution_count": 15,
   "id": "0de2632a-ff5d-4716-97fb-e107e9b5852f",
   "metadata": {},
   "outputs": [
    {
     "data": {
      "text/plain": [
       "['ace', 'king', 'ten', 'jack', 'nine']"
      ]
     },
     "execution_count": 15,
     "metadata": {},
     "output_type": "execute_result"
    }
   ],
   "source": [
    "random.shuffle(cards)\n",
    "cards"
   ]
  },
  {
   "cell_type": "code",
   "execution_count": null,
   "id": "d11766fa-a62d-4374-bc1d-3347c4208634",
   "metadata": {},
   "outputs": [],
   "source": []
  },
  {
   "cell_type": "code",
   "execution_count": null,
   "id": "a0f53c0f-353b-4cc1-aee2-08b1b842d6b5",
   "metadata": {},
   "outputs": [],
   "source": []
  },
  {
   "cell_type": "code",
   "execution_count": 24,
   "id": "87b96647-fe53-4fe9-9411-0162ece84a04",
   "metadata": {},
   "outputs": [],
   "source": [
    "random.seed(98)"
   ]
  },
  {
   "cell_type": "code",
   "execution_count": 25,
   "id": "31a050d9-d92d-4493-9867-f4614efa295d",
   "metadata": {},
   "outputs": [
    {
     "data": {
      "text/plain": [
       "6"
      ]
     },
     "execution_count": 25,
     "metadata": {},
     "output_type": "execute_result"
    }
   ],
   "source": [
    "random.randint(1, 10)"
   ]
  },
  {
   "cell_type": "code",
   "execution_count": 26,
   "id": "dab23b92-6835-4377-8a7d-e058945ab635",
   "metadata": {},
   "outputs": [
    {
     "data": {
      "text/plain": [
       "10"
      ]
     },
     "execution_count": 26,
     "metadata": {},
     "output_type": "execute_result"
    }
   ],
   "source": [
    "random.randint(1, 10)"
   ]
  },
  {
   "cell_type": "code",
   "execution_count": 27,
   "id": "aaaecb5a-1ba6-4c4c-976c-5b0dd39ecf31",
   "metadata": {},
   "outputs": [
    {
     "data": {
      "text/plain": [
       "1"
      ]
     },
     "execution_count": 27,
     "metadata": {},
     "output_type": "execute_result"
    }
   ],
   "source": [
    "random.randint(1, 10)"
   ]
  },
  {
   "cell_type": "code",
   "execution_count": 28,
   "id": "6ecc07a5-dd98-491c-8501-8e265c8e5bda",
   "metadata": {},
   "outputs": [
    {
     "data": {
      "text/plain": [
       "6"
      ]
     },
     "execution_count": 28,
     "metadata": {},
     "output_type": "execute_result"
    }
   ],
   "source": [
    "random.randint(1, 10)"
   ]
  },
  {
   "cell_type": "code",
   "execution_count": null,
   "id": "9fa8e0d4-bd60-4ca1-9faf-a7015920d2f2",
   "metadata": {},
   "outputs": [],
   "source": []
  }
 ],
 "metadata": {
  "kernelspec": {
   "display_name": "Python 3 (ipykernel)",
   "language": "python",
   "name": "python3"
  },
  "language_info": {
   "codemirror_mode": {
    "name": "ipython",
    "version": 3
   },
   "file_extension": ".py",
   "mimetype": "text/x-python",
   "name": "python",
   "nbconvert_exporter": "python",
   "pygments_lexer": "ipython3",
   "version": "3.12.7"
  }
 },
 "nbformat": 4,
 "nbformat_minor": 5
}
