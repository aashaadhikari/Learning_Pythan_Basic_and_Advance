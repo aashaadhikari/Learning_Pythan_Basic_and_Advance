{
 "cells": [
  {
   "cell_type": "code",
   "execution_count": 2,
   "id": "ce14e2cd-ee1c-4a1a-8f4e-1aa671259345",
   "metadata": {},
   "outputs": [
    {
     "name": "stdout",
     "output_type": "stream",
     "text": [
      "0\n",
      "1\n",
      "3\n",
      "6\n",
      "10\n",
      "15\n"
     ]
    }
   ],
   "source": [
    "num =5\n",
    "i = 0\n",
    "total_sum = 0\n",
    "while i <= num:\n",
    "     total_sum += i\n",
    "     i +=1\n",
    "     print(total_sum)\n",
    "     \n",
    "     \n",
    "     "
   ]
  },
  {
   "cell_type": "code",
   "execution_count": null,
   "id": "6de1b73c-26b0-4666-8eaf-fc8e85a7c3c5",
   "metadata": {},
   "outputs": [],
   "source": []
  },
  {
   "cell_type": "code",
   "execution_count": 3,
   "id": "20ed08b3-8092-43c0-9730-9d46ae684509",
   "metadata": {},
   "outputs": [
    {
     "name": "stdout",
     "output_type": "stream",
     "text": [
      "55\n"
     ]
    }
   ],
   "source": [
    "# to find max value\n",
    "max_value = 0\n",
    "for each in[22,4,55,6,7,6,7,8]:\n",
    "    if each>max_value:\n",
    "        max_value = each\n",
    "\n",
    "print(max_value)\n",
    "\n"
   ]
  },
  {
   "cell_type": "code",
   "execution_count": 4,
   "id": "1705c47c-0a09-479e-8bd5-c41b9b23ae28",
   "metadata": {},
   "outputs": [
    {
     "data": {
      "text/plain": [
       "55"
      ]
     },
     "execution_count": 4,
     "metadata": {},
     "output_type": "execute_result"
    }
   ],
   "source": [
    "max([22,4,55,6,7,6,7,8])"
   ]
  },
  {
   "cell_type": "code",
   "execution_count": null,
   "id": "fcbca01c-4ff2-46ee-8f02-62aa052ebb3c",
   "metadata": {},
   "outputs": [],
   "source": []
  },
  {
   "cell_type": "code",
   "execution_count": null,
   "id": "6f574577-5099-411e-9932-8b1a202041b0",
   "metadata": {},
   "outputs": [],
   "source": []
  },
  {
   "cell_type": "code",
   "execution_count": null,
   "id": "5d0876f7-7709-4ca0-90fb-8d3ca6e67cb6",
   "metadata": {},
   "outputs": [],
   "source": []
  },
  {
   "cell_type": "code",
   "execution_count": 1,
   "id": "1b5b7cee-65ef-4435-982b-36c34bcbc877",
   "metadata": {},
   "outputs": [
    {
     "name": "stdout",
     "output_type": "stream",
     "text": [
      "['The Alchemist', 'The Catcher in the Rye']\n"
     ]
    }
   ],
   "source": [
    "# List of books\n",
    "books = [\n",
    "    {\"title\": \"The Alchemist\", \"genre\": \"Fiction\", \"year\": 1988},\n",
    "    {\"title\": \"To Kill a Mockingbird\", \"genre\": \"Fiction\", \"year\": 1960},\n",
    "    {\"title\": \"The Catcher in the Rye\", \"genre\": \"Fiction\", \"year\": 1985},\n",
    "    {\"title\": \"A Brief History of Time\", \"genre\": \"Science\", \"year\": 1988},\n",
    "    {\"title\": \"Sapiens\", \"genre\": \"History\", \"year\": 2011},\n",
    "    {\"title\": \"The Great Gatsby\", \"genre\": \"Fiction\", \"year\": 1925}\n",
    "]\n",
    "\n",
    "# Function to filter books by genre and year\n",
    "def filter_books(genre, year):\n",
    "    # Filtering the books based on genre and year\n",
    "    return [\n",
    "        book[\"title\"] for book in books\n",
    "        if book[\"genre\"] == genre and book[\"year\"] >= year\n",
    "    ]\n",
    "\n",
    "# Example usage\n",
    "print(filter_books(\"Fiction\", 1980))\n"
   ]
  },
  {
   "cell_type": "code",
   "execution_count": null,
   "id": "bcfbffdf-a6f7-4102-b45a-368713ae004d",
   "metadata": {},
   "outputs": [],
   "source": []
  },
  {
   "cell_type": "code",
   "execution_count": null,
   "id": "4a7bf42e-b037-45a9-b39c-e5d54f65c5c3",
   "metadata": {},
   "outputs": [],
   "source": []
  },
  {
   "cell_type": "code",
   "execution_count": null,
   "id": "e25cc562-5f39-4a13-92fa-57610413fc41",
   "metadata": {},
   "outputs": [],
   "source": []
  },
  {
   "cell_type": "markdown",
   "id": "7255482a-1da5-4cc6-85dd-023d0015febc",
   "metadata": {},
   "source": [
    "Task 02 : Write a Python program that uses a lambda expression to sort this list by publication year in ascending order. Print the sorted list of books."
   ]
  },
  {
   "cell_type": "code",
   "execution_count": null,
   "id": "56b82baa-1652-4e7f-803b-aee95ff3116e",
   "metadata": {},
   "outputs": [],
   "source": [
    "books = [\n",
    "    {\"title\": \"The Alchemist\", \"genre\": \"Fiction\", \"year\": 1988},\n",
    "    {\"title\": \"To Kill a Mockingbird\", \"genre\": \"Fiction\", \"year\": 1960},\n",
    "    {\"title\": \"The Catcher in the Rye\", \"genre\": \"Fiction\", \"year\": 1985},\n",
    "    {\"title\": \"A Brief History of Time\", \"genre\": \"Science\", \"year\": 1988},\n",
    "    {\"title\": \"Sapiens\", \"genre\": \"History\", \"year\": 2011},\n",
    "    {\"title\": \"The Great Gatsby\", \"genre\": \"Fiction\", \"year\": 1925}\n",
    "]\n",
    "\n",
    "sorted_books = sorted(books, key = lambda book:book[\"year\"])\n",
    "\n",
    "for book in sorted_books:\n",
    "    print(f\"{book['title']} ({book['year']})\")"
   ]
  }
 ],
 "metadata": {
  "kernelspec": {
   "display_name": "Python 3 (ipykernel)",
   "language": "python",
   "name": "python3"
  },
  "language_info": {
   "codemirror_mode": {
    "name": "ipython",
    "version": 3
   },
   "file_extension": ".py",
   "mimetype": "text/x-python",
   "name": "python",
   "nbconvert_exporter": "python",
   "pygments_lexer": "ipython3",
   "version": "3.12.7"
  }
 },
 "nbformat": 4,
 "nbformat_minor": 5
}
